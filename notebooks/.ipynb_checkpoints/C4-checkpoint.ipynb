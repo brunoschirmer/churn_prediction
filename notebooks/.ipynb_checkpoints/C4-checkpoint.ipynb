{
 "cells": [
  {
   "cell_type": "markdown",
   "metadata": {},
   "source": [
    "# 0.0 Imports"
   ]
  },
  {
   "cell_type": "code",
   "execution_count": 167,
   "metadata": {
    "ExecuteTime": {
     "end_time": "2022-06-06T16:46:19.340020Z",
     "start_time": "2022-06-06T16:46:19.333904Z"
    }
   },
   "outputs": [],
   "source": [
    "import seaborn           as sns\n",
    "import matplotlib.pyplot as plt\n",
    "import pandas            as pd\n",
    "import numpy             as np\n",
    "import inflection\n",
    "\n",
    "from IPython.display      import Image\n",
    "from IPython.core.display import HTML\n",
    "\n",
    "from fast_ml.model_development import train_valid_test_split\n",
    "\n",
    "from sklearn.preprocessing import RobustScaler, MinMaxScaler, StandardScaler\n",
    "import pickle\n",
    "\n",
    "# feature selection\n",
    "from boruta                    import BorutaPy\n",
    "from sklearn.feature_selection import RFECV\n",
    "from yellowbrick.features      import Rank1D\n",
    "\n",
    "# modeling\n",
    "from sklearn.ensemble    import RandomForestClassifier\n",
    "from sklearn.ensemble    import ExtraTreesClassifier\n",
    "from sklearn.naive_bayes import GaussianNB\n",
    "from sklearn             import base\n",
    "from sklearn             import linear_model as lm\n",
    "from sklearn             import neighbors    as nh\n",
    "import                          xgboost      as xgb\n",
    "from sklearn.linear_model    import LogisticRegression\n",
    "from sklearn.svm             import SVC\n",
    "from sklearn.dummy           import DummyClassifier\n",
    "\n",
    "# model selection\n",
    "from sklearn.model_selection import KFold\n",
    "from sklearn.model_selection import StratifiedKFold\n",
    "\n",
    "#metrics\n",
    "import scikitplot as skplt\n",
    "from   sklearn.metrics import precision_score, recall_score, accuracy_score, balanced_accuracy_score\n",
    "import sklearn.metrics   as m\n",
    "\n",
    "# tuning\n",
    "import optuna as op"
   ]
  },
  {
   "cell_type": "markdown",
   "metadata": {},
   "source": [
    "## 0.1 Helper functions"
   ]
  },
  {
   "cell_type": "code",
   "execution_count": 76,
   "metadata": {
    "ExecuteTime": {
     "end_time": "2022-06-02T21:21:13.709852Z",
     "start_time": "2022-06-02T21:21:13.701479Z"
    }
   },
   "outputs": [
    {
     "data": {
      "text/html": [
       "<style>.container { width:85% !important; }</style>"
      ],
      "text/plain": [
       "<IPython.core.display.HTML object>"
      ]
     },
     "metadata": {},
     "output_type": "display_data"
    }
   ],
   "source": [
    "def jupyter_settings():\n",
    "    %matplotlib inline\n",
    "    \n",
    "    plt.style.use( 'ggplot')\n",
    "    plt.rcParams['figure.figsize'] = [24, 9]\n",
    "    plt.rcParams['font.size'] = 24\n",
    "    \n",
    "    display( HTML( '<style>.container { width:85% !important; }</style>') )\n",
    "    pd.options.display.max_columns = None\n",
    "    pd.options.display.max_rows = None\n",
    "    pd.set_option( 'display.expand_frame_repr', False )\n",
    "    \n",
    "    sns.set()\n",
    "    \n",
    "jupyter_settings()"
   ]
  },
  {
   "cell_type": "code",
   "execution_count": 6,
   "metadata": {
    "ExecuteTime": {
     "end_time": "2022-06-02T20:52:11.524216Z",
     "start_time": "2022-06-02T20:52:11.518449Z"
    }
   },
   "outputs": [],
   "source": [
    "def get_summary(numerical_attributes):\n",
    "    \n",
    "    # Central Tendency - mean, meadina \n",
    "    ct1 = pd.DataFrame( numerical_attributes.apply( np.mean ) ).T\n",
    "    ct2 = pd.DataFrame( numerical_attributes.apply( np.median ) ).T\n",
    "\n",
    "    # dispersion - std, min, max, range, skew, kurtosis\n",
    "    d1 = pd.DataFrame( numerical_attributes.apply( np.std ) ).T \n",
    "    d2 = pd.DataFrame( numerical_attributes.apply( min ) ).T \n",
    "    d3 = pd.DataFrame( numerical_attributes.apply( max ) ).T \n",
    "    d4 = pd.DataFrame( numerical_attributes.apply( lambda x: x.max() - x.min() ) ).T \n",
    "    d5 = pd.DataFrame( numerical_attributes.apply( lambda x: x.skew() ) ).T \n",
    "    d6 = pd.DataFrame( numerical_attributes.apply( lambda x: x.kurtosis() ) ).T \n",
    "\n",
    "    # concatenar\n",
    "    m = pd.concat( [d2, d3, d4, ct1, ct2, d1, d5, d6] ).T.reset_index()\n",
    "    m.columns = ['attributes', 'min', 'max', 'range', 'mean', 'median', 'std', 'skew', 'kurtosis']\n",
    "    \n",
    "    return m"
   ]
  },
  {
   "cell_type": "code",
   "execution_count": 131,
   "metadata": {
    "ExecuteTime": {
     "end_time": "2022-06-05T21:47:21.264646Z",
     "start_time": "2022-06-05T21:47:21.254946Z"
    }
   },
   "outputs": [],
   "source": [
    "def ml_cv_results(model_name, model, x, y):\n",
    "    \n",
    "    '''initial'''\n",
    "    x_ = x.to_numpy()\n",
    "    y_ = y.to_numpy()\n",
    "    \n",
    "    balanced_accuracies = []\n",
    "    precisions = []\n",
    "    recalls = []\n",
    "    f1s = []\n",
    "    kappas = []\n",
    "    \n",
    "    \n",
    "    \n",
    "    '''cross-validation'''\n",
    "    skf = StratifiedKFold(n_splits=5, shuffle=True)\n",
    "    \n",
    "    for index_train, index_test in skf.split(x_, y_):\n",
    "       \n",
    "        ## selecting train and test\n",
    "        x_train, x_test = x.iloc[index_train], x.iloc[index_test]\n",
    "        y_train, y_test = y.iloc[index_train], y.iloc[index_test]\n",
    "    \n",
    "    \n",
    "        ## training the model\n",
    "        model.fit(x_train, y_train)\n",
    "        y_pred = model.predict(x_test)\n",
    "\n",
    "        ## saving the metrics\n",
    "        balanced_accuracies.append(m.balanced_accuracy_score(y_test, y_pred))\n",
    "        precisions.append(m.precision_score(y_test, y_pred))\n",
    "        recalls.append(m.recall_score(y_test, y_pred))\n",
    "        f1s.append(m.f1_score(y_test, y_pred))\n",
    "        kappas.append(m.cohen_kappa_score(y_test, y_pred))\n",
    "        \n",
    "        \n",
    "    '''results'''    \n",
    "    accuracy_mean, accuracy_std = np.round(np.mean(balanced_accuracies), 3), np.round(np.std(balanced_accuracies), 3)\n",
    "    precision_mean, precision_std = np.round(np.mean(precisions), 3), np.round(np.std(precisions), 3)\n",
    "    recall_mean, recall_std = np.round(np.mean(recalls), 3), np.round(np.std(recalls), 3)\n",
    "    f1_mean, f1_std = np.round(np.mean(f1s), 3), np.round(np.std(f1s), 3)\n",
    "    kappa_mean, kappa_std = np.round(np.mean(kappas), 3), np.round(np.std(kappas), 3)\n",
    "    \n",
    "    ## saving the results in a dataframe\n",
    "    return pd.DataFrame({\"Balanced Accuracy\": \"{} +/- {}\".format(accuracy_mean, accuracy_std),\n",
    "                        \"Precision\": \"{} +/- {}\".format(precision_mean, precision_std),\n",
    "                        \"Recall\": \"{} +/- {}\".format(recall_mean, recall_std),\n",
    "                        \"F1\": \"{} +/- {}\".format(f1_mean, f1_std),\n",
    "                        \"Kappa\": \"{} +/- {}\".format(kappa_mean, kappa_std)},\n",
    "                       index=[model_name])"
   ]
  },
  {
   "cell_type": "code",
   "execution_count": 8,
   "metadata": {
    "ExecuteTime": {
     "end_time": "2022-06-02T20:52:12.424614Z",
     "start_time": "2022-06-02T20:52:12.421600Z"
    }
   },
   "outputs": [],
   "source": [
    "def f1_score_metric(model_name, y_test, pred):\n",
    "    return pd.DataFrame({'Model Name': model_name,\n",
    "                        'F1 Score': f1_score(pred,y_test).round(3)}, index=[0])"
   ]
  },
  {
   "cell_type": "code",
   "execution_count": 9,
   "metadata": {
    "ExecuteTime": {
     "end_time": "2022-06-02T20:52:12.758236Z",
     "start_time": "2022-06-02T20:52:12.755252Z"
    }
   },
   "outputs": [],
   "source": [
    "#suppress scientific notation\n",
    "pd.set_option('display.float_format', lambda x: '%.2f' % x)"
   ]
  },
  {
   "cell_type": "code",
   "execution_count": 10,
   "metadata": {
    "ExecuteTime": {
     "end_time": "2022-06-02T20:52:13.208901Z",
     "start_time": "2022-06-02T20:52:13.204955Z"
    }
   },
   "outputs": [],
   "source": [
    "def categorical_metrics(data, col):\n",
    "    \"\"\"\n",
    "    Shows the the absolute and percent values in categorical variables.\n",
    "\n",
    "    Args:\n",
    "        data ([object]): Insert all categorical attributes in the dataset\n",
    "\n",
    "    Returns:\n",
    "        [dataframe]: A dataframe with absolute and percent values\n",
    "    \"\"\"\n",
    "    \n",
    "\n",
    "\n",
    "    return pd.DataFrame({'absolute': data[col].value_counts(), 'percent %': data[col].value_counts(normalize = True) * 100 })"
   ]
  },
  {
   "cell_type": "code",
   "execution_count": 121,
   "metadata": {
    "ExecuteTime": {
     "end_time": "2022-06-03T20:57:50.796964Z",
     "start_time": "2022-06-03T20:57:50.792303Z"
    }
   },
   "outputs": [],
   "source": [
    "def ml_scores(model_name, y_true, y_pred):\n",
    "    \n",
    "    accuracy = m.balanced_accuracy_score(y_true, y_pred)\n",
    "    precision = m.precision_score(y_true, y_pred)\n",
    "    recall = m.recall_score(y_true, y_pred)\n",
    "    f1 = m.f1_score(y_true, y_pred)\n",
    "    kappa = m.cohen_kappa_score(y_true, y_pred)\n",
    "    \n",
    "    return pd.DataFrame({'Balanced Accuracy': np.round(accuracy, 3), \n",
    "                         'Precision': np.round(precision, 3), \n",
    "                         'Recall': np.round(recall, 3),\n",
    "                         'F1': np.round(f1, 3),\n",
    "                         'Kappa': np.round(kappa, 3)}, index=[model_name])"
   ]
  },
  {
   "cell_type": "markdown",
   "metadata": {},
   "source": [
    "## 0.2 Load Data"
   ]
  },
  {
   "cell_type": "code",
   "execution_count": 11,
   "metadata": {
    "ExecuteTime": {
     "end_time": "2022-06-02T20:52:14.298761Z",
     "start_time": "2022-06-02T20:52:14.221526Z"
    }
   },
   "outputs": [],
   "source": [
    "df_raw = pd.read_csv('../data/raw/churn.csv')\n",
    "df_raw.drop('RowNumber', axis=1, inplace=True)"
   ]
  },
  {
   "cell_type": "markdown",
   "metadata": {
    "heading_collapsed": true
   },
   "source": [
    "# 1.0 Data Description"
   ]
  },
  {
   "cell_type": "code",
   "execution_count": 12,
   "metadata": {
    "ExecuteTime": {
     "end_time": "2022-06-02T20:52:15.422086Z",
     "start_time": "2022-06-02T20:52:15.408568Z"
    },
    "hidden": true
   },
   "outputs": [
    {
     "data": {
      "text/html": [
       "<div>\n",
       "<style scoped>\n",
       "    .dataframe tbody tr th:only-of-type {\n",
       "        vertical-align: middle;\n",
       "    }\n",
       "\n",
       "    .dataframe tbody tr th {\n",
       "        vertical-align: top;\n",
       "    }\n",
       "\n",
       "    .dataframe thead th {\n",
       "        text-align: right;\n",
       "    }\n",
       "</style>\n",
       "<table border=\"1\" class=\"dataframe\">\n",
       "  <thead>\n",
       "    <tr style=\"text-align: right;\">\n",
       "      <th></th>\n",
       "      <th>CustomerId</th>\n",
       "      <th>Surname</th>\n",
       "      <th>CreditScore</th>\n",
       "      <th>Geography</th>\n",
       "      <th>Gender</th>\n",
       "      <th>Age</th>\n",
       "      <th>Tenure</th>\n",
       "      <th>Balance</th>\n",
       "      <th>NumOfProducts</th>\n",
       "      <th>HasCrCard</th>\n",
       "      <th>IsActiveMember</th>\n",
       "      <th>EstimatedSalary</th>\n",
       "      <th>Exited</th>\n",
       "    </tr>\n",
       "  </thead>\n",
       "  <tbody>\n",
       "    <tr>\n",
       "      <th>0</th>\n",
       "      <td>15634602</td>\n",
       "      <td>Hargrave</td>\n",
       "      <td>619</td>\n",
       "      <td>France</td>\n",
       "      <td>Female</td>\n",
       "      <td>42</td>\n",
       "      <td>2</td>\n",
       "      <td>0.00</td>\n",
       "      <td>1</td>\n",
       "      <td>1</td>\n",
       "      <td>1</td>\n",
       "      <td>101348.88</td>\n",
       "      <td>1</td>\n",
       "    </tr>\n",
       "    <tr>\n",
       "      <th>1</th>\n",
       "      <td>15647311</td>\n",
       "      <td>Hill</td>\n",
       "      <td>608</td>\n",
       "      <td>Spain</td>\n",
       "      <td>Female</td>\n",
       "      <td>41</td>\n",
       "      <td>1</td>\n",
       "      <td>83807.86</td>\n",
       "      <td>1</td>\n",
       "      <td>0</td>\n",
       "      <td>1</td>\n",
       "      <td>112542.58</td>\n",
       "      <td>0</td>\n",
       "    </tr>\n",
       "    <tr>\n",
       "      <th>2</th>\n",
       "      <td>15619304</td>\n",
       "      <td>Onio</td>\n",
       "      <td>502</td>\n",
       "      <td>France</td>\n",
       "      <td>Female</td>\n",
       "      <td>42</td>\n",
       "      <td>8</td>\n",
       "      <td>159660.80</td>\n",
       "      <td>3</td>\n",
       "      <td>1</td>\n",
       "      <td>0</td>\n",
       "      <td>113931.57</td>\n",
       "      <td>1</td>\n",
       "    </tr>\n",
       "    <tr>\n",
       "      <th>3</th>\n",
       "      <td>15701354</td>\n",
       "      <td>Boni</td>\n",
       "      <td>699</td>\n",
       "      <td>France</td>\n",
       "      <td>Female</td>\n",
       "      <td>39</td>\n",
       "      <td>1</td>\n",
       "      <td>0.00</td>\n",
       "      <td>2</td>\n",
       "      <td>0</td>\n",
       "      <td>0</td>\n",
       "      <td>93826.63</td>\n",
       "      <td>0</td>\n",
       "    </tr>\n",
       "    <tr>\n",
       "      <th>4</th>\n",
       "      <td>15737888</td>\n",
       "      <td>Mitchell</td>\n",
       "      <td>850</td>\n",
       "      <td>Spain</td>\n",
       "      <td>Female</td>\n",
       "      <td>43</td>\n",
       "      <td>2</td>\n",
       "      <td>125510.82</td>\n",
       "      <td>1</td>\n",
       "      <td>1</td>\n",
       "      <td>1</td>\n",
       "      <td>79084.10</td>\n",
       "      <td>0</td>\n",
       "    </tr>\n",
       "  </tbody>\n",
       "</table>\n",
       "</div>"
      ],
      "text/plain": [
       "   CustomerId   Surname  CreditScore Geography  Gender  Age  Tenure   Balance  NumOfProducts  HasCrCard  IsActiveMember  EstimatedSalary  Exited\n",
       "0    15634602  Hargrave          619    France  Female   42       2      0.00              1          1               1        101348.88       1\n",
       "1    15647311      Hill          608     Spain  Female   41       1  83807.86              1          0               1        112542.58       0\n",
       "2    15619304      Onio          502    France  Female   42       8 159660.80              3          1               0        113931.57       1\n",
       "3    15701354      Boni          699    France  Female   39       1      0.00              2          0               0         93826.63       0\n",
       "4    15737888  Mitchell          850     Spain  Female   43       2 125510.82              1          1               1         79084.10       0"
      ]
     },
     "execution_count": 12,
     "metadata": {},
     "output_type": "execute_result"
    }
   ],
   "source": [
    "df1 = df_raw.copy()\n",
    "df1.head()"
   ]
  },
  {
   "cell_type": "markdown",
   "metadata": {
    "hidden": true
   },
   "source": [
    "## 1.1 Data dimension"
   ]
  },
  {
   "cell_type": "code",
   "execution_count": 13,
   "metadata": {
    "ExecuteTime": {
     "end_time": "2022-06-02T20:52:18.071401Z",
     "start_time": "2022-06-02T20:52:18.067417Z"
    },
    "hidden": true
   },
   "outputs": [
    {
     "name": "stdout",
     "output_type": "stream",
     "text": [
      "Number of rows: 10000\n",
      "Number of columns: 13\n"
     ]
    }
   ],
   "source": [
    "print('Number of rows: {}'.format(df1.shape[0]))\n",
    "print('Number of columns: {}'.format(df1.shape[1]))"
   ]
  },
  {
   "cell_type": "markdown",
   "metadata": {
    "hidden": true
   },
   "source": [
    "## 1.2 Rename Columns"
   ]
  },
  {
   "cell_type": "code",
   "execution_count": 14,
   "metadata": {
    "ExecuteTime": {
     "end_time": "2022-06-02T20:52:43.948180Z",
     "start_time": "2022-06-02T20:52:43.941919Z"
    },
    "hidden": true
   },
   "outputs": [
    {
     "data": {
      "text/plain": [
       "Index(['customer_id', 'surname', 'credit_score', 'geography', 'gender', 'age',\n",
       "       'tenure', 'balance', 'num_of_products', 'has_cr_card',\n",
       "       'is_active_member', 'estimated_salary', 'exited'],\n",
       "      dtype='object')"
      ]
     },
     "execution_count": 14,
     "metadata": {},
     "output_type": "execute_result"
    }
   ],
   "source": [
    "cols_old = df1.columns.to_list()\n",
    "\n",
    "snakecase = lambda x: inflection.underscore(x)\n",
    "\n",
    "cols_new = list(map(snakecase, cols_old))\n",
    "\n",
    "#rename\n",
    "df1.columns = cols_new\n",
    "df1.columns"
   ]
  },
  {
   "cell_type": "markdown",
   "metadata": {
    "hidden": true
   },
   "source": [
    "## 1.3 Data Types"
   ]
  },
  {
   "cell_type": "code",
   "execution_count": 15,
   "metadata": {
    "ExecuteTime": {
     "end_time": "2022-06-02T20:52:45.341086Z",
     "start_time": "2022-06-02T20:52:45.335876Z"
    },
    "hidden": true
   },
   "outputs": [
    {
     "data": {
      "text/plain": [
       "customer_id           int64\n",
       "surname              object\n",
       "credit_score          int64\n",
       "geography            object\n",
       "gender               object\n",
       "age                   int64\n",
       "tenure                int64\n",
       "balance             float64\n",
       "num_of_products       int64\n",
       "has_cr_card           int64\n",
       "is_active_member      int64\n",
       "estimated_salary    float64\n",
       "exited                int64\n",
       "dtype: object"
      ]
     },
     "execution_count": 15,
     "metadata": {},
     "output_type": "execute_result"
    }
   ],
   "source": [
    "df1.dtypes"
   ]
  },
  {
   "cell_type": "markdown",
   "metadata": {
    "hidden": true
   },
   "source": [
    "## 1.4 Check NAs"
   ]
  },
  {
   "cell_type": "code",
   "execution_count": 16,
   "metadata": {
    "ExecuteTime": {
     "end_time": "2022-06-02T20:52:46.206210Z",
     "start_time": "2022-06-02T20:52:46.195376Z"
    },
    "hidden": true
   },
   "outputs": [
    {
     "data": {
      "text/plain": [
       "customer_id         0\n",
       "surname             0\n",
       "credit_score        0\n",
       "geography           0\n",
       "gender              0\n",
       "age                 0\n",
       "tenure              0\n",
       "balance             0\n",
       "num_of_products     0\n",
       "has_cr_card         0\n",
       "is_active_member    0\n",
       "estimated_salary    0\n",
       "exited              0\n",
       "dtype: int64"
      ]
     },
     "execution_count": 16,
     "metadata": {},
     "output_type": "execute_result"
    }
   ],
   "source": [
    "df1.isna().sum()"
   ]
  },
  {
   "cell_type": "markdown",
   "metadata": {
    "ExecuteTime": {
     "end_time": "2022-05-31T21:08:16.159356Z",
     "start_time": "2022-05-31T21:08:16.156753Z"
    },
    "hidden": true
   },
   "source": [
    "## 1.5 Descriptive Statistics"
   ]
  },
  {
   "cell_type": "code",
   "execution_count": 17,
   "metadata": {
    "ExecuteTime": {
     "end_time": "2022-06-02T20:52:46.905847Z",
     "start_time": "2022-06-02T20:52:46.902147Z"
    },
    "hidden": true
   },
   "outputs": [],
   "source": [
    "num_attributes = df1.select_dtypes( include = [ 'int64', 'float64'] )\n",
    "cat_attributes = df1.select_dtypes( exclude=['int64', 'float64', 'datetime64[ns]'] )"
   ]
  },
  {
   "cell_type": "code",
   "execution_count": 18,
   "metadata": {
    "ExecuteTime": {
     "end_time": "2022-06-02T20:52:47.219465Z",
     "start_time": "2022-06-02T20:52:47.173443Z"
    },
    "hidden": true
   },
   "outputs": [
    {
     "data": {
      "text/html": [
       "<div>\n",
       "<style scoped>\n",
       "    .dataframe tbody tr th:only-of-type {\n",
       "        vertical-align: middle;\n",
       "    }\n",
       "\n",
       "    .dataframe tbody tr th {\n",
       "        vertical-align: top;\n",
       "    }\n",
       "\n",
       "    .dataframe thead th {\n",
       "        text-align: right;\n",
       "    }\n",
       "</style>\n",
       "<table border=\"1\" class=\"dataframe\">\n",
       "  <thead>\n",
       "    <tr style=\"text-align: right;\">\n",
       "      <th></th>\n",
       "      <th>attributes</th>\n",
       "      <th>min</th>\n",
       "      <th>max</th>\n",
       "      <th>range</th>\n",
       "      <th>mean</th>\n",
       "      <th>median</th>\n",
       "      <th>std</th>\n",
       "      <th>skew</th>\n",
       "      <th>kurtosis</th>\n",
       "    </tr>\n",
       "  </thead>\n",
       "  <tbody>\n",
       "    <tr>\n",
       "      <th>0</th>\n",
       "      <td>customer_id</td>\n",
       "      <td>15565701.00</td>\n",
       "      <td>15815690.00</td>\n",
       "      <td>249989.00</td>\n",
       "      <td>15690940.57</td>\n",
       "      <td>15690738.00</td>\n",
       "      <td>71932.59</td>\n",
       "      <td>0.00</td>\n",
       "      <td>-1.20</td>\n",
       "    </tr>\n",
       "    <tr>\n",
       "      <th>1</th>\n",
       "      <td>credit_score</td>\n",
       "      <td>350.00</td>\n",
       "      <td>850.00</td>\n",
       "      <td>500.00</td>\n",
       "      <td>650.53</td>\n",
       "      <td>652.00</td>\n",
       "      <td>96.65</td>\n",
       "      <td>-0.07</td>\n",
       "      <td>-0.43</td>\n",
       "    </tr>\n",
       "    <tr>\n",
       "      <th>2</th>\n",
       "      <td>age</td>\n",
       "      <td>18.00</td>\n",
       "      <td>92.00</td>\n",
       "      <td>74.00</td>\n",
       "      <td>38.92</td>\n",
       "      <td>37.00</td>\n",
       "      <td>10.49</td>\n",
       "      <td>1.01</td>\n",
       "      <td>1.40</td>\n",
       "    </tr>\n",
       "    <tr>\n",
       "      <th>3</th>\n",
       "      <td>tenure</td>\n",
       "      <td>0.00</td>\n",
       "      <td>10.00</td>\n",
       "      <td>10.00</td>\n",
       "      <td>5.01</td>\n",
       "      <td>5.00</td>\n",
       "      <td>2.89</td>\n",
       "      <td>0.01</td>\n",
       "      <td>-1.17</td>\n",
       "    </tr>\n",
       "    <tr>\n",
       "      <th>4</th>\n",
       "      <td>balance</td>\n",
       "      <td>0.00</td>\n",
       "      <td>250898.09</td>\n",
       "      <td>250898.09</td>\n",
       "      <td>76485.89</td>\n",
       "      <td>97198.54</td>\n",
       "      <td>62394.29</td>\n",
       "      <td>-0.14</td>\n",
       "      <td>-1.49</td>\n",
       "    </tr>\n",
       "    <tr>\n",
       "      <th>5</th>\n",
       "      <td>num_of_products</td>\n",
       "      <td>1.00</td>\n",
       "      <td>4.00</td>\n",
       "      <td>3.00</td>\n",
       "      <td>1.53</td>\n",
       "      <td>1.00</td>\n",
       "      <td>0.58</td>\n",
       "      <td>0.75</td>\n",
       "      <td>0.58</td>\n",
       "    </tr>\n",
       "    <tr>\n",
       "      <th>6</th>\n",
       "      <td>has_cr_card</td>\n",
       "      <td>0.00</td>\n",
       "      <td>1.00</td>\n",
       "      <td>1.00</td>\n",
       "      <td>0.71</td>\n",
       "      <td>1.00</td>\n",
       "      <td>0.46</td>\n",
       "      <td>-0.90</td>\n",
       "      <td>-1.19</td>\n",
       "    </tr>\n",
       "    <tr>\n",
       "      <th>7</th>\n",
       "      <td>is_active_member</td>\n",
       "      <td>0.00</td>\n",
       "      <td>1.00</td>\n",
       "      <td>1.00</td>\n",
       "      <td>0.52</td>\n",
       "      <td>1.00</td>\n",
       "      <td>0.50</td>\n",
       "      <td>-0.06</td>\n",
       "      <td>-2.00</td>\n",
       "    </tr>\n",
       "    <tr>\n",
       "      <th>8</th>\n",
       "      <td>estimated_salary</td>\n",
       "      <td>11.58</td>\n",
       "      <td>199992.48</td>\n",
       "      <td>199980.90</td>\n",
       "      <td>100090.24</td>\n",
       "      <td>100193.91</td>\n",
       "      <td>57507.62</td>\n",
       "      <td>0.00</td>\n",
       "      <td>-1.18</td>\n",
       "    </tr>\n",
       "    <tr>\n",
       "      <th>9</th>\n",
       "      <td>exited</td>\n",
       "      <td>0.00</td>\n",
       "      <td>1.00</td>\n",
       "      <td>1.00</td>\n",
       "      <td>0.20</td>\n",
       "      <td>0.00</td>\n",
       "      <td>0.40</td>\n",
       "      <td>1.47</td>\n",
       "      <td>0.17</td>\n",
       "    </tr>\n",
       "  </tbody>\n",
       "</table>\n",
       "</div>"
      ],
      "text/plain": [
       "         attributes         min         max     range        mean      median      std  skew  kurtosis\n",
       "0       customer_id 15565701.00 15815690.00 249989.00 15690940.57 15690738.00 71932.59  0.00     -1.20\n",
       "1      credit_score      350.00      850.00    500.00      650.53      652.00    96.65 -0.07     -0.43\n",
       "2               age       18.00       92.00     74.00       38.92       37.00    10.49  1.01      1.40\n",
       "3            tenure        0.00       10.00     10.00        5.01        5.00     2.89  0.01     -1.17\n",
       "4           balance        0.00   250898.09 250898.09    76485.89    97198.54 62394.29 -0.14     -1.49\n",
       "5   num_of_products        1.00        4.00      3.00        1.53        1.00     0.58  0.75      0.58\n",
       "6       has_cr_card        0.00        1.00      1.00        0.71        1.00     0.46 -0.90     -1.19\n",
       "7  is_active_member        0.00        1.00      1.00        0.52        1.00     0.50 -0.06     -2.00\n",
       "8  estimated_salary       11.58   199992.48 199980.90   100090.24   100193.91 57507.62  0.00     -1.18\n",
       "9            exited        0.00        1.00      1.00        0.20        0.00     0.40  1.47      0.17"
      ]
     },
     "execution_count": 18,
     "metadata": {},
     "output_type": "execute_result"
    }
   ],
   "source": [
    "get_summary(num_attributes)"
   ]
  },
  {
   "cell_type": "code",
   "execution_count": 19,
   "metadata": {
    "ExecuteTime": {
     "end_time": "2022-06-02T20:52:47.430638Z",
     "start_time": "2022-06-02T20:52:47.423210Z"
    },
    "hidden": true
   },
   "outputs": [
    {
     "data": {
      "text/plain": [
       "surname      2932\n",
       "geography       3\n",
       "gender          2\n",
       "dtype: int64"
      ]
     },
     "execution_count": 19,
     "metadata": {},
     "output_type": "execute_result"
    }
   ],
   "source": [
    "cat_attributes.apply( lambda x: x.unique().shape[0] )"
   ]
  },
  {
   "cell_type": "markdown",
   "metadata": {
    "heading_collapsed": true
   },
   "source": [
    "# 2.0 Feature Engeenering"
   ]
  },
  {
   "cell_type": "code",
   "execution_count": 20,
   "metadata": {
    "ExecuteTime": {
     "end_time": "2022-06-02T20:52:48.211656Z",
     "start_time": "2022-06-02T20:52:48.208408Z"
    },
    "hidden": true
   },
   "outputs": [],
   "source": [
    "df2 = df1.copy()"
   ]
  },
  {
   "cell_type": "code",
   "execution_count": 21,
   "metadata": {
    "ExecuteTime": {
     "end_time": "2022-06-02T20:52:48.610992Z",
     "start_time": "2022-06-02T20:52:48.608669Z"
    },
    "hidden": true
   },
   "outputs": [],
   "source": [
    "# get feature of bined ages"
   ]
  },
  {
   "cell_type": "markdown",
   "metadata": {
    "heading_collapsed": true
   },
   "source": [
    "# 3.0 Feature Filtering"
   ]
  },
  {
   "cell_type": "code",
   "execution_count": 22,
   "metadata": {
    "ExecuteTime": {
     "end_time": "2022-06-02T20:52:50.020033Z",
     "start_time": "2022-06-02T20:52:50.016655Z"
    },
    "hidden": true
   },
   "outputs": [],
   "source": [
    "df3 = df2.copy()"
   ]
  },
  {
   "cell_type": "code",
   "execution_count": 23,
   "metadata": {
    "ExecuteTime": {
     "end_time": "2022-06-02T20:52:50.526492Z",
     "start_time": "2022-06-02T20:52:50.522390Z"
    },
    "hidden": true
   },
   "outputs": [],
   "source": [
    "df3.drop(['customer_id','surname'], axis=1, inplace=True)"
   ]
  },
  {
   "cell_type": "code",
   "execution_count": 24,
   "metadata": {
    "ExecuteTime": {
     "end_time": "2022-06-02T20:52:51.170978Z",
     "start_time": "2022-06-02T20:52:51.161541Z"
    },
    "hidden": true
   },
   "outputs": [
    {
     "data": {
      "text/html": [
       "<div>\n",
       "<style scoped>\n",
       "    .dataframe tbody tr th:only-of-type {\n",
       "        vertical-align: middle;\n",
       "    }\n",
       "\n",
       "    .dataframe tbody tr th {\n",
       "        vertical-align: top;\n",
       "    }\n",
       "\n",
       "    .dataframe thead th {\n",
       "        text-align: right;\n",
       "    }\n",
       "</style>\n",
       "<table border=\"1\" class=\"dataframe\">\n",
       "  <thead>\n",
       "    <tr style=\"text-align: right;\">\n",
       "      <th></th>\n",
       "      <th>credit_score</th>\n",
       "      <th>geography</th>\n",
       "      <th>gender</th>\n",
       "      <th>age</th>\n",
       "      <th>tenure</th>\n",
       "      <th>balance</th>\n",
       "      <th>num_of_products</th>\n",
       "      <th>has_cr_card</th>\n",
       "      <th>is_active_member</th>\n",
       "      <th>estimated_salary</th>\n",
       "      <th>exited</th>\n",
       "    </tr>\n",
       "  </thead>\n",
       "  <tbody>\n",
       "    <tr>\n",
       "      <th>0</th>\n",
       "      <td>619</td>\n",
       "      <td>France</td>\n",
       "      <td>Female</td>\n",
       "      <td>42</td>\n",
       "      <td>2</td>\n",
       "      <td>0.00</td>\n",
       "      <td>1</td>\n",
       "      <td>1</td>\n",
       "      <td>1</td>\n",
       "      <td>101348.88</td>\n",
       "      <td>1</td>\n",
       "    </tr>\n",
       "    <tr>\n",
       "      <th>1</th>\n",
       "      <td>608</td>\n",
       "      <td>Spain</td>\n",
       "      <td>Female</td>\n",
       "      <td>41</td>\n",
       "      <td>1</td>\n",
       "      <td>83807.86</td>\n",
       "      <td>1</td>\n",
       "      <td>0</td>\n",
       "      <td>1</td>\n",
       "      <td>112542.58</td>\n",
       "      <td>0</td>\n",
       "    </tr>\n",
       "    <tr>\n",
       "      <th>2</th>\n",
       "      <td>502</td>\n",
       "      <td>France</td>\n",
       "      <td>Female</td>\n",
       "      <td>42</td>\n",
       "      <td>8</td>\n",
       "      <td>159660.80</td>\n",
       "      <td>3</td>\n",
       "      <td>1</td>\n",
       "      <td>0</td>\n",
       "      <td>113931.57</td>\n",
       "      <td>1</td>\n",
       "    </tr>\n",
       "    <tr>\n",
       "      <th>3</th>\n",
       "      <td>699</td>\n",
       "      <td>France</td>\n",
       "      <td>Female</td>\n",
       "      <td>39</td>\n",
       "      <td>1</td>\n",
       "      <td>0.00</td>\n",
       "      <td>2</td>\n",
       "      <td>0</td>\n",
       "      <td>0</td>\n",
       "      <td>93826.63</td>\n",
       "      <td>0</td>\n",
       "    </tr>\n",
       "    <tr>\n",
       "      <th>4</th>\n",
       "      <td>850</td>\n",
       "      <td>Spain</td>\n",
       "      <td>Female</td>\n",
       "      <td>43</td>\n",
       "      <td>2</td>\n",
       "      <td>125510.82</td>\n",
       "      <td>1</td>\n",
       "      <td>1</td>\n",
       "      <td>1</td>\n",
       "      <td>79084.10</td>\n",
       "      <td>0</td>\n",
       "    </tr>\n",
       "  </tbody>\n",
       "</table>\n",
       "</div>"
      ],
      "text/plain": [
       "   credit_score geography  gender  age  tenure   balance  num_of_products  has_cr_card  is_active_member  estimated_salary  exited\n",
       "0           619    France  Female   42       2      0.00                1            1                 1         101348.88       1\n",
       "1           608     Spain  Female   41       1  83807.86                1            0                 1         112542.58       0\n",
       "2           502    France  Female   42       8 159660.80                3            1                 0         113931.57       1\n",
       "3           699    France  Female   39       1      0.00                2            0                 0          93826.63       0\n",
       "4           850     Spain  Female   43       2 125510.82                1            1                 1          79084.10       0"
      ]
     },
     "execution_count": 24,
     "metadata": {},
     "output_type": "execute_result"
    }
   ],
   "source": [
    "df3.head()"
   ]
  },
  {
   "cell_type": "markdown",
   "metadata": {
    "ExecuteTime": {
     "end_time": "2022-05-31T21:10:50.799325Z",
     "start_time": "2022-05-31T21:10:50.796861Z"
    },
    "heading_collapsed": true
   },
   "source": [
    "# 4.0 Exploratory Data Analysis"
   ]
  },
  {
   "cell_type": "code",
   "execution_count": 25,
   "metadata": {
    "ExecuteTime": {
     "end_time": "2022-06-02T20:52:52.152976Z",
     "start_time": "2022-06-02T20:52:52.149981Z"
    },
    "hidden": true
   },
   "outputs": [],
   "source": [
    "df4 = df3.copy()"
   ]
  },
  {
   "cell_type": "markdown",
   "metadata": {
    "hidden": true
   },
   "source": [
    "## 4.1 Univariate Analysis"
   ]
  },
  {
   "cell_type": "markdown",
   "metadata": {
    "hidden": true
   },
   "source": [
    "### 4.1.1 Target Variable"
   ]
  },
  {
   "cell_type": "code",
   "execution_count": 26,
   "metadata": {
    "ExecuteTime": {
     "end_time": "2022-06-02T20:52:53.413248Z",
     "start_time": "2022-06-02T20:52:53.246624Z"
    },
    "hidden": true
   },
   "outputs": [
    {
     "data": {
      "image/png": "[encoded data removed]",
      "text/plain": [
       "<Figure size 1728x648 with 1 Axes>"
      ]
     },
     "metadata": {},
     "output_type": "display_data"
    }
   ],
   "source": [
    "sns.countplot(x='exited', data=df4);"
   ]
  },
  {
   "cell_type": "code",
   "execution_count": 27,
   "metadata": {
    "ExecuteTime": {
     "end_time": "2022-06-02T20:52:53.675836Z",
     "start_time": "2022-06-02T20:52:53.668903Z"
    },
    "hidden": true
   },
   "outputs": [
    {
     "data": {
      "text/html": [
       "<div>\n",
       "<style scoped>\n",
       "    .dataframe tbody tr th:only-of-type {\n",
       "        vertical-align: middle;\n",
       "    }\n",
       "\n",
       "    .dataframe tbody tr th {\n",
       "        vertical-align: top;\n",
       "    }\n",
       "\n",
       "    .dataframe thead th {\n",
       "        text-align: right;\n",
       "    }\n",
       "</style>\n",
       "<table border=\"1\" class=\"dataframe\">\n",
       "  <thead>\n",
       "    <tr style=\"text-align: right;\">\n",
       "      <th></th>\n",
       "      <th>absolute</th>\n",
       "      <th>percent %</th>\n",
       "    </tr>\n",
       "  </thead>\n",
       "  <tbody>\n",
       "    <tr>\n",
       "      <th>0</th>\n",
       "      <td>7963</td>\n",
       "      <td>79.63</td>\n",
       "    </tr>\n",
       "    <tr>\n",
       "      <th>1</th>\n",
       "      <td>2037</td>\n",
       "      <td>20.37</td>\n",
       "    </tr>\n",
       "  </tbody>\n",
       "</table>\n",
       "</div>"
      ],
      "text/plain": [
       "   absolute  percent %\n",
       "0      7963      79.63\n",
       "1      2037      20.37"
      ]
     },
     "execution_count": 27,
     "metadata": {},
     "output_type": "execute_result"
    }
   ],
   "source": [
    "categorical_metrics(df4, 'exited')"
   ]
  },
  {
   "cell_type": "markdown",
   "metadata": {
    "hidden": true
   },
   "source": [
    "### 4.1.2 Numerical Variables"
   ]
  },
  {
   "cell_type": "code",
   "execution_count": 28,
   "metadata": {
    "ExecuteTime": {
     "end_time": "2022-06-02T20:52:56.199429Z",
     "start_time": "2022-06-02T20:52:54.458490Z"
    },
    "hidden": true
   },
   "outputs": [
    {
     "data": {
      "image/png": "[encoded data removed]",
      "text/plain": [
       "<Figure size 1728x648 with 9 Axes>"
      ]
     },
     "metadata": {},
     "output_type": "display_data"
    }
   ],
   "source": [
    "num_attributes = df4.select_dtypes(exclude='object')\n",
    "columns = num_attributes.columns;\n",
    "j = 1\n",
    "\n",
    "for i in columns:\n",
    "    plt.subplot(3, 3, j)\n",
    "    sns.histplot(x=i, data=df4, kde=True, bins=30);\n",
    "    \n",
    "    j += 1"
   ]
  },
  {
   "cell_type": "markdown",
   "metadata": {
    "ExecuteTime": {
     "end_time": "2022-05-31T21:41:25.618213Z",
     "start_time": "2022-05-31T21:41:25.615534Z"
    },
    "hidden": true
   },
   "source": [
    "### 4.1.3 Categorical Variables"
   ]
  },
  {
   "cell_type": "code",
   "execution_count": 29,
   "metadata": {
    "ExecuteTime": {
     "end_time": "2022-06-02T20:52:56.608192Z",
     "start_time": "2022-06-02T20:52:56.201461Z"
    },
    "hidden": true
   },
   "outputs": [
    {
     "data": {
      "image/png": "[encoded data removed]",
      "text/plain": [
       "<Figure size 1728x648 with 5 Axes>"
      ]
     },
     "metadata": {},
     "output_type": "display_data"
    }
   ],
   "source": [
    "columns = ['geography', 'gender', 'has_cr_card', 'is_active_member', 'exited']\n",
    "j = 1\n",
    "\n",
    "for i in columns:\n",
    "    plt.subplot(3, 2, j)\n",
    "    sns.countplot(x=i, data=df4);\n",
    "    j += 1"
   ]
  },
  {
   "cell_type": "markdown",
   "metadata": {
    "hidden": true
   },
   "source": [
    "## 4.2 Multivariate Analysis"
   ]
  },
  {
   "cell_type": "code",
   "execution_count": 30,
   "metadata": {
    "ExecuteTime": {
     "end_time": "2022-06-02T20:52:57.151898Z",
     "start_time": "2022-06-02T20:52:56.609836Z"
    },
    "hidden": true
   },
   "outputs": [
    {
     "data": {
      "text/plain": [
       "<AxesSubplot:>"
      ]
     },
     "execution_count": 30,
     "metadata": {},
     "output_type": "execute_result"
    },
    {
     "data": {
      "image/png": "[encoded data removed]",
      "text/plain": [
       "<Figure size 1728x648 with 2 Axes>"
      ]
     },
     "metadata": {},
     "output_type": "display_data"
    }
   ],
   "source": [
    "num_attr = df4.select_dtypes( include = ['int64' , 'float64'] )\n",
    "sns.heatmap( num_attr.corr(method='pearson'), annot=True)"
   ]
  },
  {
   "cell_type": "markdown",
   "metadata": {
    "ExecuteTime": {
     "end_time": "2022-05-31T21:42:01.623666Z",
     "start_time": "2022-05-31T21:42:01.620881Z"
    },
    "hidden": true
   },
   "source": [
    "## 4.3 Bivariate Analysis"
   ]
  },
  {
   "cell_type": "markdown",
   "metadata": {
    "ExecuteTime": {
     "end_time": "2022-05-31T21:54:33.714628Z",
     "start_time": "2022-05-31T21:54:33.710122Z"
    },
    "hidden": true
   },
   "source": [
    "H1: People who receive a salary below the average salary are more likely to Churn\n",
    "H2: People with less products purchased are more likely to Churn\n",
    "H3: Younger people are more likely to Churn\n",
    "H4: Credit card customers are more active.\n",
    "H5: People who don't have a credit card are more likely to Churn"
   ]
  },
  {
   "cell_type": "markdown",
   "metadata": {
    "ExecuteTime": {
     "end_time": "2022-05-31T21:53:20.140733Z",
     "start_time": "2022-05-31T21:53:20.138348Z"
    },
    "hidden": true
   },
   "source": [
    "### H1: People who receive a salary below the average salary are more likely to Churn"
   ]
  },
  {
   "cell_type": "code",
   "execution_count": 31,
   "metadata": {
    "ExecuteTime": {
     "end_time": "2022-06-02T20:52:58.076901Z",
     "start_time": "2022-06-02T20:52:58.074133Z"
    },
    "hidden": true
   },
   "outputs": [],
   "source": [
    "#False, they have relatively the same median salary."
   ]
  },
  {
   "cell_type": "code",
   "execution_count": 32,
   "metadata": {
    "ExecuteTime": {
     "end_time": "2022-06-02T20:52:58.654508Z",
     "start_time": "2022-06-02T20:52:58.493171Z"
    },
    "hidden": true
   },
   "outputs": [
    {
     "data": {
      "image/png": "[encoded data removed]",
      "text/plain": [
       "<Figure size 1728x648 with 1 Axes>"
      ]
     },
     "metadata": {},
     "output_type": "display_data"
    }
   ],
   "source": [
    "sns.boxplot(x='exited', y='estimated_salary', data=df4);"
   ]
  },
  {
   "cell_type": "markdown",
   "metadata": {
    "hidden": true
   },
   "source": [
    "### H2: People with less products purchased are more likely to Churn"
   ]
  },
  {
   "cell_type": "code",
   "execution_count": 33,
   "metadata": {
    "ExecuteTime": {
     "end_time": "2022-06-02T20:52:59.476117Z",
     "start_time": "2022-06-02T20:52:59.466554Z"
    },
    "hidden": true
   },
   "outputs": [
    {
     "data": {
      "text/html": [
       "<div>\n",
       "<style scoped>\n",
       "    .dataframe tbody tr th:only-of-type {\n",
       "        vertical-align: middle;\n",
       "    }\n",
       "\n",
       "    .dataframe tbody tr th {\n",
       "        vertical-align: top;\n",
       "    }\n",
       "\n",
       "    .dataframe thead th {\n",
       "        text-align: right;\n",
       "    }\n",
       "</style>\n",
       "<table border=\"1\" class=\"dataframe\">\n",
       "  <thead>\n",
       "    <tr style=\"text-align: right;\">\n",
       "      <th></th>\n",
       "      <th>credit_score</th>\n",
       "      <th>geography</th>\n",
       "      <th>gender</th>\n",
       "      <th>age</th>\n",
       "      <th>tenure</th>\n",
       "      <th>balance</th>\n",
       "      <th>num_of_products</th>\n",
       "      <th>has_cr_card</th>\n",
       "      <th>is_active_member</th>\n",
       "      <th>estimated_salary</th>\n",
       "      <th>exited</th>\n",
       "    </tr>\n",
       "  </thead>\n",
       "  <tbody>\n",
       "    <tr>\n",
       "      <th>0</th>\n",
       "      <td>619</td>\n",
       "      <td>France</td>\n",
       "      <td>Female</td>\n",
       "      <td>42</td>\n",
       "      <td>2</td>\n",
       "      <td>0.00</td>\n",
       "      <td>1</td>\n",
       "      <td>1</td>\n",
       "      <td>1</td>\n",
       "      <td>101348.88</td>\n",
       "      <td>1</td>\n",
       "    </tr>\n",
       "    <tr>\n",
       "      <th>1</th>\n",
       "      <td>608</td>\n",
       "      <td>Spain</td>\n",
       "      <td>Female</td>\n",
       "      <td>41</td>\n",
       "      <td>1</td>\n",
       "      <td>83807.86</td>\n",
       "      <td>1</td>\n",
       "      <td>0</td>\n",
       "      <td>1</td>\n",
       "      <td>112542.58</td>\n",
       "      <td>0</td>\n",
       "    </tr>\n",
       "    <tr>\n",
       "      <th>2</th>\n",
       "      <td>502</td>\n",
       "      <td>France</td>\n",
       "      <td>Female</td>\n",
       "      <td>42</td>\n",
       "      <td>8</td>\n",
       "      <td>159660.80</td>\n",
       "      <td>3</td>\n",
       "      <td>1</td>\n",
       "      <td>0</td>\n",
       "      <td>113931.57</td>\n",
       "      <td>1</td>\n",
       "    </tr>\n",
       "    <tr>\n",
       "      <th>3</th>\n",
       "      <td>699</td>\n",
       "      <td>France</td>\n",
       "      <td>Female</td>\n",
       "      <td>39</td>\n",
       "      <td>1</td>\n",
       "      <td>0.00</td>\n",
       "      <td>2</td>\n",
       "      <td>0</td>\n",
       "      <td>0</td>\n",
       "      <td>93826.63</td>\n",
       "      <td>0</td>\n",
       "    </tr>\n",
       "    <tr>\n",
       "      <th>4</th>\n",
       "      <td>850</td>\n",
       "      <td>Spain</td>\n",
       "      <td>Female</td>\n",
       "      <td>43</td>\n",
       "      <td>2</td>\n",
       "      <td>125510.82</td>\n",
       "      <td>1</td>\n",
       "      <td>1</td>\n",
       "      <td>1</td>\n",
       "      <td>79084.10</td>\n",
       "      <td>0</td>\n",
       "    </tr>\n",
       "  </tbody>\n",
       "</table>\n",
       "</div>"
      ],
      "text/plain": [
       "   credit_score geography  gender  age  tenure   balance  num_of_products  has_cr_card  is_active_member  estimated_salary  exited\n",
       "0           619    France  Female   42       2      0.00                1            1                 1         101348.88       1\n",
       "1           608     Spain  Female   41       1  83807.86                1            0                 1         112542.58       0\n",
       "2           502    France  Female   42       8 159660.80                3            1                 0         113931.57       1\n",
       "3           699    France  Female   39       1      0.00                2            0                 0          93826.63       0\n",
       "4           850     Spain  Female   43       2 125510.82                1            1                 1          79084.10       0"
      ]
     },
     "execution_count": 33,
     "metadata": {},
     "output_type": "execute_result"
    }
   ],
   "source": [
    "df4.head()"
   ]
  },
  {
   "cell_type": "code",
   "execution_count": 34,
   "metadata": {
    "ExecuteTime": {
     "end_time": "2022-06-02T20:52:59.995300Z",
     "start_time": "2022-06-02T20:52:59.838221Z"
    },
    "hidden": true
   },
   "outputs": [
    {
     "data": {
      "text/html": [
       "<div>\n",
       "<style scoped>\n",
       "    .dataframe tbody tr th:only-of-type {\n",
       "        vertical-align: middle;\n",
       "    }\n",
       "\n",
       "    .dataframe tbody tr th {\n",
       "        vertical-align: top;\n",
       "    }\n",
       "\n",
       "    .dataframe thead th {\n",
       "        text-align: right;\n",
       "    }\n",
       "</style>\n",
       "<table border=\"1\" class=\"dataframe\">\n",
       "  <thead>\n",
       "    <tr style=\"text-align: right;\">\n",
       "      <th></th>\n",
       "      <th>exited</th>\n",
       "      <th>num_of_products</th>\n",
       "    </tr>\n",
       "  </thead>\n",
       "  <tbody>\n",
       "    <tr>\n",
       "      <th>0</th>\n",
       "      <td>0</td>\n",
       "      <td>1.54</td>\n",
       "    </tr>\n",
       "    <tr>\n",
       "      <th>1</th>\n",
       "      <td>1</td>\n",
       "      <td>1.48</td>\n",
       "    </tr>\n",
       "  </tbody>\n",
       "</table>\n",
       "</div>"
      ],
      "text/plain": [
       "   exited  num_of_products\n",
       "0       0             1.54\n",
       "1       1             1.48"
      ]
     },
     "execution_count": 34,
     "metadata": {},
     "output_type": "execute_result"
    },
    {
     "data": {
      "image/png": "[encoded data removed]",
      "text/plain": [
       "<Figure size 1728x648 with 1 Axes>"
      ]
     },
     "metadata": {},
     "output_type": "display_data"
    }
   ],
   "source": [
    "aux = df4[['num_of_products', 'exited']].groupby( 'exited' ).mean().reset_index()\n",
    "sns.barplot( x='exited', y='num_of_products', data=aux )\n",
    "sns.despine(offset = 10, trim = True);\n",
    "\n",
    "aux.head()"
   ]
  },
  {
   "cell_type": "markdown",
   "metadata": {
    "hidden": true
   },
   "source": [
    "### H3: Younger people are more likely to Churn"
   ]
  },
  {
   "cell_type": "code",
   "execution_count": 35,
   "metadata": {
    "ExecuteTime": {
     "end_time": "2022-06-02T20:53:00.654885Z",
     "start_time": "2022-06-02T20:53:00.645905Z"
    },
    "hidden": true
   },
   "outputs": [
    {
     "data": {
      "text/html": [
       "<div>\n",
       "<style scoped>\n",
       "    .dataframe tbody tr th:only-of-type {\n",
       "        vertical-align: middle;\n",
       "    }\n",
       "\n",
       "    .dataframe tbody tr th {\n",
       "        vertical-align: top;\n",
       "    }\n",
       "\n",
       "    .dataframe thead th {\n",
       "        text-align: right;\n",
       "    }\n",
       "</style>\n",
       "<table border=\"1\" class=\"dataframe\">\n",
       "  <thead>\n",
       "    <tr style=\"text-align: right;\">\n",
       "      <th></th>\n",
       "      <th>exited</th>\n",
       "      <th>age</th>\n",
       "    </tr>\n",
       "  </thead>\n",
       "  <tbody>\n",
       "    <tr>\n",
       "      <th>0</th>\n",
       "      <td>0</td>\n",
       "      <td>37.41</td>\n",
       "    </tr>\n",
       "    <tr>\n",
       "      <th>1</th>\n",
       "      <td>1</td>\n",
       "      <td>44.84</td>\n",
       "    </tr>\n",
       "  </tbody>\n",
       "</table>\n",
       "</div>"
      ],
      "text/plain": [
       "   exited   age\n",
       "0       0 37.41\n",
       "1       1 44.84"
      ]
     },
     "execution_count": 35,
     "metadata": {},
     "output_type": "execute_result"
    }
   ],
   "source": [
    "df4[['exited', 'age']].groupby(['exited']).mean().reset_index()"
   ]
  },
  {
   "cell_type": "code",
   "execution_count": 36,
   "metadata": {
    "ExecuteTime": {
     "end_time": "2022-06-02T20:53:01.900991Z",
     "start_time": "2022-06-02T20:53:01.420145Z"
    },
    "hidden": true
   },
   "outputs": [
    {
     "data": {
      "text/plain": [
       "<AxesSubplot:xlabel='age', ylabel='Count'>"
      ]
     },
     "execution_count": 36,
     "metadata": {},
     "output_type": "execute_result"
    },
    {
     "data": {
      "image/png": "[encoded data removed]",
      "text/plain": [
       "<Figure size 1728x648 with 1 Axes>"
      ]
     },
     "metadata": {},
     "output_type": "display_data"
    }
   ],
   "source": [
    "sns.histplot(x='age', data=df4, hue='exited', kde=True)"
   ]
  },
  {
   "cell_type": "markdown",
   "metadata": {
    "hidden": true
   },
   "source": [
    "### H4: Credit card customers are more active."
   ]
  },
  {
   "cell_type": "code",
   "execution_count": 37,
   "metadata": {
    "ExecuteTime": {
     "end_time": "2022-06-02T20:53:02.780800Z",
     "start_time": "2022-06-02T20:53:02.615478Z"
    },
    "hidden": true
   },
   "outputs": [
    {
     "data": {
      "text/plain": [
       "<AxesSubplot:xlabel='has_cr_card', ylabel='count'>"
      ]
     },
     "execution_count": 37,
     "metadata": {},
     "output_type": "execute_result"
    },
    {
     "data": {
      "image/png": "[encoded data removed]",
      "text/plain": [
       "<Figure size 1728x648 with 1 Axes>"
      ]
     },
     "metadata": {},
     "output_type": "display_data"
    }
   ],
   "source": [
    "sns.countplot(x='has_cr_card', hue='is_active_member', data=df4)"
   ]
  },
  {
   "cell_type": "markdown",
   "metadata": {
    "hidden": true
   },
   "source": [
    "### H5: People who don't have a credit card are more likely to Churn"
   ]
  },
  {
   "cell_type": "code",
   "execution_count": 38,
   "metadata": {
    "ExecuteTime": {
     "end_time": "2022-06-02T20:53:04.207174Z",
     "start_time": "2022-06-02T20:53:04.041500Z"
    },
    "hidden": true
   },
   "outputs": [
    {
     "data": {
      "text/plain": [
       "<AxesSubplot:xlabel='has_cr_card', ylabel='count'>"
      ]
     },
     "execution_count": 38,
     "metadata": {},
     "output_type": "execute_result"
    },
    {
     "data": {
      "image/png": "[encoded data removed]",
      "text/plain": [
       "<Figure size 1728x648 with 1 Axes>"
      ]
     },
     "metadata": {},
     "output_type": "display_data"
    }
   ],
   "source": [
    "sns.countplot(x='has_cr_card', hue='exited', data=df4)"
   ]
  },
  {
   "cell_type": "markdown",
   "metadata": {},
   "source": [
    "# 5.0 Data Preparation"
   ]
  },
  {
   "cell_type": "code",
   "execution_count": 77,
   "metadata": {
    "ExecuteTime": {
     "end_time": "2022-06-02T21:21:21.257444Z",
     "start_time": "2022-06-02T21:21:19.928863Z"
    }
   },
   "outputs": [
    {
     "data": {
      "image/png": "[encoded data removed]",
      "text/plain": [
       "<Figure size 1728x648 with 9 Axes>"
      ]
     },
     "metadata": {},
     "output_type": "display_data"
    }
   ],
   "source": [
    "df5 = df4.copy()\n",
    "df5.hist(bins = 30);"
   ]
  },
  {
   "cell_type": "code",
   "execution_count": 78,
   "metadata": {
    "ExecuteTime": {
     "end_time": "2022-06-02T21:21:25.202573Z",
     "start_time": "2022-06-02T21:21:25.194130Z"
    }
   },
   "outputs": [],
   "source": [
    "x_train, y_train, x_val, y_val, x_test, y_test = train_valid_test_split(df5, target = 'exited', \n",
    "                                                     train_size=0.8, valid_size=0.1, test_size=0.1)"
   ]
  },
  {
   "cell_type": "markdown",
   "metadata": {},
   "source": [
    "## 5.1 Encoding"
   ]
  },
  {
   "cell_type": "code",
   "execution_count": 79,
   "metadata": {
    "ExecuteTime": {
     "end_time": "2022-06-02T21:21:26.748560Z",
     "start_time": "2022-06-02T21:21:26.724463Z"
    }
   },
   "outputs": [
    {
     "data": {
      "text/html": [
       "<div>\n",
       "<style scoped>\n",
       "    .dataframe tbody tr th:only-of-type {\n",
       "        vertical-align: middle;\n",
       "    }\n",
       "\n",
       "    .dataframe tbody tr th {\n",
       "        vertical-align: top;\n",
       "    }\n",
       "\n",
       "    .dataframe thead th {\n",
       "        text-align: right;\n",
       "    }\n",
       "</style>\n",
       "<table border=\"1\" class=\"dataframe\">\n",
       "  <thead>\n",
       "    <tr style=\"text-align: right;\">\n",
       "      <th></th>\n",
       "      <th>credit_score</th>\n",
       "      <th>gender</th>\n",
       "      <th>age</th>\n",
       "      <th>tenure</th>\n",
       "      <th>balance</th>\n",
       "      <th>num_of_products</th>\n",
       "      <th>has_cr_card</th>\n",
       "      <th>is_active_member</th>\n",
       "      <th>estimated_salary</th>\n",
       "      <th>geography_France</th>\n",
       "      <th>geography_Germany</th>\n",
       "      <th>geography_Spain</th>\n",
       "    </tr>\n",
       "  </thead>\n",
       "  <tbody>\n",
       "    <tr>\n",
       "      <th>1531</th>\n",
       "      <td>600</td>\n",
       "      <td>1</td>\n",
       "      <td>28</td>\n",
       "      <td>6</td>\n",
       "      <td>0.00</td>\n",
       "      <td>2</td>\n",
       "      <td>0</td>\n",
       "      <td>1</td>\n",
       "      <td>52193.23</td>\n",
       "      <td>1</td>\n",
       "      <td>0</td>\n",
       "      <td>0</td>\n",
       "    </tr>\n",
       "    <tr>\n",
       "      <th>9391</th>\n",
       "      <td>846</td>\n",
       "      <td>0</td>\n",
       "      <td>61</td>\n",
       "      <td>0</td>\n",
       "      <td>0.00</td>\n",
       "      <td>2</td>\n",
       "      <td>1</td>\n",
       "      <td>1</td>\n",
       "      <td>96202.44</td>\n",
       "      <td>0</td>\n",
       "      <td>0</td>\n",
       "      <td>1</td>\n",
       "    </tr>\n",
       "    <tr>\n",
       "      <th>1411</th>\n",
       "      <td>685</td>\n",
       "      <td>1</td>\n",
       "      <td>30</td>\n",
       "      <td>4</td>\n",
       "      <td>84958.60</td>\n",
       "      <td>2</td>\n",
       "      <td>0</td>\n",
       "      <td>1</td>\n",
       "      <td>194343.72</td>\n",
       "      <td>0</td>\n",
       "      <td>1</td>\n",
       "      <td>0</td>\n",
       "    </tr>\n",
       "    <tr>\n",
       "      <th>8990</th>\n",
       "      <td>784</td>\n",
       "      <td>0</td>\n",
       "      <td>28</td>\n",
       "      <td>2</td>\n",
       "      <td>109960.06</td>\n",
       "      <td>2</td>\n",
       "      <td>1</td>\n",
       "      <td>1</td>\n",
       "      <td>170829.87</td>\n",
       "      <td>0</td>\n",
       "      <td>1</td>\n",
       "      <td>0</td>\n",
       "    </tr>\n",
       "    <tr>\n",
       "      <th>1231</th>\n",
       "      <td>772</td>\n",
       "      <td>0</td>\n",
       "      <td>30</td>\n",
       "      <td>4</td>\n",
       "      <td>78653.05</td>\n",
       "      <td>1</td>\n",
       "      <td>1</td>\n",
       "      <td>0</td>\n",
       "      <td>1790.48</td>\n",
       "      <td>0</td>\n",
       "      <td>0</td>\n",
       "      <td>1</td>\n",
       "    </tr>\n",
       "  </tbody>\n",
       "</table>\n",
       "</div>"
      ],
      "text/plain": [
       "      credit_score  gender  age  tenure   balance  num_of_products  has_cr_card  is_active_member  estimated_salary  geography_France  geography_Germany  geography_Spain\n",
       "1531           600       1   28       6      0.00                2            0                 1          52193.23                 1                  0                0\n",
       "9391           846       0   61       0      0.00                2            1                 1          96202.44                 0                  0                1\n",
       "1411           685       1   30       4  84958.60                2            0                 1         194343.72                 0                  1                0\n",
       "8990           784       0   28       2 109960.06                2            1                 1         170829.87                 0                  1                0\n",
       "1231           772       0   30       4  78653.05                1            1                 0           1790.48                 0                  0                1"
      ]
     },
     "execution_count": 79,
     "metadata": {},
     "output_type": "execute_result"
    }
   ],
   "source": [
    "# Gender Encoding\n",
    "x_train['gender'] = x_train['gender'].map({'Male': 0, 'Female': 1})\n",
    "x_test['gender'] = x_test['gender'].map({'Male': 0, 'Female': 1})\n",
    "x_val['gender'] = x_val['gender'].map({'Male': 0, 'Female': 1})\n",
    "\n",
    "#Geography encoding\n",
    "x_train = pd.get_dummies( x_train, prefix=['geography'], columns=['geography'] )\n",
    "x_test = pd.get_dummies( x_test, prefix=['geography'], columns=['geography'] )\n",
    "x_val = pd.get_dummies( x_val, prefix=['geography'], columns=['geography'] )\n",
    "\n",
    "x_train.head()"
   ]
  },
  {
   "cell_type": "markdown",
   "metadata": {
    "ExecuteTime": {
     "end_time": "2022-06-01T20:57:44.360777Z",
     "start_time": "2022-06-01T20:57:44.358104Z"
    }
   },
   "source": [
    "## 5.1 Rescalling"
   ]
  },
  {
   "cell_type": "code",
   "execution_count": 80,
   "metadata": {
    "ExecuteTime": {
     "end_time": "2022-06-02T21:21:28.776178Z",
     "start_time": "2022-06-02T21:21:28.739190Z"
    }
   },
   "outputs": [
    {
     "data": {
      "text/html": [
       "<div>\n",
       "<style scoped>\n",
       "    .dataframe tbody tr th:only-of-type {\n",
       "        vertical-align: middle;\n",
       "    }\n",
       "\n",
       "    .dataframe tbody tr th {\n",
       "        vertical-align: top;\n",
       "    }\n",
       "\n",
       "    .dataframe thead th {\n",
       "        text-align: right;\n",
       "    }\n",
       "</style>\n",
       "<table border=\"1\" class=\"dataframe\">\n",
       "  <thead>\n",
       "    <tr style=\"text-align: right;\">\n",
       "      <th></th>\n",
       "      <th>credit_score</th>\n",
       "      <th>gender</th>\n",
       "      <th>age</th>\n",
       "      <th>tenure</th>\n",
       "      <th>balance</th>\n",
       "      <th>num_of_products</th>\n",
       "      <th>has_cr_card</th>\n",
       "      <th>is_active_member</th>\n",
       "      <th>estimated_salary</th>\n",
       "      <th>geography_France</th>\n",
       "      <th>geography_Germany</th>\n",
       "      <th>geography_Spain</th>\n",
       "    </tr>\n",
       "  </thead>\n",
       "  <tbody>\n",
       "    <tr>\n",
       "      <th>1531</th>\n",
       "      <td>-0.38</td>\n",
       "      <td>1</td>\n",
       "      <td>-1.04</td>\n",
       "      <td>0.60</td>\n",
       "      <td>-0.76</td>\n",
       "      <td>2</td>\n",
       "      <td>0</td>\n",
       "      <td>1</td>\n",
       "      <td>-0.48</td>\n",
       "      <td>1</td>\n",
       "      <td>0</td>\n",
       "      <td>0</td>\n",
       "    </tr>\n",
       "    <tr>\n",
       "      <th>9391</th>\n",
       "      <td>1.46</td>\n",
       "      <td>0</td>\n",
       "      <td>2.11</td>\n",
       "      <td>0.00</td>\n",
       "      <td>-0.76</td>\n",
       "      <td>2</td>\n",
       "      <td>1</td>\n",
       "      <td>1</td>\n",
       "      <td>-0.04</td>\n",
       "      <td>0</td>\n",
       "      <td>0</td>\n",
       "      <td>1</td>\n",
       "    </tr>\n",
       "    <tr>\n",
       "      <th>1411</th>\n",
       "      <td>0.25</td>\n",
       "      <td>1</td>\n",
       "      <td>-0.85</td>\n",
       "      <td>0.40</td>\n",
       "      <td>-0.09</td>\n",
       "      <td>2</td>\n",
       "      <td>0</td>\n",
       "      <td>1</td>\n",
       "      <td>0.95</td>\n",
       "      <td>0</td>\n",
       "      <td>1</td>\n",
       "      <td>0</td>\n",
       "    </tr>\n",
       "    <tr>\n",
       "      <th>8990</th>\n",
       "      <td>0.99</td>\n",
       "      <td>0</td>\n",
       "      <td>-1.04</td>\n",
       "      <td>0.20</td>\n",
       "      <td>0.10</td>\n",
       "      <td>2</td>\n",
       "      <td>1</td>\n",
       "      <td>1</td>\n",
       "      <td>0.72</td>\n",
       "      <td>0</td>\n",
       "      <td>1</td>\n",
       "      <td>0</td>\n",
       "    </tr>\n",
       "    <tr>\n",
       "      <th>1231</th>\n",
       "      <td>0.90</td>\n",
       "      <td>0</td>\n",
       "      <td>-0.85</td>\n",
       "      <td>0.40</td>\n",
       "      <td>-0.14</td>\n",
       "      <td>1</td>\n",
       "      <td>1</td>\n",
       "      <td>0</td>\n",
       "      <td>-0.99</td>\n",
       "      <td>0</td>\n",
       "      <td>0</td>\n",
       "      <td>1</td>\n",
       "    </tr>\n",
       "  </tbody>\n",
       "</table>\n",
       "</div>"
      ],
      "text/plain": [
       "      credit_score  gender   age  tenure  balance  num_of_products  has_cr_card  is_active_member  estimated_salary  geography_France  geography_Germany  geography_Spain\n",
       "1531         -0.38       1 -1.04    0.60    -0.76                2            0                 1             -0.48                 1                  0                0\n",
       "9391          1.46       0  2.11    0.00    -0.76                2            1                 1             -0.04                 0                  0                1\n",
       "1411          0.25       1 -0.85    0.40    -0.09                2            0                 1              0.95                 0                  1                0\n",
       "8990          0.99       0 -1.04    0.20     0.10                2            1                 1              0.72                 0                  1                0\n",
       "1231          0.90       0 -0.85    0.40    -0.14                1            1                 0             -0.99                 0                  0                1"
      ]
     },
     "execution_count": 80,
     "metadata": {},
     "output_type": "execute_result"
    }
   ],
   "source": [
    "#Defining scalers\n",
    "rs = RobustScaler()\n",
    "ss = StandardScaler()\n",
    "mms = MinMaxScaler()\n",
    "\n",
    "#Credit Score\n",
    "x_train['credit_score'] = rs.fit_transform(x_train[['credit_score']].values)\n",
    "pickle.dump(rs, open('../parameters/credit_score_scaler.pkl', 'wb'), protocol=pickle.HIGHEST_PROTOCOL)\n",
    "x_test['credit_score'] = rs.transform(x_test[['credit_score']].values)\n",
    "x_val['credit_score'] = rs.transform(x_val[['credit_score']].values)\n",
    "\n",
    "#Age\n",
    "x_train['age'] = ss.fit_transform(x_train[['age']].values)\n",
    "pickle.dump(ss, open('../parameters/age_scaler.pkl', 'wb'), protocol=pickle.HIGHEST_PROTOCOL)\n",
    "x_test['age'] = ss.transform(x_test[['age']].values)\n",
    "x_val['age'] = ss.transform(x_val[['age']].values)\n",
    "\n",
    "#Estimated Salary\n",
    "x_train['estimated_salary'] = rs.fit_transform(x_train[['estimated_salary']].values)\n",
    "pickle.dump(rs, open('../parameters/estimated_salary_scaler.pkl', 'wb'), protocol=pickle.HIGHEST_PROTOCOL)\n",
    "x_test['estimated_salary'] = rs.transform(x_test[['estimated_salary']].values)\n",
    "x_val['estimated_salary'] = rs.transform(x_val[['estimated_salary']].values)\n",
    "\n",
    "#Tenure\n",
    "x_train['tenure'] = mms.fit_transform(x_train[['tenure']].values)\n",
    "pickle.dump(mms, open('../parameters/tenure_scaler.pkl', 'wb'), protocol=pickle.HIGHEST_PROTOCOL)\n",
    "x_test['tenure'] = mms.transform(x_test[['tenure']].values)\n",
    "x_val['tenure'] = mms.transform(x_val[['tenure']].values)\n",
    "\n",
    "#Balance\n",
    "x_train['balance'] = rs.fit_transform(x_train[['balance']].values)\n",
    "pickle.dump(rs, open('../parameters/balance_scaler.pkl', 'wb'), protocol=pickle.HIGHEST_PROTOCOL)\n",
    "x_test['balance'] = rs.transform(x_test[['balance']].values)\n",
    "x_val['balance'] = rs.transform(x_val[['balance']].values)\n",
    "\n",
    "x_train.head()"
   ]
  },
  {
   "cell_type": "markdown",
   "metadata": {},
   "source": [
    "# 6.0 Feature Selection"
   ]
  },
  {
   "cell_type": "code",
   "execution_count": 81,
   "metadata": {
    "ExecuteTime": {
     "end_time": "2022-06-02T21:21:32.273814Z",
     "start_time": "2022-06-02T21:21:32.270531Z"
    }
   },
   "outputs": [],
   "source": [
    "df6 = df5.copy()"
   ]
  },
  {
   "cell_type": "code",
   "execution_count": 87,
   "metadata": {
    "ExecuteTime": {
     "end_time": "2022-06-03T16:29:15.894933Z",
     "start_time": "2022-06-03T16:29:15.886907Z"
    }
   },
   "outputs": [
    {
     "data": {
      "text/html": [
       "<div>\n",
       "<style scoped>\n",
       "    .dataframe tbody tr th:only-of-type {\n",
       "        vertical-align: middle;\n",
       "    }\n",
       "\n",
       "    .dataframe tbody tr th {\n",
       "        vertical-align: top;\n",
       "    }\n",
       "\n",
       "    .dataframe thead th {\n",
       "        text-align: right;\n",
       "    }\n",
       "</style>\n",
       "<table border=\"1\" class=\"dataframe\">\n",
       "  <thead>\n",
       "    <tr style=\"text-align: right;\">\n",
       "      <th></th>\n",
       "      <th>absolute</th>\n",
       "      <th>percent %</th>\n",
       "    </tr>\n",
       "  </thead>\n",
       "  <tbody>\n",
       "    <tr>\n",
       "      <th>0</th>\n",
       "      <td>7963</td>\n",
       "      <td>79.63</td>\n",
       "    </tr>\n",
       "    <tr>\n",
       "      <th>1</th>\n",
       "      <td>2037</td>\n",
       "      <td>20.37</td>\n",
       "    </tr>\n",
       "  </tbody>\n",
       "</table>\n",
       "</div>"
      ],
      "text/plain": [
       "   absolute  percent %\n",
       "0      7963      79.63\n",
       "1      2037      20.37"
      ]
     },
     "execution_count": 87,
     "metadata": {},
     "output_type": "execute_result"
    }
   ],
   "source": [
    "categorical_metrics(df4, 'exited')"
   ]
  },
  {
   "cell_type": "markdown",
   "metadata": {},
   "source": [
    "## 6.1.0. Features Analysis"
   ]
  },
  {
   "cell_type": "code",
   "execution_count": 52,
   "metadata": {
    "ExecuteTime": {
     "end_time": "2022-06-02T20:56:46.686706Z",
     "start_time": "2022-06-02T20:56:46.507546Z"
    }
   },
   "outputs": [
    {
     "data": {
      "image/png": "[encoded data removed]",
      "text/plain": [
       "<Figure size 576x396 with 1 Axes>"
      ]
     },
     "metadata": {},
     "output_type": "display_data"
    }
   ],
   "source": [
    "visualizer = Rank1D(algorithm='shapiro')\n",
    "visualizer.fit(x_train, y_train)\n",
    "visualizer.transform(x_train)\n",
    "visualizer.show();"
   ]
  },
  {
   "cell_type": "markdown",
   "metadata": {},
   "source": [
    "## 6.2 RFE-CV"
   ]
  },
  {
   "cell_type": "code",
   "execution_count": 53,
   "metadata": {
    "ExecuteTime": {
     "end_time": "2022-06-02T20:58:52.249453Z",
     "start_time": "2022-06-02T20:58:52.246042Z"
    }
   },
   "outputs": [],
   "source": [
    "#preparing for selection\n",
    "x_train_s = x_train.values\n",
    "y_train_s = y_train.values.ravel()"
   ]
  },
  {
   "cell_type": "code",
   "execution_count": 61,
   "metadata": {
    "ExecuteTime": {
     "end_time": "2022-06-02T21:02:34.001826Z",
     "start_time": "2022-06-02T21:02:28.268900Z"
    }
   },
   "outputs": [
    {
     "name": "stdout",
     "output_type": "stream",
     "text": [
      "Optimal number of features : 9\n"
     ]
    },
    {
     "data": {
      "image/png": "[encoded data removed]",
      "text/plain": [
       "<Figure size 576x396 with 1 Axes>"
      ]
     },
     "metadata": {},
     "output_type": "display_data"
    }
   ],
   "source": [
    "#Create the RFE object and compute a cross-validated score.\n",
    "et = ExtraTreesClassifier( n_estimators = 100, n_jobs=-1, random_state=42 )\n",
    "\n",
    "min_features_to_select = 1  # Minimum number of features to consider\n",
    "\n",
    "rfeet = RFECV(estimator = et, step = 1, cv = StratifiedKFold(2),\n",
    "              scoring = 'recall',\n",
    "              min_features_to_select= min_features_to_select)\n",
    "\n",
    "rfeet.fit(x_train_s, y_train_s)\n",
    "\n",
    "print(\"Optimal number of features : %d\" % rfeet.n_features_)\n",
    "\n",
    "# Plot number of features VS. cross-validation scores\n",
    "plt.figure()\n",
    "plt.xlabel(\"Number of features selected\")\n",
    "plt.ylabel(\"Cross validation score (nb of correct classifications)\")\n",
    "plt.plot(range(min_features_to_select,\n",
    "               len(rfeet.grid_scores_) + min_features_to_select),\n",
    "         rfeet.grid_scores_)\n",
    "plt.show()"
   ]
  },
  {
   "cell_type": "code",
   "execution_count": 66,
   "metadata": {
    "ExecuteTime": {
     "end_time": "2022-06-02T21:08:14.414670Z",
     "start_time": "2022-06-02T21:08:14.408977Z"
    }
   },
   "outputs": [
    {
     "data": {
      "text/plain": [
       "['credit_score',\n",
       " 'age',\n",
       " 'tenure',\n",
       " 'balance',\n",
       " 'num_of_products',\n",
       " 'has_cr_card',\n",
       " 'is_active_member',\n",
       " 'estimated_salary',\n",
       " 'geography_Germany']"
      ]
     },
     "execution_count": 66,
     "metadata": {},
     "output_type": "execute_result"
    }
   ],
   "source": [
    "cols_selected = rfeet.support_.tolist()\n",
    "cols_selected_rfecv = x_train.iloc[:, cols_selected].columns.to_list()\n",
    "cols_selected_rfecv"
   ]
  },
  {
   "cell_type": "markdown",
   "metadata": {},
   "source": [
    "## 6.3 Boruta Feature Selector"
   ]
  },
  {
   "cell_type": "code",
   "execution_count": 62,
   "metadata": {
    "ExecuteTime": {
     "end_time": "2022-06-02T21:04:18.682877Z",
     "start_time": "2022-06-02T21:04:09.297780Z"
    }
   },
   "outputs": [
    {
     "name": "stdout",
     "output_type": "stream",
     "text": [
      "Iteration: \t1 / 100\n",
      "Confirmed: \t0\n",
      "Tentative: \t12\n",
      "Rejected: \t0\n",
      "Iteration: \t2 / 100\n",
      "Confirmed: \t0\n",
      "Tentative: \t12\n",
      "Rejected: \t0\n",
      "Iteration: \t3 / 100\n",
      "Confirmed: \t0\n",
      "Tentative: \t12\n",
      "Rejected: \t0\n",
      "Iteration: \t4 / 100\n",
      "Confirmed: \t0\n",
      "Tentative: \t12\n",
      "Rejected: \t0\n",
      "Iteration: \t5 / 100\n",
      "Confirmed: \t0\n",
      "Tentative: \t12\n",
      "Rejected: \t0\n",
      "Iteration: \t6 / 100\n",
      "Confirmed: \t0\n",
      "Tentative: \t12\n",
      "Rejected: \t0\n",
      "Iteration: \t7 / 100\n",
      "Confirmed: \t0\n",
      "Tentative: \t12\n",
      "Rejected: \t0\n",
      "Iteration: \t8 / 100\n",
      "Confirmed: \t3\n",
      "Tentative: \t2\n",
      "Rejected: \t7\n",
      "Iteration: \t9 / 100\n",
      "Confirmed: \t3\n",
      "Tentative: \t2\n",
      "Rejected: \t7\n",
      "Iteration: \t10 / 100\n",
      "Confirmed: \t3\n",
      "Tentative: \t2\n",
      "Rejected: \t7\n",
      "Iteration: \t11 / 100\n",
      "Confirmed: \t3\n",
      "Tentative: \t2\n",
      "Rejected: \t7\n",
      "Iteration: \t12 / 100\n",
      "Confirmed: \t3\n",
      "Tentative: \t2\n",
      "Rejected: \t7\n",
      "Iteration: \t13 / 100\n",
      "Confirmed: \t3\n",
      "Tentative: \t2\n",
      "Rejected: \t7\n",
      "Iteration: \t14 / 100\n",
      "Confirmed: \t3\n",
      "Tentative: \t2\n",
      "Rejected: \t7\n",
      "Iteration: \t15 / 100\n",
      "Confirmed: \t3\n",
      "Tentative: \t2\n",
      "Rejected: \t7\n",
      "Iteration: \t16 / 100\n",
      "Confirmed: \t3\n",
      "Tentative: \t2\n",
      "Rejected: \t7\n",
      "Iteration: \t17 / 100\n",
      "Confirmed: \t3\n",
      "Tentative: \t2\n",
      "Rejected: \t7\n",
      "Iteration: \t18 / 100\n",
      "Confirmed: \t3\n",
      "Tentative: \t2\n",
      "Rejected: \t7\n",
      "Iteration: \t19 / 100\n",
      "Confirmed: \t3\n",
      "Tentative: \t2\n",
      "Rejected: \t7\n",
      "Iteration: \t20 / 100\n",
      "Confirmed: \t3\n",
      "Tentative: \t2\n",
      "Rejected: \t7\n",
      "Iteration: \t21 / 100\n",
      "Confirmed: \t3\n",
      "Tentative: \t2\n",
      "Rejected: \t7\n",
      "Iteration: \t22 / 100\n",
      "Confirmed: \t3\n",
      "Tentative: \t2\n",
      "Rejected: \t7\n",
      "Iteration: \t23 / 100\n",
      "Confirmed: \t3\n",
      "Tentative: \t2\n",
      "Rejected: \t7\n",
      "Iteration: \t24 / 100\n",
      "Confirmed: \t3\n",
      "Tentative: \t2\n",
      "Rejected: \t7\n",
      "Iteration: \t25 / 100\n",
      "Confirmed: \t3\n",
      "Tentative: \t2\n",
      "Rejected: \t7\n",
      "Iteration: \t26 / 100\n",
      "Confirmed: \t3\n",
      "Tentative: \t2\n",
      "Rejected: \t7\n",
      "Iteration: \t27 / 100\n",
      "Confirmed: \t3\n",
      "Tentative: \t2\n",
      "Rejected: \t7\n",
      "Iteration: \t28 / 100\n",
      "Confirmed: \t3\n",
      "Tentative: \t2\n",
      "Rejected: \t7\n",
      "Iteration: \t29 / 100\n",
      "Confirmed: \t3\n",
      "Tentative: \t2\n",
      "Rejected: \t7\n",
      "Iteration: \t30 / 100\n",
      "Confirmed: \t3\n",
      "Tentative: \t2\n",
      "Rejected: \t7\n",
      "Iteration: \t31 / 100\n",
      "Confirmed: \t3\n",
      "Tentative: \t2\n",
      "Rejected: \t7\n",
      "Iteration: \t32 / 100\n",
      "Confirmed: \t3\n",
      "Tentative: \t2\n",
      "Rejected: \t7\n",
      "Iteration: \t33 / 100\n",
      "Confirmed: \t3\n",
      "Tentative: \t2\n",
      "Rejected: \t7\n",
      "Iteration: \t34 / 100\n",
      "Confirmed: \t3\n",
      "Tentative: \t2\n",
      "Rejected: \t7\n",
      "Iteration: \t35 / 100\n",
      "Confirmed: \t3\n",
      "Tentative: \t2\n",
      "Rejected: \t7\n",
      "Iteration: \t36 / 100\n",
      "Confirmed: \t3\n",
      "Tentative: \t2\n",
      "Rejected: \t7\n",
      "Iteration: \t37 / 100\n",
      "Confirmed: \t3\n",
      "Tentative: \t2\n",
      "Rejected: \t7\n",
      "Iteration: \t38 / 100\n",
      "Confirmed: \t3\n",
      "Tentative: \t2\n",
      "Rejected: \t7\n",
      "Iteration: \t39 / 100\n",
      "Confirmed: \t3\n",
      "Tentative: \t2\n",
      "Rejected: \t7\n",
      "Iteration: \t40 / 100\n",
      "Confirmed: \t4\n",
      "Tentative: \t1\n",
      "Rejected: \t7\n",
      "Iteration: \t41 / 100\n",
      "Confirmed: \t4\n",
      "Tentative: \t1\n",
      "Rejected: \t7\n",
      "Iteration: \t42 / 100\n",
      "Confirmed: \t4\n",
      "Tentative: \t1\n",
      "Rejected: \t7\n",
      "Iteration: \t43 / 100\n",
      "Confirmed: \t4\n",
      "Tentative: \t1\n",
      "Rejected: \t7\n",
      "Iteration: \t44 / 100\n",
      "Confirmed: \t4\n",
      "Tentative: \t1\n",
      "Rejected: \t7\n",
      "Iteration: \t45 / 100\n",
      "Confirmed: \t4\n",
      "Tentative: \t1\n",
      "Rejected: \t7\n",
      "Iteration: \t46 / 100\n",
      "Confirmed: \t4\n",
      "Tentative: \t1\n",
      "Rejected: \t7\n",
      "Iteration: \t47 / 100\n",
      "Confirmed: \t4\n",
      "Tentative: \t1\n",
      "Rejected: \t7\n",
      "Iteration: \t48 / 100\n",
      "Confirmed: \t4\n",
      "Tentative: \t1\n",
      "Rejected: \t7\n",
      "Iteration: \t49 / 100\n",
      "Confirmed: \t4\n",
      "Tentative: \t1\n",
      "Rejected: \t7\n",
      "Iteration: \t50 / 100\n",
      "Confirmed: \t4\n",
      "Tentative: \t1\n",
      "Rejected: \t7\n",
      "Iteration: \t51 / 100\n",
      "Confirmed: \t4\n",
      "Tentative: \t1\n",
      "Rejected: \t7\n",
      "Iteration: \t52 / 100\n",
      "Confirmed: \t4\n",
      "Tentative: \t1\n",
      "Rejected: \t7\n",
      "Iteration: \t53 / 100\n",
      "Confirmed: \t4\n",
      "Tentative: \t1\n",
      "Rejected: \t7\n",
      "Iteration: \t54 / 100\n",
      "Confirmed: \t4\n",
      "Tentative: \t1\n",
      "Rejected: \t7\n",
      "Iteration: \t55 / 100\n",
      "Confirmed: \t4\n",
      "Tentative: \t1\n",
      "Rejected: \t7\n",
      "Iteration: \t56 / 100\n",
      "Confirmed: \t4\n",
      "Tentative: \t1\n",
      "Rejected: \t7\n",
      "Iteration: \t57 / 100\n",
      "Confirmed: \t4\n",
      "Tentative: \t1\n",
      "Rejected: \t7\n",
      "Iteration: \t58 / 100\n",
      "Confirmed: \t4\n",
      "Tentative: \t1\n",
      "Rejected: \t7\n",
      "Iteration: \t59 / 100\n",
      "Confirmed: \t4\n",
      "Tentative: \t1\n",
      "Rejected: \t7\n",
      "Iteration: \t60 / 100\n",
      "Confirmed: \t4\n",
      "Tentative: \t1\n",
      "Rejected: \t7\n",
      "Iteration: \t61 / 100\n",
      "Confirmed: \t4\n",
      "Tentative: \t1\n",
      "Rejected: \t7\n",
      "Iteration: \t62 / 100\n",
      "Confirmed: \t4\n",
      "Tentative: \t1\n",
      "Rejected: \t7\n",
      "Iteration: \t63 / 100\n",
      "Confirmed: \t4\n",
      "Tentative: \t1\n",
      "Rejected: \t7\n",
      "Iteration: \t64 / 100\n",
      "Confirmed: \t4\n",
      "Tentative: \t1\n",
      "Rejected: \t7\n",
      "Iteration: \t65 / 100\n",
      "Confirmed: \t4\n",
      "Tentative: \t1\n",
      "Rejected: \t7\n",
      "Iteration: \t66 / 100\n",
      "Confirmed: \t4\n",
      "Tentative: \t1\n",
      "Rejected: \t7\n",
      "Iteration: \t67 / 100\n",
      "Confirmed: \t4\n",
      "Tentative: \t1\n",
      "Rejected: \t7\n",
      "Iteration: \t68 / 100\n",
      "Confirmed: \t4\n",
      "Tentative: \t1\n",
      "Rejected: \t7\n",
      "Iteration: \t69 / 100\n",
      "Confirmed: \t4\n",
      "Tentative: \t1\n",
      "Rejected: \t7\n",
      "Iteration: \t70 / 100\n",
      "Confirmed: \t4\n",
      "Tentative: \t1\n",
      "Rejected: \t7\n",
      "Iteration: \t71 / 100\n",
      "Confirmed: \t4\n",
      "Tentative: \t1\n",
      "Rejected: \t7\n",
      "Iteration: \t72 / 100\n",
      "Confirmed: \t4\n",
      "Tentative: \t1\n",
      "Rejected: \t7\n",
      "Iteration: \t73 / 100\n",
      "Confirmed: \t4\n",
      "Tentative: \t1\n",
      "Rejected: \t7\n",
      "Iteration: \t74 / 100\n",
      "Confirmed: \t4\n",
      "Tentative: \t1\n",
      "Rejected: \t7\n",
      "Iteration: \t75 / 100\n",
      "Confirmed: \t4\n",
      "Tentative: \t1\n",
      "Rejected: \t7\n",
      "Iteration: \t76 / 100\n",
      "Confirmed: \t4\n",
      "Tentative: \t1\n",
      "Rejected: \t7\n",
      "Iteration: \t77 / 100\n",
      "Confirmed: \t4\n",
      "Tentative: \t1\n",
      "Rejected: \t7\n",
      "Iteration: \t78 / 100\n",
      "Confirmed: \t4\n",
      "Tentative: \t1\n",
      "Rejected: \t7\n",
      "Iteration: \t79 / 100\n",
      "Confirmed: \t4\n",
      "Tentative: \t1\n",
      "Rejected: \t7\n",
      "Iteration: \t80 / 100\n",
      "Confirmed: \t4\n",
      "Tentative: \t1\n",
      "Rejected: \t7\n",
      "Iteration: \t81 / 100\n",
      "Confirmed: \t4\n",
      "Tentative: \t1\n",
      "Rejected: \t7\n",
      "Iteration: \t82 / 100\n",
      "Confirmed: \t4\n",
      "Tentative: \t1\n",
      "Rejected: \t7\n",
      "Iteration: \t83 / 100\n",
      "Confirmed: \t4\n",
      "Tentative: \t1\n",
      "Rejected: \t7\n",
      "Iteration: \t84 / 100\n",
      "Confirmed: \t4\n",
      "Tentative: \t1\n",
      "Rejected: \t7\n",
      "Iteration: \t85 / 100\n",
      "Confirmed: \t4\n",
      "Tentative: \t1\n",
      "Rejected: \t7\n",
      "Iteration: \t86 / 100\n",
      "Confirmed: \t4\n",
      "Tentative: \t1\n",
      "Rejected: \t7\n",
      "Iteration: \t87 / 100\n",
      "Confirmed: \t4\n",
      "Tentative: \t1\n",
      "Rejected: \t7\n",
      "Iteration: \t88 / 100\n",
      "Confirmed: \t4\n",
      "Tentative: \t1\n",
      "Rejected: \t7\n",
      "Iteration: \t89 / 100\n",
      "Confirmed: \t4\n",
      "Tentative: \t1\n",
      "Rejected: \t7\n",
      "Iteration: \t90 / 100\n",
      "Confirmed: \t4\n",
      "Tentative: \t1\n",
      "Rejected: \t7\n",
      "Iteration: \t91 / 100\n",
      "Confirmed: \t4\n",
      "Tentative: \t1\n",
      "Rejected: \t7\n",
      "Iteration: \t92 / 100\n",
      "Confirmed: \t4\n",
      "Tentative: \t1\n",
      "Rejected: \t7\n",
      "Iteration: \t93 / 100\n",
      "Confirmed: \t4\n",
      "Tentative: \t1\n",
      "Rejected: \t7\n",
      "Iteration: \t94 / 100\n",
      "Confirmed: \t4\n",
      "Tentative: \t1\n",
      "Rejected: \t7\n",
      "Iteration: \t95 / 100\n",
      "Confirmed: \t4\n",
      "Tentative: \t1\n",
      "Rejected: \t7\n",
      "Iteration: \t96 / 100\n",
      "Confirmed: \t4\n",
      "Tentative: \t1\n",
      "Rejected: \t7\n",
      "Iteration: \t97 / 100\n",
      "Confirmed: \t4\n",
      "Tentative: \t1\n",
      "Rejected: \t7\n",
      "Iteration: \t98 / 100\n",
      "Confirmed: \t4\n",
      "Tentative: \t1\n",
      "Rejected: \t7\n",
      "Iteration: \t99 / 100\n",
      "Confirmed: \t4\n",
      "Tentative: \t1\n",
      "Rejected: \t7\n",
      "\n",
      "\n",
      "BorutaPy finished running.\n",
      "\n",
      "Iteration: \t100 / 100\n",
      "Confirmed: \t4\n",
      "Tentative: \t1\n",
      "Rejected: \t7\n"
     ]
    }
   ],
   "source": [
    "#define Classifier\n",
    "rf = RandomForestClassifier( n_jobs = -1 )\n",
    "\n",
    "boruta = BorutaPy( rf, n_estimators = 'auto', verbose = 2, random_state = 42 ).fit( x_train_s, y_train_s )"
   ]
  },
  {
   "cell_type": "markdown",
   "metadata": {},
   "source": [
    "# 7.0 Machine Learning Modelling"
   ]
  },
  {
   "cell_type": "code",
   "execution_count": 159,
   "metadata": {
    "ExecuteTime": {
     "end_time": "2022-06-05T22:44:58.619707Z",
     "start_time": "2022-06-05T22:44:58.615996Z"
    }
   },
   "outputs": [],
   "source": [
    "df7 = df6.copy()"
   ]
  },
  {
   "cell_type": "code",
   "execution_count": 84,
   "metadata": {
    "ExecuteTime": {
     "end_time": "2022-06-02T21:22:07.969748Z",
     "start_time": "2022-06-02T21:22:07.964355Z"
    }
   },
   "outputs": [],
   "source": [
    "cols_selected = ['credit_score',\n",
    " 'age',\n",
    " 'tenure',\n",
    " 'balance',\n",
    " 'num_of_products',\n",
    " 'has_cr_card',\n",
    " 'is_active_member',\n",
    " 'estimated_salary',\n",
    " 'geography_Germany']\n",
    "\n",
    "x_train = x_train[cols_selected].copy()\n",
    "x_test = x_test[cols_selected].copy()"
   ]
  },
  {
   "cell_type": "markdown",
   "metadata": {},
   "source": [
    "## 7.1 Random Forest Classifier"
   ]
  },
  {
   "cell_type": "code",
   "execution_count": 103,
   "metadata": {
    "ExecuteTime": {
     "end_time": "2022-06-03T16:30:45.879278Z",
     "start_time": "2022-06-03T16:30:45.616606Z"
    }
   },
   "outputs": [
    {
     "name": "stdout",
     "output_type": "stream",
     "text": [
      "Recall: 0.6697674418604651\n"
     ]
    }
   ],
   "source": [
    "#model definition\n",
    "model_rf = RandomForestClassifier(max_depth = 2, random_state = 42, class_weight = 'balanced')\n",
    "\n",
    "#train model\n",
    "model_rf.fit( x_train, y_train.values.ravel() )\n",
    "\n",
    "#predict\n",
    "yhat_rf = model_rf.predict( x_test )\n",
    "\n",
    "#metrics \n",
    "print('Recall: '   + str(recall_score(y_test,yhat_rf)))"
   ]
  },
  {
   "cell_type": "markdown",
   "metadata": {
    "ExecuteTime": {
     "end_time": "2022-06-02T21:17:25.559468Z",
     "start_time": "2022-06-02T21:17:25.556863Z"
    }
   },
   "source": [
    "## 7.2 XGBoost Classifier"
   ]
  },
  {
   "cell_type": "code",
   "execution_count": 140,
   "metadata": {
    "ExecuteTime": {
     "end_time": "2022-06-05T21:52:09.977342Z",
     "start_time": "2022-06-05T21:52:09.939883Z"
    }
   },
   "outputs": [
    {
     "name": "stdout",
     "output_type": "stream",
     "text": [
      "Recall Score: 0.7395348837209302\n"
     ]
    }
   ],
   "source": [
    "# model definition\n",
    "model_xgb = xgb.XGBClassifier(n_estimators = 7, \n",
    "                              eta = 0.01, \n",
    "                              max_depth = 5, \n",
    "                              subsample = 0.4,\n",
    "                              use_label_encoder = False,\n",
    "                              eval_metric = 'aucpr',\n",
    "                              colsample_bytree = 0.9,\n",
    "                             scale_pos_weight = 4)\n",
    "\n",
    "#model training\n",
    "model_xgb.fit( x_train, y_train.values.ravel() )\n",
    "\n",
    "# prediction\n",
    "yhat_xgb = model_xgb.predict( x_test )\n",
    "\n",
    "#metrics \n",
    "print('Recall Score: '   + str(recall_score(y_test,yhat_xgb)))"
   ]
  },
  {
   "cell_type": "code",
   "execution_count": 147,
   "metadata": {
    "ExecuteTime": {
     "end_time": "2022-06-05T22:34:13.152580Z",
     "start_time": "2022-06-05T22:34:13.009747Z"
    }
   },
   "outputs": [
    {
     "data": {
      "text/html": [
       "<div>\n",
       "<style scoped>\n",
       "    .dataframe tbody tr th:only-of-type {\n",
       "        vertical-align: middle;\n",
       "    }\n",
       "\n",
       "    .dataframe tbody tr th {\n",
       "        vertical-align: top;\n",
       "    }\n",
       "\n",
       "    .dataframe thead th {\n",
       "        text-align: right;\n",
       "    }\n",
       "</style>\n",
       "<table border=\"1\" class=\"dataframe\">\n",
       "  <thead>\n",
       "    <tr style=\"text-align: right;\">\n",
       "      <th></th>\n",
       "      <th>Balanced Accuracy</th>\n",
       "      <th>Precision</th>\n",
       "      <th>Recall</th>\n",
       "      <th>F1</th>\n",
       "      <th>Kappa</th>\n",
       "    </tr>\n",
       "  </thead>\n",
       "  <tbody>\n",
       "    <tr>\n",
       "      <th>XGB</th>\n",
       "      <td>0.772 +/- 0.012</td>\n",
       "      <td>0.497 +/- 0.018</td>\n",
       "      <td>0.732 +/- 0.026</td>\n",
       "      <td>0.591 +/- 0.015</td>\n",
       "      <td>0.462 +/- 0.021</td>\n",
       "    </tr>\n",
       "  </tbody>\n",
       "</table>\n",
       "</div>"
      ],
      "text/plain": [
       "    Balanced Accuracy        Precision           Recall               F1            Kappa\n",
       "XGB   0.772 +/- 0.012  0.497 +/- 0.018  0.732 +/- 0.026  0.591 +/- 0.015  0.462 +/- 0.021"
      ]
     },
     "execution_count": 147,
     "metadata": {},
     "output_type": "execute_result"
    }
   ],
   "source": [
    "xgb_cv = ml_cv_results('XGB', model_xgb, x_train, y_train)\n",
    "xgb_cv"
   ]
  },
  {
   "cell_type": "markdown",
   "metadata": {},
   "source": [
    "## 7.3 Logistic Regression"
   ]
  },
  {
   "cell_type": "code",
   "execution_count": 141,
   "metadata": {
    "ExecuteTime": {
     "end_time": "2022-06-05T21:53:00.255672Z",
     "start_time": "2022-06-05T21:53:00.216881Z"
    }
   },
   "outputs": [
    {
     "name": "stdout",
     "output_type": "stream",
     "text": [
      "Recall Score: 0.6465116279069767\n"
     ]
    }
   ],
   "source": [
    "#model definition\n",
    "lg = LogisticRegression(class_weight='balanced')\n",
    "\n",
    "#model training\n",
    "lg.fit(x_train, y_train)\n",
    "\n",
    "#model prediction\n",
    "y_pred = lg.predict(x_test)\n",
    "\n",
    "#model metrics\n",
    "print('Recall Score: '   + str(recall_score(y_test,y_pred)))"
   ]
  },
  {
   "cell_type": "code",
   "execution_count": 180,
   "metadata": {
    "ExecuteTime": {
     "end_time": "2022-06-06T17:02:11.359600Z",
     "start_time": "2022-06-06T17:02:11.263397Z"
    }
   },
   "outputs": [
    {
     "data": {
      "text/html": [
       "<div>\n",
       "<style scoped>\n",
       "    .dataframe tbody tr th:only-of-type {\n",
       "        vertical-align: middle;\n",
       "    }\n",
       "\n",
       "    .dataframe tbody tr th {\n",
       "        vertical-align: top;\n",
       "    }\n",
       "\n",
       "    .dataframe thead th {\n",
       "        text-align: right;\n",
       "    }\n",
       "</style>\n",
       "<table border=\"1\" class=\"dataframe\">\n",
       "  <thead>\n",
       "    <tr style=\"text-align: right;\">\n",
       "      <th></th>\n",
       "      <th>Balanced Accuracy</th>\n",
       "      <th>Precision</th>\n",
       "      <th>Recall</th>\n",
       "      <th>F1</th>\n",
       "      <th>Kappa</th>\n",
       "    </tr>\n",
       "  </thead>\n",
       "  <tbody>\n",
       "    <tr>\n",
       "      <th>Logistic Regression</th>\n",
       "      <td>0.699 +/- 0.016</td>\n",
       "      <td>0.379 +/- 0.017</td>\n",
       "      <td>0.681 +/- 0.021</td>\n",
       "      <td>0.487 +/- 0.02</td>\n",
       "      <td>0.306 +/- 0.028</td>\n",
       "    </tr>\n",
       "  </tbody>\n",
       "</table>\n",
       "</div>"
      ],
      "text/plain": [
       "                    Balanced Accuracy        Precision           Recall              F1            Kappa\n",
       "Logistic Regression   0.699 +/- 0.016  0.379 +/- 0.017  0.681 +/- 0.021  0.487 +/- 0.02  0.306 +/- 0.028"
      ]
     },
     "execution_count": 180,
     "metadata": {},
     "output_type": "execute_result"
    }
   ],
   "source": [
    "lg_cv = ml_cv_results('Logistic Regression',\n",
    "                      LogisticRegression(class_weight='balanced'), \n",
    "                      x_train, y_train)\n",
    "lg_cv"
   ]
  },
  {
   "cell_type": "markdown",
   "metadata": {},
   "source": [
    "## 7.4 Support Vector Machine"
   ]
  },
  {
   "cell_type": "code",
   "execution_count": 124,
   "metadata": {
    "ExecuteTime": {
     "end_time": "2022-06-05T20:45:55.078077Z",
     "start_time": "2022-06-05T20:45:52.726071Z"
    }
   },
   "outputs": [],
   "source": [
    "svm = SVC(class_weight='balanced')\n",
    "svm.fit(x_train, y_train)\n",
    "\n",
    "y_pred = svm.predict(x_test)"
   ]
  },
  {
   "cell_type": "code",
   "execution_count": 126,
   "metadata": {
    "ExecuteTime": {
     "end_time": "2022-06-05T20:47:01.378998Z",
     "start_time": "2022-06-05T20:47:01.370249Z"
    }
   },
   "outputs": [
    {
     "name": "stdout",
     "output_type": "stream",
     "text": [
      "Recall Score: 0.6883720930232559\n"
     ]
    }
   ],
   "source": [
    "#model metrics\n",
    "print('Recall Score: '   + str(recall_score(y_test,y_pred)))"
   ]
  },
  {
   "cell_type": "code",
   "execution_count": 149,
   "metadata": {
    "ExecuteTime": {
     "end_time": "2022-06-05T22:34:37.142495Z",
     "start_time": "2022-06-05T22:34:29.690033Z"
    }
   },
   "outputs": [
    {
     "data": {
      "text/html": [
       "<div>\n",
       "<style scoped>\n",
       "    .dataframe tbody tr th:only-of-type {\n",
       "        vertical-align: middle;\n",
       "    }\n",
       "\n",
       "    .dataframe tbody tr th {\n",
       "        vertical-align: top;\n",
       "    }\n",
       "\n",
       "    .dataframe thead th {\n",
       "        text-align: right;\n",
       "    }\n",
       "</style>\n",
       "<table border=\"1\" class=\"dataframe\">\n",
       "  <thead>\n",
       "    <tr style=\"text-align: right;\">\n",
       "      <th></th>\n",
       "      <th>Balanced Accuracy</th>\n",
       "      <th>Precision</th>\n",
       "      <th>Recall</th>\n",
       "      <th>F1</th>\n",
       "      <th>Kappa</th>\n",
       "    </tr>\n",
       "  </thead>\n",
       "  <tbody>\n",
       "    <tr>\n",
       "      <th>SVM</th>\n",
       "      <td>0.777 +/- 0.01</td>\n",
       "      <td>0.502 +/- 0.019</td>\n",
       "      <td>0.741 +/- 0.025</td>\n",
       "      <td>0.598 +/- 0.014</td>\n",
       "      <td>0.47 +/- 0.02</td>\n",
       "    </tr>\n",
       "  </tbody>\n",
       "</table>\n",
       "</div>"
      ],
      "text/plain": [
       "    Balanced Accuracy        Precision           Recall               F1          Kappa\n",
       "SVM    0.777 +/- 0.01  0.502 +/- 0.019  0.741 +/- 0.025  0.598 +/- 0.014  0.47 +/- 0.02"
      ]
     },
     "execution_count": 149,
     "metadata": {},
     "output_type": "execute_result"
    }
   ],
   "source": [
    "svm_cv = ml_cv_results('SVM', SVC(class_weight='balanced'), x_train, y_train)\n",
    "svm_cv"
   ]
  },
  {
   "cell_type": "markdown",
   "metadata": {},
   "source": [
    "# 8.0 Hyperparameter Fine-Tunning"
   ]
  },
  {
   "cell_type": "code",
   "execution_count": 160,
   "metadata": {
    "ExecuteTime": {
     "end_time": "2022-06-05T22:45:03.111981Z",
     "start_time": "2022-06-05T22:45:03.108544Z"
    }
   },
   "outputs": [],
   "source": [
    "df8 = df7.copy()"
   ]
  },
  {
   "cell_type": "code",
   "execution_count": 189,
   "metadata": {
    "ExecuteTime": {
     "end_time": "2022-06-06T17:35:43.756925Z",
     "start_time": "2022-06-06T17:35:43.753630Z"
    }
   },
   "outputs": [],
   "source": [
    "# def objective(trial):\n",
    "    \n",
    "#     class_weight='balanced'\n",
    "#     kernel=trial.suggest_categorical('kernel',['rbf','poly','linear','sigmoid'])\n",
    "#     c=trial.suggest_float(\"C\",0.1,3.0,log=True)\n",
    "#     gamma=trial.suggest_categorical('gamma',['auto','scale'])\n",
    "#     degree=trial.suggest_int(\"degree\",1,3,log=True)\n",
    "#     model =SVC(kernel=kernel,degree=degree,gamma=gamma,C=c,class_weight=class_weight)\n",
    "#     model.fit(x_train,y_train)\n",
    "#     yhat = model.predict(x_test)\n",
    "#     results = recall_score(y_test,yhat)\n",
    "    \n",
    "#     return results\n",
    "\n",
    "# study = optuna.create_study(direction='maximize')\n",
    "# study.optimize(objective, n_trials = 500)\n",
    "\n",
    "# trial = study.best_trial\n",
    "\n",
    "# print('Recall: {}'.format(trial.value))\n",
    "# print(\"Best hyperparameters: {}\".format(trial.params))"
   ]
  },
  {
   "cell_type": "markdown",
   "metadata": {},
   "source": [
    "## Fine-tuned Model"
   ]
  },
  {
   "cell_type": "code",
   "execution_count": 203,
   "metadata": {
    "ExecuteTime": {
     "end_time": "2022-06-06T17:48:54.893443Z",
     "start_time": "2022-06-06T17:48:27.951641Z"
    }
   },
   "outputs": [
    {
     "data": {
      "text/html": [
       "<div>\n",
       "<style scoped>\n",
       "    .dataframe tbody tr th:only-of-type {\n",
       "        vertical-align: middle;\n",
       "    }\n",
       "\n",
       "    .dataframe tbody tr th {\n",
       "        vertical-align: top;\n",
       "    }\n",
       "\n",
       "    .dataframe thead th {\n",
       "        text-align: right;\n",
       "    }\n",
       "</style>\n",
       "<table border=\"1\" class=\"dataframe\">\n",
       "  <thead>\n",
       "    <tr style=\"text-align: right;\">\n",
       "      <th></th>\n",
       "      <th>Balanced Accuracy</th>\n",
       "      <th>Precision</th>\n",
       "      <th>Recall</th>\n",
       "      <th>F1</th>\n",
       "      <th>Kappa</th>\n",
       "    </tr>\n",
       "  </thead>\n",
       "  <tbody>\n",
       "    <tr>\n",
       "      <th>SVM</th>\n",
       "      <td>0.749 +/- 0.021</td>\n",
       "      <td>0.459 +/- 0.027</td>\n",
       "      <td>0.711 +/- 0.032</td>\n",
       "      <td>0.558 +/- 0.028</td>\n",
       "      <td>0.414 +/- 0.039</td>\n",
       "    </tr>\n",
       "  </tbody>\n",
       "</table>\n",
       "</div>"
      ],
      "text/plain": [
       "    Balanced Accuracy        Precision           Recall               F1            Kappa\n",
       "SVM   0.749 +/- 0.021  0.459 +/- 0.027  0.711 +/- 0.032  0.558 +/- 0.028  0.414 +/- 0.039"
      ]
     },
     "execution_count": 203,
     "metadata": {},
     "output_type": "execute_result"
    }
   ],
   "source": [
    "# Recall: 0.7116279069767442\n",
    "# Best hyperparameters: {'kernel': 'poly', 'C': 2.137803839911113, 'gamma': 'scale', 'degree': 3}\n",
    "\n",
    "\n",
    "svm = SVC(random_state=42,\n",
    "          kernel = 'poly', \n",
    "          C = 2.137803839911113, \n",
    "          gamma = 'scale', \n",
    "          degree = 3, \n",
    "          class_weight='balanced',\n",
    "          probability=True)\n",
    "\n",
    "\n",
    "svm_cv = ml_cv_results('SVM', svm, x_train, y_train)\n",
    "y_prob = svm.predict_proba(x_test)\n",
    "svm_cv"
   ]
  },
  {
   "cell_type": "markdown",
   "metadata": {},
   "source": [
    "# 9.0 Churn Analysis"
   ]
  },
  {
   "cell_type": "code",
   "execution_count": 204,
   "metadata": {
    "ExecuteTime": {
     "end_time": "2022-06-06T17:49:02.091053Z",
     "start_time": "2022-06-06T17:49:02.087679Z"
    }
   },
   "outputs": [],
   "source": [
    "df9 = df8.copy()"
   ]
  },
  {
   "cell_type": "markdown",
   "metadata": {},
   "source": [
    "## Cumulative Gains Curve"
   ]
  },
  {
   "cell_type": "code",
   "execution_count": 205,
   "metadata": {
    "ExecuteTime": {
     "end_time": "2022-06-06T17:49:03.800822Z",
     "start_time": "2022-06-06T17:49:03.552999Z"
    }
   },
   "outputs": [
    {
     "data": {
      "image/png": "[encoded data removed]",
      "text/plain": [
       "<Figure size 1728x648 with 1 Axes>"
      ]
     },
     "metadata": {},
     "output_type": "display_data"
    }
   ],
   "source": [
    "skplt.metrics.plot_cumulative_gain(y_test, y_prob)\n",
    "plt.axvline(0.2634, 0, 1, color='yellow', ls='--', lw=3)\n",
    "plt.show(); "
   ]
  },
  {
   "cell_type": "markdown",
   "metadata": {},
   "source": [
    "## Recall at K"
   ]
  },
  {
   "cell_type": "code",
   "execution_count": 210,
   "metadata": {
    "ExecuteTime": {
     "end_time": "2022-06-06T17:55:31.295379Z",
     "start_time": "2022-06-06T17:55:31.291602Z"
    }
   },
   "outputs": [],
   "source": [
    "def recall_at_k( data, k = 100 ):\n",
    "    # reset index\n",
    "    data = data.reset_index( drop = True )\n",
    "\n",
    "    # create ranking order\n",
    "    data['ranking'] = data.index + 1 \n",
    "\n",
    "    data['recall_at_k'] = data['exited'].cumsum() / data['exited'].sum()\n",
    "\n",
    "    return data.loc[k, 'recall_at_k']"
   ]
  },
  {
   "cell_type": "code",
   "execution_count": 211,
   "metadata": {
    "ExecuteTime": {
     "end_time": "2022-06-06T17:55:32.136421Z",
     "start_time": "2022-06-06T17:55:32.131116Z"
    }
   },
   "outputs": [],
   "source": [
    "data = x_test.copy()\n",
    "\n",
    "data['exited'] = y_test.copy()\n",
    "data['score'] = y_prob[:, 1].tolist()\n",
    "data = data.sort_values('score', ascending=False)"
   ]
  },
  {
   "cell_type": "code",
   "execution_count": 213,
   "metadata": {
    "ExecuteTime": {
     "end_time": "2022-06-06T17:55:45.524409Z",
     "start_time": "2022-06-06T17:55:45.518830Z"
    }
   },
   "outputs": [
    {
     "name": "stdout",
     "output_type": "stream",
     "text": [
      "0.1\n",
      "0.3674418604651163\n"
     ]
    }
   ],
   "source": [
    "percent_of_dataset = 100 / len(data)\n",
    "recall_at_100 = recall_at_k(data, k = 100)\n",
    "\n",
    "print(percent_of_dataset)\n",
    "print(recall_at_100)"
   ]
  },
  {
   "cell_type": "markdown",
   "metadata": {},
   "source": [
    "# 10.0 Business Results"
   ]
  },
  {
   "cell_type": "markdown",
   "metadata": {},
   "source": [
    "## 1) What is TopBank's current Churn rate? How does it change monthly?"
   ]
  },
  {
   "cell_type": "code",
   "execution_count": null,
   "metadata": {},
   "outputs": [],
   "source": []
  },
  {
   "cell_type": "markdown",
   "metadata": {},
   "source": [
    "## 2) How does the model perform in classifying customers as churns?"
   ]
  },
  {
   "cell_type": "code",
   "execution_count": null,
   "metadata": {},
   "outputs": [],
   "source": []
  },
  {
   "cell_type": "markdown",
   "metadata": {},
   "source": [
    "## 3) What is the expected return, in terms of revenue, if the company uses its model to avoid customer churn?"
   ]
  },
  {
   "cell_type": "code",
   "execution_count": null,
   "metadata": {},
   "outputs": [],
   "source": []
  },
  {
   "cell_type": "markdown",
   "metadata": {
    "ExecuteTime": {
     "end_time": "2022-06-06T20:27:00.496421Z",
     "start_time": "2022-06-06T20:27:00.493701Z"
    }
   },
   "source": [
    "## 4) Which customers would you give the financial incentive to and what would that value be, in order to maximize ROI (Return on Investment). Remembering that the sum of the incentives cannot exceed R$10,000.00"
   ]
  },
  {
   "cell_type": "code",
   "execution_count": null,
   "metadata": {},
   "outputs": [],
   "source": []
  },
  {
   "cell_type": "markdown",
   "metadata": {
    "heading_collapsed": true
   },
   "source": [
    "# 11.0 Deploy"
   ]
  },
  {
   "cell_type": "markdown",
   "metadata": {
    "hidden": true
   },
   "source": [
    "## 11.1 Churn Probability Class"
   ]
  }
 ],
 "metadata": {
  "kernelspec": {
   "display_name": "Python 3 (ipykernel)",
   "language": "python",
   "name": "python3"
  },
  "language_info": {
   "codemirror_mode": {
    "name": "ipython",
    "version": 3
   },
   "file_extension": ".py",
   "mimetype": "text/x-python",
   "name": "python",
   "nbconvert_exporter": "python",
   "pygments_lexer": "ipython3",
   "version": "3.10.0"
  }
 },
 "nbformat": 4,
 "nbformat_minor": 4
}
