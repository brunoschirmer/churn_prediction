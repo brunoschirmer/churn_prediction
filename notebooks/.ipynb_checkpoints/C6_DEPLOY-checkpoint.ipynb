{
 "cells": [
  {
   "cell_type": "markdown",
   "id": "ff5973cf",
   "metadata": {
    "ExecuteTime": {
     "end_time": "2022-06-12T20:48:39.900827Z",
     "start_time": "2022-06-12T20:48:39.897638Z"
    }
   },
   "source": [
    "# MODEL DEPLOYMENT"
   ]
  },
  {
   "cell_type": "markdown",
   "id": "851c7930",
   "metadata": {},
   "source": [
    "## Churn Class"
   ]
  },
  {
   "cell_type": "code",
   "execution_count": 6,
   "id": "ee7e0258",
   "metadata": {
    "ExecuteTime": {
     "end_time": "2022-06-13T21:18:34.208738Z",
     "start_time": "2022-06-13T21:18:34.199521Z"
    }
   },
   "outputs": [],
   "source": [
    "class Churn( object ):\n",
    "    \n",
    "    def __init__( self ):\n",
    "            import pickle\n",
    "            self.home_path='/Users/brunoschirmer/repos/churn'\n",
    "            self.credit_score_scaler  = pickle.load(open('/Users/brunoschirmer/Repos/churn/parameters/credit_score_scaler.pkl', 'rb'))\n",
    "            self.age_scaler  =          pickle.load(open('/Users/brunoschirmer/Repos/churn/parameters/age_scaler.pkl', 'rb'))\n",
    "            self.estimated_salary_scaler =  pickle.load(open('/Users/brunoschirmer/Repos/churn/parameters/estimated_salary_scaler.pkl', 'rb'))\n",
    "            self.tenure_scaler =  pickle.load(open('/Users/brunoschirmer/Repos/churn/parameters/tenure_scaler.pkl', 'rb'))\n",
    "            self.balance_scaler  = pickle.load(open('/Users/brunoschirmer/Repos/churn/parameters/balance_scaler.pkl', 'rb'))\n",
    "            self.model = pickle.load(open('/Users/brunoschirmer/Repos/churn/src/model.pkl', 'rb'))\n",
    "        \n",
    "\n",
    "    def data_preparation( self, data ):\n",
    "        \n",
    "            #transform new columns\n",
    "            cols_old = data.columns.to_list()\n",
    "            snakecase = lambda x: inflection.underscore(x)\n",
    "            cols_new = list(map(snakecase, cols_old))\n",
    "\n",
    "            #rename\n",
    "            data.columns = cols_new\n",
    "            \n",
    "            #drop columns\n",
    "            data.drop(['customer_id','surname'], axis=1, inplace=True)\n",
    "\n",
    "            # Gender Encoding\n",
    "            data['gender'] = data['gender'].map({'Male': 0, 'Female': 1})\n",
    "\n",
    "            #Geography encoding\n",
    "            data = pd.get_dummies( data, prefix=['geography'], columns=['geography'] )\n",
    "\n",
    "            #Credit Score\n",
    "            data['credit_score'] = self.credit_score_scaler.transform(data[['credit_score']].values)\n",
    "\n",
    "            #Age\n",
    "            data['age'] = self.age_scaler.transform(data[['age']].values)\n",
    "\n",
    "            #Estimated Salary\n",
    "            data['estimated_salary'] = self.estimated_salary_scaler.transform(data[['estimated_salary']].values)\n",
    "\n",
    "            #Tenure\n",
    "            data['tenure'] = self.tenure_scalertransform(data[['tenure']].values)\n",
    "\n",
    "            #Balance\n",
    "            data['balance'] = self.balance_scaler.transform(data[['balance']].values)\n",
    "                                                        \n",
    "            return data                                            \n",
    "            \n",
    "    \n",
    "    def get_prediction( self, model, original_data, data ):\n",
    "        \n",
    "            # prediction\n",
    "            pred = model.predict( data )\n",
    "\n",
    "            # join pred into the original data\n",
    "            original_data['prediction'] = pred\n",
    "\n",
    "            return original_data.to_json( orient='records', date_format='iso' )"
   ]
  },
  {
   "cell_type": "markdown",
   "id": "f0fcdefb",
   "metadata": {},
   "source": [
    "## API Handler"
   ]
  },
  {
   "cell_type": "code",
   "execution_count": 7,
   "id": "00101e17",
   "metadata": {
    "ExecuteTime": {
     "end_time": "2022-06-13T21:26:41.136523Z",
     "start_time": "2022-06-13T21:26:40.376407Z"
    }
   },
   "outputs": [
    {
     "ename": "ModuleNotFoundError",
     "evalue": "No module named 'churn'",
     "output_type": "error",
     "traceback": [
      "\u001b[0;31m---------------------------------------------------------------------------\u001b[0m",
      "\u001b[0;31mModuleNotFoundError\u001b[0m                       Traceback (most recent call last)",
      "Input \u001b[0;32mIn [7]\u001b[0m, in \u001b[0;36m<cell line: 3>\u001b[0;34m()\u001b[0m\n\u001b[1;32m      1\u001b[0m \u001b[38;5;28;01mimport\u001b[39;00m \u001b[38;5;21;01mpickle\u001b[39;00m\n\u001b[1;32m      2\u001b[0m \u001b[38;5;28;01mimport\u001b[39;00m \u001b[38;5;21;01mpandas\u001b[39;00m \u001b[38;5;28;01mas\u001b[39;00m \u001b[38;5;21;01mpd\u001b[39;00m\n\u001b[0;32m----> 3\u001b[0m \u001b[38;5;28;01mfrom\u001b[39;00m \u001b[38;5;21;01mchurn\u001b[39;00m\u001b[38;5;21;01m.\u001b[39;00m\u001b[38;5;21;01mChurn\u001b[39;00m \u001b[38;5;28;01mimport\u001b[39;00m Churn\n\u001b[1;32m      4\u001b[0m \u001b[38;5;28;01mfrom\u001b[39;00m \u001b[38;5;21;01mflask\u001b[39;00m \u001b[38;5;28;01mimport\u001b[39;00m Flask, request, Response\n\u001b[1;32m      6\u001b[0m \u001b[38;5;66m# loading model\u001b[39m\n",
      "\u001b[0;31mModuleNotFoundError\u001b[0m: No module named 'churn'"
     ]
    }
   ],
   "source": [
    "import pickle\n",
    "import pandas as pd\n",
    "import numpy as np\n",
    "from churn.Churn import Churn\n",
    "from flask import Flask, request, Response\n",
    "\n",
    "# loading model\n",
    "model = pickle.load(open('/Users/brunoschirmer/Repos/churn/src/model.pkl', 'rb'))\n",
    "\n",
    "# initialize API\n",
    "app = Flask(__name__)\n",
    "\n",
    "@app.route('/churn/predict', methods=['POST'])\n",
    "def churn_predict():\n",
    "    test_json = request.get_json()\n",
    "   \n",
    "    if test_json: # there is data\n",
    "        if isinstance(test_json, dict): # unique example\n",
    "            data = pd.DataFrame(test_json, index=[0])\n",
    "            original_data = data.copy()\n",
    "            \n",
    "        else: # multiple example\n",
    "            data = pd.DataFrame(test_json, columns=test_json[0].keys())\n",
    "            original_data = data.copy()\n",
    "            \n",
    "        # Instantiate class\n",
    "        pipeline = Churn()\n",
    "        \n",
    "        # data preparation\n",
    "        data = pipeline.data_preparation(data)\n",
    "        \n",
    "        # prediction\n",
    "        data_prediction = pipeline.get_prediction(model, original_data, data)\n",
    "        \n",
    "        return data_prediction\n",
    "        \n",
    "        \n",
    "    else:\n",
    "        return Reponse('{}', status=200, mimetype='application/json')\n",
    "\n",
    "if __name__ == '__main__':\n",
    "    app.run('0.0.0.0')"
   ]
  },
  {
   "cell_type": "markdown",
   "id": "842f6810",
   "metadata": {},
   "source": [
    "## API Tester"
   ]
  },
  {
   "cell_type": "code",
   "execution_count": 105,
   "id": "26d97e2d",
   "metadata": {
    "ExecuteTime": {
     "end_time": "2022-06-14T22:42:12.076936Z",
     "start_time": "2022-06-14T22:42:12.073619Z"
    }
   },
   "outputs": [],
   "source": [
    "import pickle\n",
    "import pandas as pd\n",
    "#from churn.Churn import Churn\n",
    "from flask import Flask\n",
    "import requests\n",
    "import inflection\n",
    "import response"
   ]
  },
  {
   "cell_type": "code",
   "execution_count": 106,
   "id": "b9f0289f",
   "metadata": {
    "ExecuteTime": {
     "end_time": "2022-06-14T22:42:12.687980Z",
     "start_time": "2022-06-14T22:42:12.659823Z"
    }
   },
   "outputs": [
    {
     "data": {
      "text/plain": [
       "RowNumber          0\n",
       "CustomerId         0\n",
       "Surname            0\n",
       "CreditScore        0\n",
       "Geography          0\n",
       "Gender             0\n",
       "Age                0\n",
       "Tenure             0\n",
       "Balance            0\n",
       "NumOfProducts      0\n",
       "HasCrCard          0\n",
       "IsActiveMember     0\n",
       "EstimatedSalary    0\n",
       "Exited             0\n",
       "dtype: int64"
      ]
     },
     "execution_count": 106,
     "metadata": {},
     "output_type": "execute_result"
    }
   ],
   "source": [
    "# loading test dataset\n",
    "df1 = pd.read_csv(\"/Users/brunoschirmer/Repos/churn/data/raw/churn.csv\")\n",
    "df1.isna().sum()"
   ]
  },
  {
   "cell_type": "code",
   "execution_count": 107,
   "id": "aa258d90",
   "metadata": {
    "ExecuteTime": {
     "end_time": "2022-06-14T22:42:16.057050Z",
     "start_time": "2022-06-14T22:42:15.916246Z"
    }
   },
   "outputs": [],
   "source": [
    "# convert Dataframe to json\n",
    "data = json.dumps( df1.to_dict( orient='records' ) )"
   ]
  },
  {
   "cell_type": "code",
   "execution_count": 1,
   "id": "6dcba555",
   "metadata": {
    "ExecuteTime": {
     "end_time": "2022-06-14T22:52:05.459792Z",
     "start_time": "2022-06-14T22:52:05.457024Z"
    }
   },
   "outputs": [],
   "source": [
    "#data"
   ]
  },
  {
   "cell_type": "code",
   "execution_count": 109,
   "id": "562dd379",
   "metadata": {
    "ExecuteTime": {
     "end_time": "2022-06-14T22:42:27.937834Z",
     "start_time": "2022-06-14T22:42:23.792473Z"
    }
   },
   "outputs": [],
   "source": [
    "url = 'http://0.0.0.0:5000/churn/predict'\n",
    "header = {'Content-type': 'application/json'}\n",
    "\n",
    "r = requests.post(url=url, data=data, headers=header)"
   ]
  },
  {
   "cell_type": "code",
   "execution_count": 110,
   "id": "7d75aa44",
   "metadata": {
    "ExecuteTime": {
     "end_time": "2022-06-14T22:42:27.946883Z",
     "start_time": "2022-06-14T22:42:27.941052Z"
    }
   },
   "outputs": [
    {
     "data": {
      "text/plain": [
       "200"
      ]
     },
     "execution_count": 110,
     "metadata": {},
     "output_type": "execute_result"
    }
   ],
   "source": [
    "r.status_code"
   ]
  },
  {
   "cell_type": "code",
   "execution_count": 113,
   "id": "65aa71fe",
   "metadata": {
    "ExecuteTime": {
     "end_time": "2022-06-14T22:43:33.709409Z",
     "start_time": "2022-06-14T22:43:33.588354Z"
    }
   },
   "outputs": [
    {
     "data": {
      "text/html": [
       "<div>\n",
       "<style scoped>\n",
       "    .dataframe tbody tr th:only-of-type {\n",
       "        vertical-align: middle;\n",
       "    }\n",
       "\n",
       "    .dataframe tbody tr th {\n",
       "        vertical-align: top;\n",
       "    }\n",
       "\n",
       "    .dataframe thead th {\n",
       "        text-align: right;\n",
       "    }\n",
       "</style>\n",
       "<table border=\"1\" class=\"dataframe\">\n",
       "  <thead>\n",
       "    <tr style=\"text-align: right;\">\n",
       "      <th></th>\n",
       "      <th>RowNumber</th>\n",
       "      <th>CustomerId</th>\n",
       "      <th>Surname</th>\n",
       "      <th>CreditScore</th>\n",
       "      <th>Geography</th>\n",
       "      <th>Gender</th>\n",
       "      <th>Age</th>\n",
       "      <th>Tenure</th>\n",
       "      <th>Balance</th>\n",
       "      <th>NumOfProducts</th>\n",
       "      <th>HasCrCard</th>\n",
       "      <th>IsActiveMember</th>\n",
       "      <th>EstimatedSalary</th>\n",
       "      <th>Exited</th>\n",
       "      <th>prediction</th>\n",
       "    </tr>\n",
       "  </thead>\n",
       "  <tbody>\n",
       "    <tr>\n",
       "      <th>0</th>\n",
       "      <td>1</td>\n",
       "      <td>15634602</td>\n",
       "      <td>Hargrave</td>\n",
       "      <td>619</td>\n",
       "      <td>France</td>\n",
       "      <td>Female</td>\n",
       "      <td>42</td>\n",
       "      <td>2</td>\n",
       "      <td>0.00</td>\n",
       "      <td>1</td>\n",
       "      <td>1</td>\n",
       "      <td>1</td>\n",
       "      <td>101348.88</td>\n",
       "      <td>1</td>\n",
       "      <td>1</td>\n",
       "    </tr>\n",
       "    <tr>\n",
       "      <th>1</th>\n",
       "      <td>2</td>\n",
       "      <td>15647311</td>\n",
       "      <td>Hill</td>\n",
       "      <td>608</td>\n",
       "      <td>Spain</td>\n",
       "      <td>Female</td>\n",
       "      <td>41</td>\n",
       "      <td>1</td>\n",
       "      <td>83807.86</td>\n",
       "      <td>1</td>\n",
       "      <td>0</td>\n",
       "      <td>1</td>\n",
       "      <td>112542.58</td>\n",
       "      <td>0</td>\n",
       "      <td>0</td>\n",
       "    </tr>\n",
       "    <tr>\n",
       "      <th>2</th>\n",
       "      <td>3</td>\n",
       "      <td>15619304</td>\n",
       "      <td>Onio</td>\n",
       "      <td>502</td>\n",
       "      <td>France</td>\n",
       "      <td>Female</td>\n",
       "      <td>42</td>\n",
       "      <td>8</td>\n",
       "      <td>159660.80</td>\n",
       "      <td>3</td>\n",
       "      <td>1</td>\n",
       "      <td>0</td>\n",
       "      <td>113931.57</td>\n",
       "      <td>1</td>\n",
       "      <td>1</td>\n",
       "    </tr>\n",
       "    <tr>\n",
       "      <th>3</th>\n",
       "      <td>4</td>\n",
       "      <td>15701354</td>\n",
       "      <td>Boni</td>\n",
       "      <td>699</td>\n",
       "      <td>France</td>\n",
       "      <td>Female</td>\n",
       "      <td>39</td>\n",
       "      <td>1</td>\n",
       "      <td>0.00</td>\n",
       "      <td>2</td>\n",
       "      <td>0</td>\n",
       "      <td>0</td>\n",
       "      <td>93826.63</td>\n",
       "      <td>0</td>\n",
       "      <td>0</td>\n",
       "    </tr>\n",
       "    <tr>\n",
       "      <th>4</th>\n",
       "      <td>5</td>\n",
       "      <td>15737888</td>\n",
       "      <td>Mitchell</td>\n",
       "      <td>850</td>\n",
       "      <td>Spain</td>\n",
       "      <td>Female</td>\n",
       "      <td>43</td>\n",
       "      <td>2</td>\n",
       "      <td>125510.82</td>\n",
       "      <td>1</td>\n",
       "      <td>1</td>\n",
       "      <td>1</td>\n",
       "      <td>79084.10</td>\n",
       "      <td>0</td>\n",
       "      <td>0</td>\n",
       "    </tr>\n",
       "    <tr>\n",
       "      <th>...</th>\n",
       "      <td>...</td>\n",
       "      <td>...</td>\n",
       "      <td>...</td>\n",
       "      <td>...</td>\n",
       "      <td>...</td>\n",
       "      <td>...</td>\n",
       "      <td>...</td>\n",
       "      <td>...</td>\n",
       "      <td>...</td>\n",
       "      <td>...</td>\n",
       "      <td>...</td>\n",
       "      <td>...</td>\n",
       "      <td>...</td>\n",
       "      <td>...</td>\n",
       "      <td>...</td>\n",
       "    </tr>\n",
       "    <tr>\n",
       "      <th>9995</th>\n",
       "      <td>9996</td>\n",
       "      <td>15606229</td>\n",
       "      <td>Obijiaku</td>\n",
       "      <td>771</td>\n",
       "      <td>France</td>\n",
       "      <td>Male</td>\n",
       "      <td>39</td>\n",
       "      <td>5</td>\n",
       "      <td>0.00</td>\n",
       "      <td>2</td>\n",
       "      <td>1</td>\n",
       "      <td>0</td>\n",
       "      <td>96270.64</td>\n",
       "      <td>0</td>\n",
       "      <td>0</td>\n",
       "    </tr>\n",
       "    <tr>\n",
       "      <th>9996</th>\n",
       "      <td>9997</td>\n",
       "      <td>15569892</td>\n",
       "      <td>Johnstone</td>\n",
       "      <td>516</td>\n",
       "      <td>France</td>\n",
       "      <td>Male</td>\n",
       "      <td>35</td>\n",
       "      <td>10</td>\n",
       "      <td>57369.61</td>\n",
       "      <td>1</td>\n",
       "      <td>1</td>\n",
       "      <td>1</td>\n",
       "      <td>101699.77</td>\n",
       "      <td>0</td>\n",
       "      <td>0</td>\n",
       "    </tr>\n",
       "    <tr>\n",
       "      <th>9997</th>\n",
       "      <td>9998</td>\n",
       "      <td>15584532</td>\n",
       "      <td>Liu</td>\n",
       "      <td>709</td>\n",
       "      <td>France</td>\n",
       "      <td>Female</td>\n",
       "      <td>36</td>\n",
       "      <td>7</td>\n",
       "      <td>0.00</td>\n",
       "      <td>1</td>\n",
       "      <td>0</td>\n",
       "      <td>1</td>\n",
       "      <td>42085.58</td>\n",
       "      <td>1</td>\n",
       "      <td>0</td>\n",
       "    </tr>\n",
       "    <tr>\n",
       "      <th>9998</th>\n",
       "      <td>9999</td>\n",
       "      <td>15682355</td>\n",
       "      <td>Sabbatini</td>\n",
       "      <td>772</td>\n",
       "      <td>Germany</td>\n",
       "      <td>Male</td>\n",
       "      <td>42</td>\n",
       "      <td>3</td>\n",
       "      <td>75075.31</td>\n",
       "      <td>2</td>\n",
       "      <td>1</td>\n",
       "      <td>0</td>\n",
       "      <td>92888.52</td>\n",
       "      <td>1</td>\n",
       "      <td>0</td>\n",
       "    </tr>\n",
       "    <tr>\n",
       "      <th>9999</th>\n",
       "      <td>10000</td>\n",
       "      <td>15628319</td>\n",
       "      <td>Walker</td>\n",
       "      <td>792</td>\n",
       "      <td>France</td>\n",
       "      <td>Female</td>\n",
       "      <td>28</td>\n",
       "      <td>4</td>\n",
       "      <td>130142.79</td>\n",
       "      <td>1</td>\n",
       "      <td>1</td>\n",
       "      <td>0</td>\n",
       "      <td>38190.78</td>\n",
       "      <td>0</td>\n",
       "      <td>0</td>\n",
       "    </tr>\n",
       "  </tbody>\n",
       "</table>\n",
       "<p>10000 rows × 15 columns</p>\n",
       "</div>"
      ],
      "text/plain": [
       "      RowNumber  CustomerId    Surname  CreditScore Geography  Gender  Age  \\\n",
       "0             1    15634602   Hargrave          619    France  Female   42   \n",
       "1             2    15647311       Hill          608     Spain  Female   41   \n",
       "2             3    15619304       Onio          502    France  Female   42   \n",
       "3             4    15701354       Boni          699    France  Female   39   \n",
       "4             5    15737888   Mitchell          850     Spain  Female   43   \n",
       "...         ...         ...        ...          ...       ...     ...  ...   \n",
       "9995       9996    15606229   Obijiaku          771    France    Male   39   \n",
       "9996       9997    15569892  Johnstone          516    France    Male   35   \n",
       "9997       9998    15584532        Liu          709    France  Female   36   \n",
       "9998       9999    15682355  Sabbatini          772   Germany    Male   42   \n",
       "9999      10000    15628319     Walker          792    France  Female   28   \n",
       "\n",
       "      Tenure    Balance  NumOfProducts  HasCrCard  IsActiveMember  \\\n",
       "0          2       0.00              1          1               1   \n",
       "1          1   83807.86              1          0               1   \n",
       "2          8  159660.80              3          1               0   \n",
       "3          1       0.00              2          0               0   \n",
       "4          2  125510.82              1          1               1   \n",
       "...      ...        ...            ...        ...             ...   \n",
       "9995       5       0.00              2          1               0   \n",
       "9996      10   57369.61              1          1               1   \n",
       "9997       7       0.00              1          0               1   \n",
       "9998       3   75075.31              2          1               0   \n",
       "9999       4  130142.79              1          1               0   \n",
       "\n",
       "      EstimatedSalary  Exited  prediction  \n",
       "0           101348.88       1           1  \n",
       "1           112542.58       0           0  \n",
       "2           113931.57       1           1  \n",
       "3            93826.63       0           0  \n",
       "4            79084.10       0           0  \n",
       "...               ...     ...         ...  \n",
       "9995         96270.64       0           0  \n",
       "9996        101699.77       0           0  \n",
       "9997         42085.58       1           0  \n",
       "9998         92888.52       1           0  \n",
       "9999         38190.78       0           0  \n",
       "\n",
       "[10000 rows x 15 columns]"
      ]
     },
     "execution_count": 113,
     "metadata": {},
     "output_type": "execute_result"
    }
   ],
   "source": [
    "d1 = pd.DataFrame( r.json(), columns=r.json()[0].keys())\n",
    "d1"
   ]
  }
 ],
 "metadata": {
  "kernelspec": {
   "display_name": "Python 3 (ipykernel)",
   "language": "python",
   "name": "python3"
  },
  "language_info": {
   "codemirror_mode": {
    "name": "ipython",
    "version": 3
   },
   "file_extension": ".py",
   "mimetype": "text/x-python",
   "name": "python",
   "nbconvert_exporter": "python",
   "pygments_lexer": "ipython3",
   "version": "3.10.0"
  },
  "toc": {
   "base_numbering": 1,
   "nav_menu": {},
   "number_sections": true,
   "sideBar": true,
   "skip_h1_title": false,
   "title_cell": "Table of Contents",
   "title_sidebar": "Contents",
   "toc_cell": false,
   "toc_position": {},
   "toc_section_display": true,
   "toc_window_display": false
  }
 },
 "nbformat": 4,
 "nbformat_minor": 5
}
