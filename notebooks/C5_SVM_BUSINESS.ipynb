{
 "cells": [
  {
   "cell_type": "markdown",
   "id": "c093c848",
   "metadata": {
    "ExecuteTime": {
     "end_time": "2022-06-07T20:28:12.495476Z",
     "start_time": "2022-06-07T20:28:12.491347Z"
    }
   },
   "source": [
    "# SVM Evaluation and Fine Tuning"
   ]
  },
  {
   "cell_type": "markdown",
   "id": "50114f20",
   "metadata": {
    "ExecuteTime": {
     "end_time": "2022-06-07T20:30:16.323056Z",
     "start_time": "2022-06-07T20:30:16.320445Z"
    }
   },
   "source": [
    "## Imports"
   ]
  },
  {
   "cell_type": "code",
   "execution_count": 4,
   "id": "14dda2b1",
   "metadata": {
    "ExecuteTime": {
     "end_time": "2022-06-13T23:38:47.334284Z",
     "start_time": "2022-06-13T23:38:45.450198Z"
    }
   },
   "outputs": [],
   "source": [
    "import seaborn           as sns\n",
    "import matplotlib.pyplot as plt\n",
    "import pandas            as pd\n",
    "import numpy             as np\n",
    "import inflection\n",
    "\n",
    "from IPython.display      import Image\n",
    "from IPython.core.display import HTML\n",
    "\n",
    "from fast_ml.model_development import train_valid_test_split\n",
    "\n",
    "from sklearn.preprocessing import RobustScaler, MinMaxScaler, StandardScaler\n",
    "import pickle\n",
    "\n",
    "# feature selection\n",
    "from boruta                    import BorutaPy\n",
    "from sklearn.feature_selection import RFECV\n",
    "from yellowbrick.features      import Rank1D\n",
    "\n",
    "# modeling\n",
    "from sklearn.ensemble    import RandomForestClassifier\n",
    "from sklearn.ensemble    import ExtraTreesClassifier\n",
    "from sklearn.naive_bayes import GaussianNB\n",
    "from sklearn             import base\n",
    "from sklearn             import linear_model as lm\n",
    "from sklearn             import neighbors    as nh\n",
    "import                          xgboost      as xgb\n",
    "from sklearn.linear_model    import LogisticRegression\n",
    "from sklearn.svm             import SVC\n",
    "from sklearn.dummy           import DummyClassifier\n",
    "from sklearn.model_selection import train_test_split, StratifiedKFold\n",
    "\n",
    "\n",
    "# model selection\n",
    "from sklearn.model_selection import KFold\n",
    "from sklearn.model_selection import StratifiedKFold\n",
    "\n",
    "#metrics\n",
    "import scikitplot as skplt\n",
    "from   sklearn.metrics import precision_score, recall_score, accuracy_score, balanced_accuracy_score\n",
    "import sklearn.metrics   as m\n",
    "from sklearn import metrics\n",
    "\n",
    "# tuning/CV\n",
    "import optuna as op\n",
    "from sklearn.model_selection import cross_val_score\n",
    "from sklearn.model_selection import RepeatedStratifiedKFold\n",
    "from sklearn.calibration import CalibratedClassifierCV\n",
    "from sklearn.calibration import calibration_curve\n",
    "from numpy import mean\n",
    "from matplotlib import pyplot"
   ]
  },
  {
   "cell_type": "markdown",
   "id": "cdab9087",
   "metadata": {},
   "source": [
    "## Functions"
   ]
  },
  {
   "cell_type": "code",
   "execution_count": 5,
   "id": "1ec9b4d5",
   "metadata": {
    "ExecuteTime": {
     "end_time": "2022-06-13T23:38:48.240930Z",
     "start_time": "2022-06-13T23:38:48.186346Z"
    }
   },
   "outputs": [
    {
     "data": {
      "text/html": [
       "<style>.container { width:85% !important; }</style>"
      ],
      "text/plain": [
       "<IPython.core.display.HTML object>"
      ]
     },
     "metadata": {},
     "output_type": "display_data"
    }
   ],
   "source": [
    "def jupyter_settings():\n",
    "    %matplotlib inline\n",
    "    \n",
    "    plt.style.use( 'ggplot')\n",
    "    plt.rcParams['figure.figsize'] = [24, 9]\n",
    "    plt.rcParams['font.size'] = 24\n",
    "    \n",
    "    display( HTML( '<style>.container { width:85% !important; }</style>') )\n",
    "    pd.options.display.max_columns = None\n",
    "    pd.options.display.max_rows = None\n",
    "    pd.set_option( 'display.expand_frame_repr', False )\n",
    "    \n",
    "    pd.set_option('display.float_format', lambda x: '%.2f' % x)\n",
    "    \n",
    "    sns.set()\n",
    "    \n",
    "jupyter_settings()"
   ]
  },
  {
   "cell_type": "code",
   "execution_count": 7,
   "id": "d884e175",
   "metadata": {
    "ExecuteTime": {
     "end_time": "2022-06-13T23:38:56.817724Z",
     "start_time": "2022-06-13T23:38:56.813481Z"
    }
   },
   "outputs": [],
   "source": [
    "def scores(model_name, y_true, y_pred):\n",
    "    \n",
    "    accuracy = m.balanced_accuracy_score(y_true, y_pred)\n",
    "    precision = m.precision_score(y_true, y_pred)\n",
    "    recall = m.recall_score(y_true, y_pred)\n",
    "    f1 = m.f1_score(y_true, y_pred)\n",
    "    kappa = m.cohen_kappa_score(y_true, y_pred)\n",
    "    \n",
    "    return pd.DataFrame({'Balanced Accuracy': np.round(accuracy, 3), \n",
    "                         'Precision': np.round(precision, 3), \n",
    "                         'Recall': np.round(recall, 3),\n",
    "                         'F1': np.round(f1, 3),\n",
    "                         'Kappa': np.round(kappa, 3)}, index=[model_name])"
   ]
  },
  {
   "cell_type": "code",
   "execution_count": 8,
   "id": "13c0caa7",
   "metadata": {
    "ExecuteTime": {
     "end_time": "2022-06-13T23:38:57.295284Z",
     "start_time": "2022-06-13T23:38:57.283678Z"
    }
   },
   "outputs": [],
   "source": [
    "def precision_at_k( data, k = 100 ):\n",
    "    # reset index\n",
    "    data = data.reset_index( drop=True )\n",
    "\n",
    "    # create ranking order\n",
    "    data['ranking'] = data.index + 1 \n",
    "\n",
    "    data['precision_at_k'] = data['response'].cumsum() / data['ranking']\n",
    "\n",
    "    return data.loc[k, 'precision_at_k']\n",
    "\n",
    "\n",
    "\n",
    "def recall_at_k( data, k = 100 ):\n",
    "    # reset index\n",
    "    data = data.reset_index( drop = True )\n",
    "\n",
    "    # create ranking order\n",
    "    data['ranking'] = data.index + 1 \n",
    "\n",
    "    data['recall_at_k'] = data['response'].cumsum() / data['response'].sum()\n",
    "\n",
    "    return data.loc[k, 'recall_at_k']\n",
    "\n",
    "\n",
    "    \n",
    "def cross_validation(model, x_train, y_train, k, data, Verbose = True):\n",
    "    \n",
    "    kfold = StratifiedKFold(n_splits=k, shuffle=True, random_state=28)\n",
    "    precision_list = []\n",
    "    recall_list = []\n",
    "    precision_k_list = []\n",
    "    recall_k_list = []\n",
    "    balanced_list = []\n",
    "    i=1\n",
    "\n",
    "    for train_cv, val_cv in kfold.split(x_train, y_train):\n",
    "        \n",
    "        if Verbose == True:\n",
    "            \n",
    "            print(f'Fold Number {i}/{k}')\n",
    "            \n",
    "        else:\n",
    "            pass\n",
    "        \n",
    "        x_train_fold = x_train.iloc[train_cv]\n",
    "        y_train_fold = y_train.iloc[train_cv]\n",
    "        x_val_fold = x_train.iloc[val_cv]\n",
    "        y_val_fold = y_train.iloc[val_cv]\n",
    "\n",
    "        model_fit = model.fit(x_train_fold, y_train_fold.values.ravel())\n",
    "        yhat = model.predict_proba(x_val_fold)\n",
    "        yhat_1 = model.predict(x_val_fold)\n",
    "        \n",
    "        \n",
    "        data = x_val_fold.copy()\n",
    "        data['response'] = y_val_fold.copy()\n",
    "        data['score'] = yhat[:, 1].tolist()\n",
    "        data = data.sort_values('score', ascending=False)\n",
    "\n",
    "        precision_k = precision_at_k(data, k = 100)\n",
    "        precision_k_list.append(precision_k,)\n",
    "        \n",
    "        recall_k = recall_at_k(data, k = 100)\n",
    "        recall_k_list.append(recall_k)\n",
    "        \n",
    "        precision = precision_score(y_val_fold, yhat_1)\n",
    "        precision_list.append(precision)\n",
    "        \n",
    "        recall = recall_score(y_val_fold, yhat_1)\n",
    "        recall_list.append(recall)\n",
    "\n",
    "        balanced_accuracy = accuracy_score(y_val_fold, yhat_1)\n",
    "        balanced_list.append(balanced_accuracy)\n",
    "            \n",
    "        \n",
    "        i+=1\n",
    "        \n",
    "    df = pd.DataFrame({'Model Name': type(model).__name__, \n",
    "                       'Accuracy Mean': np.mean(balanced_list).round(4),\n",
    "                       'Precision Mean': np.mean(precision_list).round(4),\n",
    "                       'Precision STD': np.std(precision_list).round(4),\n",
    "                       'Recall Mean': np.mean(recall_list).round(4),\n",
    "                       'Recall STD': np.std(recall_list).round(4),\n",
    "                       'Precision@K Mean': np.mean(precision_k_list).round(4), \n",
    "                       'Precision@K STD': np.std(precision_k_list).round(4),\n",
    "                       'Recall@K Mean': np.mean(recall_k_list).round(4), \n",
    "                       'Recall@K STD': np.std(recall_k_list).round(4)}, index = [0])\n",
    "\n",
    "    return df"
   ]
  },
  {
   "cell_type": "code",
   "execution_count": 9,
   "id": "8217f609",
   "metadata": {
    "ExecuteTime": {
     "end_time": "2022-06-13T23:38:57.590611Z",
     "start_time": "2022-06-13T23:38:57.584569Z"
    }
   },
   "outputs": [],
   "source": [
    "def plot_calibration_curve(name, fig_index, probs):\n",
    "    \"\"\"Plot calibration curve for est w/o and with calibration. \"\"\"\n",
    "\n",
    "    fig = plt.figure(fig_index, figsize=(10, 10))\n",
    "    ax1 = plt.subplot2grid((3, 1), (0, 0), rowspan=2)\n",
    "    ax2 = plt.subplot2grid((3, 1), (2, 0))\n",
    "    \n",
    "    ax1.plot([0, 1], [0, 1], \"k:\", label=\"Perfectly calibrated\")\n",
    "    \n",
    "    frac_of_pos, mean_pred_value = calibration_curve(y_test, probs, n_bins=10)\n",
    "\n",
    "    ax1.plot(mean_pred_value, frac_of_pos, \"s-\", label=f'{name}')\n",
    "    ax1.set_ylabel(\"Fraction of positives\")\n",
    "    ax1.set_ylim([-0.05, 1.05])\n",
    "    ax1.legend(loc=\"lower right\")\n",
    "    ax1.set_title(f'Calibration plot ({name})')\n",
    "    \n",
    "    ax2.hist(probs, range=(0, 1), bins=10, label=name, histtype=\"step\", lw=2)\n",
    "    ax2.set_xlabel(\"Mean predicted value\")\n",
    "    ax2.set_ylabel(\"Count\")"
   ]
  },
  {
   "cell_type": "markdown",
   "id": "d22b6ee2",
   "metadata": {},
   "source": [
    "# Data Loading"
   ]
  },
  {
   "cell_type": "code",
   "execution_count": 10,
   "id": "a73f72e9",
   "metadata": {
    "ExecuteTime": {
     "end_time": "2022-06-13T23:38:58.105906Z",
     "start_time": "2022-06-13T23:38:58.084647Z"
    }
   },
   "outputs": [],
   "source": [
    "df_raw = pd.read_csv('../data/raw/churn.csv')\n",
    "df_raw.drop('RowNumber', axis=1, inplace=True)"
   ]
  },
  {
   "cell_type": "markdown",
   "id": "11e938a7",
   "metadata": {},
   "source": [
    "## Renaming Columns"
   ]
  },
  {
   "cell_type": "code",
   "execution_count": 11,
   "id": "fbc23489",
   "metadata": {
    "ExecuteTime": {
     "end_time": "2022-06-13T23:38:58.506240Z",
     "start_time": "2022-06-13T23:38:58.501771Z"
    }
   },
   "outputs": [],
   "source": [
    "cols_old = df_raw.columns.to_list()\n",
    "\n",
    "snakecase = lambda x: inflection.underscore(x)\n",
    "\n",
    "cols_new = list(map(snakecase, cols_old))\n",
    "\n",
    "#rename\n",
    "df_raw.columns = cols_new\n",
    "df = df_raw.copy()"
   ]
  },
  {
   "cell_type": "markdown",
   "id": "2343f76e",
   "metadata": {
    "ExecuteTime": {
     "end_time": "2022-06-07T20:34:29.426318Z",
     "start_time": "2022-06-07T20:34:29.423828Z"
    }
   },
   "source": [
    "## Dropping Customer ID and Surnames"
   ]
  },
  {
   "cell_type": "code",
   "execution_count": 12,
   "id": "20c1c7af",
   "metadata": {
    "ExecuteTime": {
     "end_time": "2022-06-13T23:38:58.889604Z",
     "start_time": "2022-06-13T23:38:58.885607Z"
    }
   },
   "outputs": [],
   "source": [
    "df.drop(['customer_id','surname'], axis=1, inplace=True)"
   ]
  },
  {
   "cell_type": "markdown",
   "id": "5e9dbf7c",
   "metadata": {
    "ExecuteTime": {
     "end_time": "2022-06-07T20:42:59.146916Z",
     "start_time": "2022-06-07T20:42:59.144331Z"
    }
   },
   "source": [
    "## Splitting into Training and Testing "
   ]
  },
  {
   "cell_type": "code",
   "execution_count": 13,
   "id": "97765a6c",
   "metadata": {
    "ExecuteTime": {
     "end_time": "2022-06-13T23:38:59.455672Z",
     "start_time": "2022-06-13T23:38:59.451541Z"
    }
   },
   "outputs": [],
   "source": [
    "X = df.drop(columns=['exited'], axis=1)\n",
    "y = df.exited"
   ]
  },
  {
   "cell_type": "code",
   "execution_count": 14,
   "id": "3d624e0e",
   "metadata": {
    "ExecuteTime": {
     "end_time": "2022-06-13T23:38:59.681827Z",
     "start_time": "2022-06-13T23:38:59.672688Z"
    }
   },
   "outputs": [],
   "source": [
    "#Using stratified so its equally distributed\n",
    "\n",
    "X_train, X_test, y_train, y_test = train_test_split(X, y, test_size=.1, stratify=y)"
   ]
  },
  {
   "cell_type": "markdown",
   "id": "011a8d71",
   "metadata": {},
   "source": [
    "## Encoding"
   ]
  },
  {
   "cell_type": "code",
   "execution_count": 15,
   "id": "031a3c86",
   "metadata": {
    "ExecuteTime": {
     "end_time": "2022-06-13T23:39:00.972213Z",
     "start_time": "2022-06-13T23:39:00.959340Z"
    }
   },
   "outputs": [],
   "source": [
    "# Gender Encoding\n",
    "X_train['gender'] = X_train['gender'].map({'Male': 0, 'Female': 1})\n",
    "X_test['gender'] = X_test['gender'].map({'Male': 0, 'Female': 1})\n",
    "\n",
    "#Geography encoding\n",
    "X_train = pd.get_dummies( X_train, prefix=['geography'], columns=['geography'] )\n",
    "X_test = pd.get_dummies( X_test, prefix=['geography'], columns=['geography'] )"
   ]
  },
  {
   "cell_type": "markdown",
   "id": "deca688d",
   "metadata": {},
   "source": [
    "## Rescalling"
   ]
  },
  {
   "cell_type": "code",
   "execution_count": 16,
   "id": "bc6d6afe",
   "metadata": {
    "ExecuteTime": {
     "end_time": "2022-06-13T23:39:01.681420Z",
     "start_time": "2022-06-13T23:39:01.647684Z"
    }
   },
   "outputs": [
    {
     "data": {
      "text/html": [
       "<div>\n",
       "<style scoped>\n",
       "    .dataframe tbody tr th:only-of-type {\n",
       "        vertical-align: middle;\n",
       "    }\n",
       "\n",
       "    .dataframe tbody tr th {\n",
       "        vertical-align: top;\n",
       "    }\n",
       "\n",
       "    .dataframe thead th {\n",
       "        text-align: right;\n",
       "    }\n",
       "</style>\n",
       "<table border=\"1\" class=\"dataframe\">\n",
       "  <thead>\n",
       "    <tr style=\"text-align: right;\">\n",
       "      <th></th>\n",
       "      <th>credit_score</th>\n",
       "      <th>gender</th>\n",
       "      <th>age</th>\n",
       "      <th>tenure</th>\n",
       "      <th>balance</th>\n",
       "      <th>num_of_products</th>\n",
       "      <th>has_cr_card</th>\n",
       "      <th>is_active_member</th>\n",
       "      <th>estimated_salary</th>\n",
       "      <th>geography_France</th>\n",
       "      <th>geography_Germany</th>\n",
       "      <th>geography_Spain</th>\n",
       "    </tr>\n",
       "  </thead>\n",
       "  <tbody>\n",
       "    <tr>\n",
       "      <th>7267</th>\n",
       "      <td>-1.08</td>\n",
       "      <td>0</td>\n",
       "      <td>-0.76</td>\n",
       "      <td>0.90</td>\n",
       "      <td>0.11</td>\n",
       "      <td>1</td>\n",
       "      <td>1</td>\n",
       "      <td>0</td>\n",
       "      <td>0.50</td>\n",
       "      <td>0</td>\n",
       "      <td>1</td>\n",
       "      <td>0</td>\n",
       "    </tr>\n",
       "    <tr>\n",
       "      <th>4361</th>\n",
       "      <td>0.96</td>\n",
       "      <td>1</td>\n",
       "      <td>0.86</td>\n",
       "      <td>0.90</td>\n",
       "      <td>-0.11</td>\n",
       "      <td>1</td>\n",
       "      <td>1</td>\n",
       "      <td>0</td>\n",
       "      <td>0.24</td>\n",
       "      <td>0</td>\n",
       "      <td>1</td>\n",
       "      <td>0</td>\n",
       "    </tr>\n",
       "    <tr>\n",
       "      <th>1659</th>\n",
       "      <td>0.21</td>\n",
       "      <td>1</td>\n",
       "      <td>-0.76</td>\n",
       "      <td>0.90</td>\n",
       "      <td>0.18</td>\n",
       "      <td>2</td>\n",
       "      <td>1</td>\n",
       "      <td>1</td>\n",
       "      <td>0.00</td>\n",
       "      <td>0</td>\n",
       "      <td>0</td>\n",
       "      <td>1</td>\n",
       "    </tr>\n",
       "    <tr>\n",
       "      <th>3385</th>\n",
       "      <td>0.62</td>\n",
       "      <td>0</td>\n",
       "      <td>0.20</td>\n",
       "      <td>0.70</td>\n",
       "      <td>-0.18</td>\n",
       "      <td>1</td>\n",
       "      <td>1</td>\n",
       "      <td>1</td>\n",
       "      <td>-0.90</td>\n",
       "      <td>1</td>\n",
       "      <td>0</td>\n",
       "      <td>0</td>\n",
       "    </tr>\n",
       "    <tr>\n",
       "      <th>2010</th>\n",
       "      <td>-0.72</td>\n",
       "      <td>1</td>\n",
       "      <td>0.86</td>\n",
       "      <td>0.80</td>\n",
       "      <td>0.56</td>\n",
       "      <td>1</td>\n",
       "      <td>1</td>\n",
       "      <td>1</td>\n",
       "      <td>0.51</td>\n",
       "      <td>0</td>\n",
       "      <td>0</td>\n",
       "      <td>1</td>\n",
       "    </tr>\n",
       "  </tbody>\n",
       "</table>\n",
       "</div>"
      ],
      "text/plain": [
       "      credit_score  gender   age  tenure  balance  num_of_products  has_cr_card  is_active_member  estimated_salary  geography_France  geography_Germany  geography_Spain\n",
       "7267         -1.08       0 -0.76    0.90     0.11                1            1                 0              0.50                 0                  1                0\n",
       "4361          0.96       1  0.86    0.90    -0.11                1            1                 0              0.24                 0                  1                0\n",
       "1659          0.21       1 -0.76    0.90     0.18                2            1                 1              0.00                 0                  0                1\n",
       "3385          0.62       0  0.20    0.70    -0.18                1            1                 1             -0.90                 1                  0                0\n",
       "2010         -0.72       1  0.86    0.80     0.56                1            1                 1              0.51                 0                  0                1"
      ]
     },
     "execution_count": 16,
     "metadata": {},
     "output_type": "execute_result"
    }
   ],
   "source": [
    "#Defining scalers\n",
    "rs = RobustScaler()\n",
    "ss = StandardScaler()\n",
    "mms = MinMaxScaler()\n",
    "\n",
    "#Credit Score\n",
    "X_train['credit_score'] = rs.fit_transform(X_train[['credit_score']].values)\n",
    "pickle.dump(rs, open('../parameters/credit_score_scaler.pkl', 'wb'), protocol=pickle.HIGHEST_PROTOCOL)\n",
    "X_test['credit_score'] = rs.transform(X_test[['credit_score']].values)\n",
    "\n",
    "#Age\n",
    "X_train['age'] = ss.fit_transform(X_train[['age']].values)\n",
    "pickle.dump(ss, open('../parameters/age_scaler.pkl', 'wb'), protocol=pickle.HIGHEST_PROTOCOL)\n",
    "X_test['age'] = ss.transform(X_test[['age']].values)\n",
    "\n",
    "#Estimated Salary\n",
    "X_train['estimated_salary'] = rs.fit_transform(X_train[['estimated_salary']].values)\n",
    "pickle.dump(rs, open('../parameters/estimated_salary_scaler.pkl', 'wb'), protocol=pickle.HIGHEST_PROTOCOL)\n",
    "X_test['estimated_salary'] = rs.transform(X_test[['estimated_salary']].values)\n",
    "\n",
    "#Tenure\n",
    "X_train['tenure'] = mms.fit_transform(X_train[['tenure']].values)\n",
    "pickle.dump(mms, open('../parameters/tenure_scaler.pkl', 'wb'), protocol=pickle.HIGHEST_PROTOCOL)\n",
    "X_test['tenure'] = mms.transform(X_test[['tenure']].values)\n",
    "\n",
    "#Balance\n",
    "X_train['balance'] = rs.fit_transform(X_train[['balance']].values)\n",
    "pickle.dump(rs, open('../parameters/balance_scaler.pkl', 'wb'), protocol=pickle.HIGHEST_PROTOCOL)\n",
    "X_test['balance'] = rs.transform(X_test[['balance']].values)\n",
    "\n",
    "X_train.head()"
   ]
  },
  {
   "cell_type": "markdown",
   "id": "805d031e",
   "metadata": {},
   "source": [
    "## Feature Selection"
   ]
  },
  {
   "cell_type": "code",
   "execution_count": 17,
   "id": "3f6eb192",
   "metadata": {
    "ExecuteTime": {
     "end_time": "2022-06-13T23:39:02.337597Z",
     "start_time": "2022-06-13T23:39:02.335315Z"
    }
   },
   "outputs": [],
   "source": [
    "#Going to skip it for now, since Boruta and RFE didnt change it much."
   ]
  },
  {
   "cell_type": "markdown",
   "id": "9e835005",
   "metadata": {},
   "source": [
    "## Training the SVM"
   ]
  },
  {
   "cell_type": "code",
   "execution_count": 18,
   "id": "188355a0",
   "metadata": {
    "ExecuteTime": {
     "end_time": "2022-06-13T23:39:16.961278Z",
     "start_time": "2022-06-13T23:39:02.908220Z"
    }
   },
   "outputs": [
    {
     "data": {
      "text/html": [
       "<div>\n",
       "<style scoped>\n",
       "    .dataframe tbody tr th:only-of-type {\n",
       "        vertical-align: middle;\n",
       "    }\n",
       "\n",
       "    .dataframe tbody tr th {\n",
       "        vertical-align: top;\n",
       "    }\n",
       "\n",
       "    .dataframe thead th {\n",
       "        text-align: right;\n",
       "    }\n",
       "</style>\n",
       "<table border=\"1\" class=\"dataframe\">\n",
       "  <thead>\n",
       "    <tr style=\"text-align: right;\">\n",
       "      <th></th>\n",
       "      <th>Balanced Accuracy</th>\n",
       "      <th>Precision</th>\n",
       "      <th>Recall</th>\n",
       "      <th>F1</th>\n",
       "      <th>Kappa</th>\n",
       "    </tr>\n",
       "  </thead>\n",
       "  <tbody>\n",
       "    <tr>\n",
       "      <th>SVM</th>\n",
       "      <td>0.79</td>\n",
       "      <td>0.52</td>\n",
       "      <td>0.76</td>\n",
       "      <td>0.62</td>\n",
       "      <td>0.49</td>\n",
       "    </tr>\n",
       "  </tbody>\n",
       "</table>\n",
       "</div>"
      ],
      "text/plain": [
       "     Balanced Accuracy  Precision  Recall   F1  Kappa\n",
       "SVM               0.79       0.52    0.76 0.62   0.49"
      ]
     },
     "execution_count": 18,
     "metadata": {},
     "output_type": "execute_result"
    }
   ],
   "source": [
    "#Defining model\n",
    "SVM = SVC(class_weight='balanced', probability=True, random_state=42)\n",
    "\n",
    "#Training Model\n",
    "SVM.fit(X_train, y_train)\n",
    "\n",
    "#Model Prediction\n",
    "y_pred = SVM.predict(X_test)\n",
    "\n",
    "#Model Results\n",
    "svm_results = scores('SVM', y_test, y_pred)\n",
    "svm_results"
   ]
  },
  {
   "cell_type": "markdown",
   "id": "31b4fbda",
   "metadata": {
    "ExecuteTime": {
     "end_time": "2022-06-07T21:04:33.197596Z",
     "start_time": "2022-06-07T21:04:33.194983Z"
    }
   },
   "source": [
    "## Classification Support"
   ]
  },
  {
   "cell_type": "code",
   "execution_count": 19,
   "id": "c74b48ae",
   "metadata": {
    "ExecuteTime": {
     "end_time": "2022-06-13T23:39:16.973520Z",
     "start_time": "2022-06-13T23:39:16.964332Z"
    }
   },
   "outputs": [
    {
     "name": "stdout",
     "output_type": "stream",
     "text": [
      "              precision    recall  f1-score   support\n",
      "\n",
      "           0       0.93      0.82      0.87       796\n",
      "           1       0.52      0.76      0.62       204\n",
      "\n",
      "    accuracy                           0.81      1000\n",
      "   macro avg       0.73      0.79      0.74      1000\n",
      "weighted avg       0.85      0.81      0.82      1000\n",
      "\n"
     ]
    }
   ],
   "source": [
    "print(m.classification_report(y_test, y_pred))"
   ]
  },
  {
   "cell_type": "markdown",
   "id": "e84e3dd9",
   "metadata": {},
   "source": [
    "## Cross Validation"
   ]
  },
  {
   "cell_type": "code",
   "execution_count": 20,
   "id": "ccef6381",
   "metadata": {
    "ExecuteTime": {
     "end_time": "2022-06-13T23:40:06.832977Z",
     "start_time": "2022-06-13T23:39:16.975197Z"
    }
   },
   "outputs": [
    {
     "name": "stdout",
     "output_type": "stream",
     "text": [
      "Fold Number 1/5\n",
      "Fold Number 2/5\n",
      "Fold Number 3/5\n",
      "Fold Number 4/5\n",
      "Fold Number 5/5\n"
     ]
    },
    {
     "data": {
      "text/html": [
       "<div>\n",
       "<style scoped>\n",
       "    .dataframe tbody tr th:only-of-type {\n",
       "        vertical-align: middle;\n",
       "    }\n",
       "\n",
       "    .dataframe tbody tr th {\n",
       "        vertical-align: top;\n",
       "    }\n",
       "\n",
       "    .dataframe thead th {\n",
       "        text-align: right;\n",
       "    }\n",
       "</style>\n",
       "<table border=\"1\" class=\"dataframe\">\n",
       "  <thead>\n",
       "    <tr style=\"text-align: right;\">\n",
       "      <th></th>\n",
       "      <th>Model Name</th>\n",
       "      <th>Accuracy Mean</th>\n",
       "      <th>Precision Mean</th>\n",
       "      <th>Precision STD</th>\n",
       "      <th>Recall Mean</th>\n",
       "      <th>Recall STD</th>\n",
       "      <th>Precision@K Mean</th>\n",
       "      <th>Precision@K STD</th>\n",
       "      <th>Recall@K Mean</th>\n",
       "      <th>Recall@K STD</th>\n",
       "    </tr>\n",
       "  </thead>\n",
       "  <tbody>\n",
       "    <tr>\n",
       "      <th>0</th>\n",
       "      <td>SVC</td>\n",
       "      <td>0.80</td>\n",
       "      <td>0.51</td>\n",
       "      <td>0.01</td>\n",
       "      <td>0.73</td>\n",
       "      <td>0.02</td>\n",
       "      <td>0.89</td>\n",
       "      <td>0.03</td>\n",
       "      <td>0.25</td>\n",
       "      <td>0.01</td>\n",
       "    </tr>\n",
       "  </tbody>\n",
       "</table>\n",
       "</div>"
      ],
      "text/plain": [
       "  Model Name  Accuracy Mean  Precision Mean  Precision STD  Recall Mean  Recall STD  Precision@K Mean  Precision@K STD  Recall@K Mean  Recall@K STD\n",
       "0        SVC           0.80            0.51           0.01         0.73        0.02              0.89             0.03           0.25          0.01"
      ]
     },
     "execution_count": 20,
     "metadata": {},
     "output_type": "execute_result"
    }
   ],
   "source": [
    "cross_validation(SVM, X_train, y_train, 5, df, Verbose = True)"
   ]
  },
  {
   "cell_type": "markdown",
   "id": "637615f3",
   "metadata": {},
   "source": [
    "## Fine Tuning"
   ]
  },
  {
   "cell_type": "code",
   "execution_count": 21,
   "id": "19fbde5c",
   "metadata": {
    "ExecuteTime": {
     "end_time": "2022-06-13T23:40:06.841329Z",
     "start_time": "2022-06-13T23:40:06.837493Z"
    }
   },
   "outputs": [],
   "source": [
    "#Optuna couldnt find a much better hyperparameter selection, so I am going to use it as it is out-of-the-box."
   ]
  },
  {
   "cell_type": "markdown",
   "id": "ef04b22b",
   "metadata": {},
   "source": [
    "## AUC-ROC Curve"
   ]
  },
  {
   "cell_type": "code",
   "execution_count": 22,
   "id": "5f34e9a0",
   "metadata": {
    "ExecuteTime": {
     "end_time": "2022-06-13T23:40:07.384836Z",
     "start_time": "2022-06-13T23:40:06.843754Z"
    }
   },
   "outputs": [
    {
     "ename": "NameError",
     "evalue": "name 'pred' is not defined",
     "output_type": "error",
     "traceback": [
      "\u001b[0;31m---------------------------------------------------------------------------\u001b[0m",
      "\u001b[0;31mNameError\u001b[0m                                 Traceback (most recent call last)",
      "Input \u001b[0;32mIn [22]\u001b[0m, in \u001b[0;36m<cell line: 8>\u001b[0;34m()\u001b[0m\n\u001b[1;32m      5\u001b[0m label \u001b[38;5;241m=\u001b[39m y_test\n\u001b[1;32m      6\u001b[0m probs_svc \u001b[38;5;241m=\u001b[39m (probs_svc \u001b[38;5;241m-\u001b[39m probs_svc\u001b[38;5;241m.\u001b[39mmin()) \u001b[38;5;241m/\u001b[39m (probs_svc\u001b[38;5;241m.\u001b[39mmax() \u001b[38;5;241m-\u001b[39m probs_svc\u001b[38;5;241m.\u001b[39mmin())\n\u001b[0;32m----> 8\u001b[0m fpr, tpr, thresh \u001b[38;5;241m=\u001b[39m metrics\u001b[38;5;241m.\u001b[39mroc_curve(label, \u001b[43mpred\u001b[49m)\n\u001b[1;32m      9\u001b[0m auc \u001b[38;5;241m=\u001b[39m metrics\u001b[38;5;241m.\u001b[39mroc_auc_score(label, pred)\n\u001b[1;32m     10\u001b[0m plt\u001b[38;5;241m.\u001b[39mplot(fpr, tpr, label\u001b[38;5;241m=\u001b[39mf\u001b[38;5;124m'\u001b[39m\u001b[38;5;124mSVC, auc = \u001b[39m\u001b[38;5;124m{\u001b[39m\u001b[38;5;124mstr(round(auc,3))}\u001b[39m\u001b[38;5;124m'\u001b[39m)\n",
      "\u001b[0;31mNameError\u001b[0m: name 'pred' is not defined"
     ]
    },
    {
     "data": {
      "image/png": "[encoded data removed]",
      "text/plain": [
       "<Figure size 576x432 with 1 Axes>"
      ]
     },
     "metadata": {},
     "output_type": "display_data"
    }
   ],
   "source": [
    "plt.figure(figsize=(8,6))\n",
    "plt.plot([0, 1], [0, 1],'r--')\n",
    "\n",
    "probs_svc = SVM.decision_function(X_test)\n",
    "label = y_test\n",
    "probs_svc = (probs_svc - probs_svc.min()) / (probs_svc.max() - probs_svc.min())\n",
    "\n",
    "fpr, tpr, thresh = metrics.roc_curve(label, pred)\n",
    "auc = metrics.roc_auc_score(label, pred)\n",
    "plt.plot(fpr, tpr, label=f'SVC, auc = {str(round(auc,3))}')\n",
    "\n",
    "plt.ylabel(\"True Positive Rate\")\n",
    "plt.xlabel(\"False Positive Rate\")\n",
    "plt.title(\"AUC-ROC for two models\")\n",
    "plt.legend()\n",
    "plt.show()"
   ]
  },
  {
   "cell_type": "markdown",
   "id": "17068089",
   "metadata": {},
   "source": [
    "## Calibration Curve"
   ]
  },
  {
   "cell_type": "code",
   "execution_count": null,
   "id": "56252943",
   "metadata": {
    "ExecuteTime": {
     "end_time": "2022-06-13T23:40:07.386598Z",
     "start_time": "2022-06-13T23:40:07.386586Z"
    },
    "cell_style": "center"
   },
   "outputs": [],
   "source": [
    "plot_calibration_curve(\"SVM\", 1, probs_svc)"
   ]
  },
  {
   "cell_type": "markdown",
   "id": "a632286c",
   "metadata": {},
   "source": [
    "## SVM Calibration"
   ]
  },
  {
   "cell_type": "code",
   "execution_count": null,
   "id": "6e4d69c2",
   "metadata": {
    "ExecuteTime": {
     "end_time": "2022-06-13T23:40:07.387992Z",
     "start_time": "2022-06-13T23:40:07.387980Z"
    }
   },
   "outputs": [],
   "source": [
    "svc = SVM\n",
    "\n",
    "platts_scaling = CalibratedClassifierCV(svc, cv=10, method='sigmoid')\n",
    "platts_scaling.fit(X_train, y_train)\n",
    "calibrated_probs = platts_scaling.predict_proba(X_test)[:,1]\n",
    "\n",
    "plot_calibration_curve(\"SVM\", 3, calibrated_probs)"
   ]
  },
  {
   "cell_type": "code",
   "execution_count": null,
   "id": "83d5bcce",
   "metadata": {
    "ExecuteTime": {
     "end_time": "2022-06-13T23:40:07.389553Z",
     "start_time": "2022-06-13T23:40:07.389539Z"
    }
   },
   "outputs": [],
   "source": [
    "cross_validation(platts_scaling, X_train, y_train, 5, df, Verbose = True)"
   ]
  },
  {
   "cell_type": "markdown",
   "id": "7120ecca",
   "metadata": {},
   "source": [
    "# Business Conclusions"
   ]
  },
  {
   "cell_type": "markdown",
   "id": "99ab2a99",
   "metadata": {
    "ExecuteTime": {
     "end_time": "2022-06-08T20:41:15.407405Z",
     "start_time": "2022-06-08T20:41:15.404763Z"
    }
   },
   "source": [
    "## Final Model"
   ]
  },
  {
   "cell_type": "code",
   "execution_count": 25,
   "id": "14108d3d",
   "metadata": {
    "ExecuteTime": {
     "end_time": "2022-06-13T23:42:52.438039Z",
     "start_time": "2022-06-13T23:42:38.888661Z"
    }
   },
   "outputs": [],
   "source": [
    "SVM = SVC(class_weight='balanced', probability=True, random_state=42)\n",
    "SVM.fit(X_train, y_train)\n",
    "pickle.dump(SVM, open('../src/model.pkl', 'wb'))"
   ]
  },
  {
   "cell_type": "code",
   "execution_count": 26,
   "id": "dc7d76f6",
   "metadata": {
    "ExecuteTime": {
     "end_time": "2022-06-13T23:42:54.586927Z",
     "start_time": "2022-06-13T23:42:54.583288Z"
    }
   },
   "outputs": [],
   "source": [
    "import pickle\n",
    "model = pickle.load(open('/Users/brunoschirmer/Repos/churn/src/model.pkl', 'rb'))"
   ]
  },
  {
   "cell_type": "code",
   "execution_count": 27,
   "id": "51386db4",
   "metadata": {
    "ExecuteTime": {
     "end_time": "2022-06-13T23:42:56.047226Z",
     "start_time": "2022-06-13T23:42:55.591058Z"
    }
   },
   "outputs": [
    {
     "data": {
      "text/html": [
       "<div>\n",
       "<style scoped>\n",
       "    .dataframe tbody tr th:only-of-type {\n",
       "        vertical-align: middle;\n",
       "    }\n",
       "\n",
       "    .dataframe tbody tr th {\n",
       "        vertical-align: top;\n",
       "    }\n",
       "\n",
       "    .dataframe thead th {\n",
       "        text-align: right;\n",
       "    }\n",
       "</style>\n",
       "<table border=\"1\" class=\"dataframe\">\n",
       "  <thead>\n",
       "    <tr style=\"text-align: right;\">\n",
       "      <th></th>\n",
       "      <th>Balanced Accuracy</th>\n",
       "      <th>Precision</th>\n",
       "      <th>Recall</th>\n",
       "      <th>F1</th>\n",
       "      <th>Kappa</th>\n",
       "    </tr>\n",
       "  </thead>\n",
       "  <tbody>\n",
       "    <tr>\n",
       "      <th>Test</th>\n",
       "      <td>0.79</td>\n",
       "      <td>0.52</td>\n",
       "      <td>0.76</td>\n",
       "      <td>0.62</td>\n",
       "      <td>0.49</td>\n",
       "    </tr>\n",
       "  </tbody>\n",
       "</table>\n",
       "</div>"
      ],
      "text/plain": [
       "      Balanced Accuracy  Precision  Recall   F1  Kappa\n",
       "Test               0.79       0.52    0.76 0.62   0.49"
      ]
     },
     "execution_count": 27,
     "metadata": {},
     "output_type": "execute_result"
    }
   ],
   "source": [
    "y_pred_final = model.predict(X_test)\n",
    "scores('Test', y_test, y_pred_final)"
   ]
  },
  {
   "cell_type": "code",
   "execution_count": 28,
   "id": "cc0143c7",
   "metadata": {
    "ExecuteTime": {
     "end_time": "2022-06-13T23:44:21.265098Z",
     "start_time": "2022-06-13T23:44:21.254997Z"
    }
   },
   "outputs": [
    {
     "data": {
      "text/html": [
       "<div>\n",
       "<style scoped>\n",
       "    .dataframe tbody tr th:only-of-type {\n",
       "        vertical-align: middle;\n",
       "    }\n",
       "\n",
       "    .dataframe tbody tr th {\n",
       "        vertical-align: top;\n",
       "    }\n",
       "\n",
       "    .dataframe thead th {\n",
       "        text-align: right;\n",
       "    }\n",
       "</style>\n",
       "<table border=\"1\" class=\"dataframe\">\n",
       "  <thead>\n",
       "    <tr style=\"text-align: right;\">\n",
       "      <th></th>\n",
       "      <th>credit_score</th>\n",
       "      <th>gender</th>\n",
       "      <th>age</th>\n",
       "      <th>tenure</th>\n",
       "      <th>balance</th>\n",
       "      <th>num_of_products</th>\n",
       "      <th>has_cr_card</th>\n",
       "      <th>is_active_member</th>\n",
       "      <th>estimated_salary</th>\n",
       "      <th>geography_France</th>\n",
       "      <th>geography_Germany</th>\n",
       "      <th>geography_Spain</th>\n",
       "    </tr>\n",
       "  </thead>\n",
       "  <tbody>\n",
       "    <tr>\n",
       "      <th>4163</th>\n",
       "      <td>-0.19</td>\n",
       "      <td>1</td>\n",
       "      <td>-0.37</td>\n",
       "      <td>0.70</td>\n",
       "      <td>-0.76</td>\n",
       "      <td>2</td>\n",
       "      <td>0</td>\n",
       "      <td>1</td>\n",
       "      <td>0.94</td>\n",
       "      <td>1</td>\n",
       "      <td>0</td>\n",
       "      <td>0</td>\n",
       "    </tr>\n",
       "    <tr>\n",
       "      <th>2674</th>\n",
       "      <td>1.13</td>\n",
       "      <td>0</td>\n",
       "      <td>-1.33</td>\n",
       "      <td>0.70</td>\n",
       "      <td>0.09</td>\n",
       "      <td>1</td>\n",
       "      <td>1</td>\n",
       "      <td>0</td>\n",
       "      <td>0.28</td>\n",
       "      <td>1</td>\n",
       "      <td>0</td>\n",
       "      <td>0</td>\n",
       "    </tr>\n",
       "    <tr>\n",
       "      <th>6013</th>\n",
       "      <td>-0.78</td>\n",
       "      <td>0</td>\n",
       "      <td>-0.18</td>\n",
       "      <td>0.40</td>\n",
       "      <td>-0.76</td>\n",
       "      <td>1</td>\n",
       "      <td>1</td>\n",
       "      <td>0</td>\n",
       "      <td>0.21</td>\n",
       "      <td>0</td>\n",
       "      <td>0</td>\n",
       "      <td>1</td>\n",
       "    </tr>\n",
       "    <tr>\n",
       "      <th>968</th>\n",
       "      <td>-0.81</td>\n",
       "      <td>0</td>\n",
       "      <td>-0.18</td>\n",
       "      <td>0.30</td>\n",
       "      <td>-0.10</td>\n",
       "      <td>1</td>\n",
       "      <td>0</td>\n",
       "      <td>0</td>\n",
       "      <td>-0.21</td>\n",
       "      <td>1</td>\n",
       "      <td>0</td>\n",
       "      <td>0</td>\n",
       "    </tr>\n",
       "    <tr>\n",
       "      <th>9419</th>\n",
       "      <td>0.25</td>\n",
       "      <td>0</td>\n",
       "      <td>-1.23</td>\n",
       "      <td>0.10</td>\n",
       "      <td>-0.31</td>\n",
       "      <td>1</td>\n",
       "      <td>1</td>\n",
       "      <td>1</td>\n",
       "      <td>-0.22</td>\n",
       "      <td>0</td>\n",
       "      <td>1</td>\n",
       "      <td>0</td>\n",
       "    </tr>\n",
       "  </tbody>\n",
       "</table>\n",
       "</div>"
      ],
      "text/plain": [
       "      credit_score  gender   age  tenure  balance  num_of_products  has_cr_card  is_active_member  estimated_salary  geography_France  geography_Germany  geography_Spain\n",
       "4163         -0.19       1 -0.37    0.70    -0.76                2            0                 1              0.94                 1                  0                0\n",
       "2674          1.13       0 -1.33    0.70     0.09                1            1                 0              0.28                 1                  0                0\n",
       "6013         -0.78       0 -0.18    0.40    -0.76                1            1                 0              0.21                 0                  0                1\n",
       "968          -0.81       0 -0.18    0.30    -0.10                1            0                 0             -0.21                 1                  0                0\n",
       "9419          0.25       0 -1.23    0.10    -0.31                1            1                 1             -0.22                 0                  1                0"
      ]
     },
     "execution_count": 28,
     "metadata": {},
     "output_type": "execute_result"
    }
   ],
   "source": [
    "X_test.head()"
   ]
  },
  {
   "cell_type": "markdown",
   "id": "4b6de161",
   "metadata": {
    "heading_collapsed": true
   },
   "source": [
    "## What is TopBank's current churn rate?"
   ]
  },
  {
   "cell_type": "code",
   "execution_count": 115,
   "id": "9822eeb1",
   "metadata": {
    "ExecuteTime": {
     "end_time": "2022-06-08T21:10:23.576472Z",
     "start_time": "2022-06-08T21:10:23.572433Z"
    },
    "hidden": true
   },
   "outputs": [
    {
     "name": "stdout",
     "output_type": "stream",
     "text": [
      "Current rate is: 20.37%\n"
     ]
    }
   ],
   "source": [
    "rate = df_raw.exited.sum()/len(df_raw)*100\n",
    "print('Current rate is: {:.2f}%'.format(rate))"
   ]
  },
  {
   "cell_type": "markdown",
   "id": "1d4090a8",
   "metadata": {
    "ExecuteTime": {
     "end_time": "2022-06-08T20:55:11.433829Z",
     "start_time": "2022-06-08T20:55:11.430914Z"
    },
    "heading_collapsed": true
   },
   "source": [
    "## How does the churn rate vary monthly?"
   ]
  },
  {
   "cell_type": "code",
   "execution_count": 116,
   "id": "59031aa7",
   "metadata": {
    "ExecuteTime": {
     "end_time": "2022-06-08T21:11:14.067712Z",
     "start_time": "2022-06-08T21:11:14.063318Z"
    },
    "hidden": true
   },
   "outputs": [],
   "source": [
    "aux = df_raw[df_raw['is_active_member']==1]"
   ]
  },
  {
   "cell_type": "code",
   "execution_count": 126,
   "id": "bc62e1de",
   "metadata": {
    "ExecuteTime": {
     "end_time": "2022-06-08T21:17:12.976877Z",
     "start_time": "2022-06-08T21:17:12.971890Z"
    },
    "hidden": true
   },
   "outputs": [
    {
     "data": {
      "text/plain": [
       "14.269073966220153"
      ]
     },
     "execution_count": 126,
     "metadata": {},
     "output_type": "execute_result"
    }
   ],
   "source": [
    "monthly_rate = aux['exited'].sum()/len(aux)*100\n",
    "monthly_rate"
   ]
  },
  {
   "cell_type": "code",
   "execution_count": 128,
   "id": "8abe7eac",
   "metadata": {
    "ExecuteTime": {
     "end_time": "2022-06-08T21:17:31.969500Z",
     "start_time": "2022-06-08T21:17:31.966037Z"
    },
    "hidden": true
   },
   "outputs": [
    {
     "name": "stdout",
     "output_type": "stream",
     "text": [
      "Monthly churning rate is: 14.27%\n"
     ]
    }
   ],
   "source": [
    "print('Monthly churning rate is: {:.2f}%'.format(monthly_rate))"
   ]
  },
  {
   "cell_type": "markdown",
   "id": "4720e38c",
   "metadata": {},
   "source": [
    "## What is the expected return, in terms of revenue, if the company uses its model to avoid churn from customers?"
   ]
  },
  {
   "cell_type": "code",
   "execution_count": 199,
   "id": "c995106f",
   "metadata": {
    "ExecuteTime": {
     "end_time": "2022-06-11T20:49:50.622909Z",
     "start_time": "2022-06-11T20:49:50.618532Z"
    }
   },
   "outputs": [],
   "source": [
    "data = df_raw.copy()\n",
    "train = data.loc[:,data.columns != 'exited']\n",
    "test = data.exited"
   ]
  },
  {
   "cell_type": "code",
   "execution_count": 200,
   "id": "d3a02288",
   "metadata": {
    "ExecuteTime": {
     "end_time": "2022-06-11T20:49:51.671099Z",
     "start_time": "2022-06-11T20:49:51.643704Z"
    }
   },
   "outputs": [
    {
     "data": {
      "text/html": [
       "<div>\n",
       "<style scoped>\n",
       "    .dataframe tbody tr th:only-of-type {\n",
       "        vertical-align: middle;\n",
       "    }\n",
       "\n",
       "    .dataframe tbody tr th {\n",
       "        vertical-align: top;\n",
       "    }\n",
       "\n",
       "    .dataframe thead th {\n",
       "        text-align: right;\n",
       "    }\n",
       "</style>\n",
       "<table border=\"1\" class=\"dataframe\">\n",
       "  <thead>\n",
       "    <tr style=\"text-align: right;\">\n",
       "      <th></th>\n",
       "      <th>credit_score</th>\n",
       "      <th>gender</th>\n",
       "      <th>age</th>\n",
       "      <th>tenure</th>\n",
       "      <th>balance</th>\n",
       "      <th>num_of_products</th>\n",
       "      <th>has_cr_card</th>\n",
       "      <th>is_active_member</th>\n",
       "      <th>estimated_salary</th>\n",
       "      <th>geography_France</th>\n",
       "      <th>geography_Germany</th>\n",
       "      <th>geography_Spain</th>\n",
       "    </tr>\n",
       "  </thead>\n",
       "  <tbody>\n",
       "    <tr>\n",
       "      <th>0</th>\n",
       "      <td>-0.25</td>\n",
       "      <td>1</td>\n",
       "      <td>0.29</td>\n",
       "      <td>0.20</td>\n",
       "      <td>-0.76</td>\n",
       "      <td>1</td>\n",
       "      <td>1</td>\n",
       "      <td>1</td>\n",
       "      <td>0.01</td>\n",
       "      <td>1</td>\n",
       "      <td>0</td>\n",
       "      <td>0</td>\n",
       "    </tr>\n",
       "    <tr>\n",
       "      <th>1</th>\n",
       "      <td>-0.33</td>\n",
       "      <td>1</td>\n",
       "      <td>0.20</td>\n",
       "      <td>0.10</td>\n",
       "      <td>-0.10</td>\n",
       "      <td>1</td>\n",
       "      <td>0</td>\n",
       "      <td>1</td>\n",
       "      <td>0.13</td>\n",
       "      <td>0</td>\n",
       "      <td>0</td>\n",
       "      <td>1</td>\n",
       "    </tr>\n",
       "    <tr>\n",
       "      <th>2</th>\n",
       "      <td>-1.12</td>\n",
       "      <td>1</td>\n",
       "      <td>0.29</td>\n",
       "      <td>0.80</td>\n",
       "      <td>0.49</td>\n",
       "      <td>3</td>\n",
       "      <td>1</td>\n",
       "      <td>0</td>\n",
       "      <td>0.14</td>\n",
       "      <td>1</td>\n",
       "      <td>0</td>\n",
       "      <td>0</td>\n",
       "    </tr>\n",
       "    <tr>\n",
       "      <th>3</th>\n",
       "      <td>0.35</td>\n",
       "      <td>1</td>\n",
       "      <td>0.01</td>\n",
       "      <td>0.10</td>\n",
       "      <td>-0.76</td>\n",
       "      <td>2</td>\n",
       "      <td>0</td>\n",
       "      <td>0</td>\n",
       "      <td>-0.06</td>\n",
       "      <td>1</td>\n",
       "      <td>0</td>\n",
       "      <td>0</td>\n",
       "    </tr>\n",
       "    <tr>\n",
       "      <th>4</th>\n",
       "      <td>1.48</td>\n",
       "      <td>1</td>\n",
       "      <td>0.39</td>\n",
       "      <td>0.20</td>\n",
       "      <td>0.22</td>\n",
       "      <td>1</td>\n",
       "      <td>1</td>\n",
       "      <td>1</td>\n",
       "      <td>-0.21</td>\n",
       "      <td>0</td>\n",
       "      <td>0</td>\n",
       "      <td>1</td>\n",
       "    </tr>\n",
       "  </tbody>\n",
       "</table>\n",
       "</div>"
      ],
      "text/plain": [
       "   credit_score  gender  age  tenure  balance  num_of_products  has_cr_card  is_active_member  estimated_salary  geography_France  geography_Germany  geography_Spain\n",
       "0         -0.25       1 0.29    0.20    -0.76                1            1                 1              0.01                 1                  0                0\n",
       "1         -0.33       1 0.20    0.10    -0.10                1            0                 1              0.13                 0                  0                1\n",
       "2         -1.12       1 0.29    0.80     0.49                3            1                 0              0.14                 1                  0                0\n",
       "3          0.35       1 0.01    0.10    -0.76                2            0                 0             -0.06                 1                  0                0\n",
       "4          1.48       1 0.39    0.20     0.22                1            1                 1             -0.21                 0                  0                1"
      ]
     },
     "execution_count": 200,
     "metadata": {},
     "output_type": "execute_result"
    }
   ],
   "source": [
    "#Dropping surname and ID columns\n",
    "\n",
    "train = train.drop(columns=['surname','customer_id'])\n",
    "\n",
    "# Gender Encoding\n",
    "train['gender'] = train['gender'].map({'Male': 0, 'Female': 1})\n",
    "\n",
    "#Geography encoding\n",
    "train = pd.get_dummies( train, prefix=['geography'], columns=['geography'] )\n",
    "\n",
    "#Defining scalers\n",
    "rs = RobustScaler()\n",
    "ss = StandardScaler()\n",
    "mms = MinMaxScaler()\n",
    "\n",
    "#Credit Score\n",
    "train['credit_score'] = rs.fit_transform(train[['credit_score']].values)\n",
    "\n",
    "#Age\n",
    "train['age'] = ss.fit_transform(train[['age']].values)\n",
    "\n",
    "#Estimated Salary\n",
    "train['estimated_salary'] = rs.fit_transform(train[['estimated_salary']].values)\n",
    "\n",
    "#Tenure\n",
    "train['tenure'] = mms.fit_transform(train[['tenure']].values)\n",
    "\n",
    "#Balance\n",
    "train['balance'] = rs.fit_transform(train[['balance']].values)\n",
    "\n",
    "train.head()"
   ]
  },
  {
   "cell_type": "code",
   "execution_count": 201,
   "id": "b4fadccd",
   "metadata": {
    "ExecuteTime": {
     "end_time": "2022-06-11T20:50:12.514416Z",
     "start_time": "2022-06-11T20:49:55.856638Z"
    }
   },
   "outputs": [
    {
     "data": {
      "text/html": [
       "<style>#sk-container-id-9 {color: black;background-color: white;}#sk-container-id-9 pre{padding: 0;}#sk-container-id-9 div.sk-toggleable {background-color: white;}#sk-container-id-9 label.sk-toggleable__label {cursor: pointer;display: block;width: 100%;margin-bottom: 0;padding: 0.3em;box-sizing: border-box;text-align: center;}#sk-container-id-9 label.sk-toggleable__label-arrow:before {content: \"▸\";float: left;margin-right: 0.25em;color: #696969;}#sk-container-id-9 label.sk-toggleable__label-arrow:hover:before {color: black;}#sk-container-id-9 div.sk-estimator:hover label.sk-toggleable__label-arrow:before {color: black;}#sk-container-id-9 div.sk-toggleable__content {max-height: 0;max-width: 0;overflow: hidden;text-align: left;background-color: #f0f8ff;}#sk-container-id-9 div.sk-toggleable__content pre {margin: 0.2em;color: black;border-radius: 0.25em;background-color: #f0f8ff;}#sk-container-id-9 input.sk-toggleable__control:checked~div.sk-toggleable__content {max-height: 200px;max-width: 100%;overflow: auto;}#sk-container-id-9 input.sk-toggleable__control:checked~label.sk-toggleable__label-arrow:before {content: \"▾\";}#sk-container-id-9 div.sk-estimator input.sk-toggleable__control:checked~label.sk-toggleable__label {background-color: #d4ebff;}#sk-container-id-9 div.sk-label input.sk-toggleable__control:checked~label.sk-toggleable__label {background-color: #d4ebff;}#sk-container-id-9 input.sk-hidden--visually {border: 0;clip: rect(1px 1px 1px 1px);clip: rect(1px, 1px, 1px, 1px);height: 1px;margin: -1px;overflow: hidden;padding: 0;position: absolute;width: 1px;}#sk-container-id-9 div.sk-estimator {font-family: monospace;background-color: #f0f8ff;border: 1px dotted black;border-radius: 0.25em;box-sizing: border-box;margin-bottom: 0.5em;}#sk-container-id-9 div.sk-estimator:hover {background-color: #d4ebff;}#sk-container-id-9 div.sk-parallel-item::after {content: \"\";width: 100%;border-bottom: 1px solid gray;flex-grow: 1;}#sk-container-id-9 div.sk-label:hover label.sk-toggleable__label {background-color: #d4ebff;}#sk-container-id-9 div.sk-serial::before {content: \"\";position: absolute;border-left: 1px solid gray;box-sizing: border-box;top: 0;bottom: 0;left: 50%;z-index: 0;}#sk-container-id-9 div.sk-serial {display: flex;flex-direction: column;align-items: center;background-color: white;padding-right: 0.2em;padding-left: 0.2em;position: relative;}#sk-container-id-9 div.sk-item {position: relative;z-index: 1;}#sk-container-id-9 div.sk-parallel {display: flex;align-items: stretch;justify-content: center;background-color: white;position: relative;}#sk-container-id-9 div.sk-item::before, #sk-container-id-9 div.sk-parallel-item::before {content: \"\";position: absolute;border-left: 1px solid gray;box-sizing: border-box;top: 0;bottom: 0;left: 50%;z-index: -1;}#sk-container-id-9 div.sk-parallel-item {display: flex;flex-direction: column;z-index: 1;position: relative;background-color: white;}#sk-container-id-9 div.sk-parallel-item:first-child::after {align-self: flex-end;width: 50%;}#sk-container-id-9 div.sk-parallel-item:last-child::after {align-self: flex-start;width: 50%;}#sk-container-id-9 div.sk-parallel-item:only-child::after {width: 0;}#sk-container-id-9 div.sk-dashed-wrapped {border: 1px dashed gray;margin: 0 0.4em 0.5em 0.4em;box-sizing: border-box;padding-bottom: 0.4em;background-color: white;}#sk-container-id-9 div.sk-label label {font-family: monospace;font-weight: bold;display: inline-block;line-height: 1.2em;}#sk-container-id-9 div.sk-label-container {text-align: center;}#sk-container-id-9 div.sk-container {/* jupyter's `normalize.less` sets `[hidden] { display: none; }` but bootstrap.min.css set `[hidden] { display: none !important; }` so we also need the `!important` here to be able to override the default hidden behavior on the sphinx rendered scikit-learn.org. See: https://github.com/scikit-learn/scikit-learn/issues/21755 */display: inline-block !important;position: relative;}#sk-container-id-9 div.sk-text-repr-fallback {display: none;}</style><div id=\"sk-container-id-9\" class=\"sk-top-container\"><div class=\"sk-text-repr-fallback\"><pre>SVC(class_weight=&#x27;balanced&#x27;, probability=True, random_state=42)</pre><b>In a Jupyter environment, please rerun this cell to show the HTML representation or trust the notebook. <br />On GitHub, the HTML representation is unable to render, please try loading this page with nbviewer.org.</b></div><div class=\"sk-container\" hidden><div class=\"sk-item\"><div class=\"sk-estimator sk-toggleable\"><input class=\"sk-toggleable__control sk-hidden--visually\" id=\"sk-estimator-id-9\" type=\"checkbox\" checked><label for=\"sk-estimator-id-9\" class=\"sk-toggleable__label sk-toggleable__label-arrow\">SVC</label><div class=\"sk-toggleable__content\"><pre>SVC(class_weight=&#x27;balanced&#x27;, probability=True, random_state=42)</pre></div></div></div></div></div>"
      ],
      "text/plain": [
       "SVC(class_weight='balanced', probability=True, random_state=42)"
      ]
     },
     "execution_count": 201,
     "metadata": {},
     "output_type": "execute_result"
    }
   ],
   "source": [
    "SVM.fit(train, test)"
   ]
  },
  {
   "cell_type": "code",
   "execution_count": 202,
   "id": "61bbddf2",
   "metadata": {
    "ExecuteTime": {
     "end_time": "2022-06-11T20:50:16.984530Z",
     "start_time": "2022-06-11T20:50:12.517141Z"
    }
   },
   "outputs": [
    {
     "data": {
      "text/html": [
       "<div>\n",
       "<style scoped>\n",
       "    .dataframe tbody tr th:only-of-type {\n",
       "        vertical-align: middle;\n",
       "    }\n",
       "\n",
       "    .dataframe tbody tr th {\n",
       "        vertical-align: top;\n",
       "    }\n",
       "\n",
       "    .dataframe thead th {\n",
       "        text-align: right;\n",
       "    }\n",
       "</style>\n",
       "<table border=\"1\" class=\"dataframe\">\n",
       "  <thead>\n",
       "    <tr style=\"text-align: right;\">\n",
       "      <th></th>\n",
       "      <th>Balanced Accuracy</th>\n",
       "      <th>Precision</th>\n",
       "      <th>Recall</th>\n",
       "      <th>F1</th>\n",
       "      <th>Kappa</th>\n",
       "    </tr>\n",
       "  </thead>\n",
       "  <tbody>\n",
       "    <tr>\n",
       "      <th>Real Data</th>\n",
       "      <td>0.80</td>\n",
       "      <td>0.53</td>\n",
       "      <td>0.77</td>\n",
       "      <td>0.62</td>\n",
       "      <td>0.51</td>\n",
       "    </tr>\n",
       "  </tbody>\n",
       "</table>\n",
       "</div>"
      ],
      "text/plain": [
       "           Balanced Accuracy  Precision  Recall   F1  Kappa\n",
       "Real Data               0.80       0.53    0.77 0.62   0.51"
      ]
     },
     "execution_count": 202,
     "metadata": {},
     "output_type": "execute_result"
    }
   ],
   "source": [
    "y_pred_final = SVM.predict(train)\n",
    "scores('Real Data', test, y_pred_final)"
   ]
  },
  {
   "cell_type": "code",
   "execution_count": 206,
   "id": "a0e295c1",
   "metadata": {
    "ExecuteTime": {
     "end_time": "2022-06-11T20:53:08.234122Z",
     "start_time": "2022-06-11T20:53:08.221909Z"
    }
   },
   "outputs": [
    {
     "data": {
      "text/html": [
       "<div>\n",
       "<style scoped>\n",
       "    .dataframe tbody tr th:only-of-type {\n",
       "        vertical-align: middle;\n",
       "    }\n",
       "\n",
       "    .dataframe tbody tr th {\n",
       "        vertical-align: top;\n",
       "    }\n",
       "\n",
       "    .dataframe thead th {\n",
       "        text-align: right;\n",
       "    }\n",
       "</style>\n",
       "<table border=\"1\" class=\"dataframe\">\n",
       "  <thead>\n",
       "    <tr style=\"text-align: right;\">\n",
       "      <th></th>\n",
       "      <th>customer_id</th>\n",
       "      <th>surname</th>\n",
       "      <th>credit_score</th>\n",
       "      <th>geography</th>\n",
       "      <th>gender</th>\n",
       "      <th>age</th>\n",
       "      <th>tenure</th>\n",
       "      <th>balance</th>\n",
       "      <th>num_of_products</th>\n",
       "      <th>has_cr_card</th>\n",
       "      <th>is_active_member</th>\n",
       "      <th>estimated_salary</th>\n",
       "      <th>exited</th>\n",
       "      <th>prediction</th>\n",
       "    </tr>\n",
       "  </thead>\n",
       "  <tbody>\n",
       "    <tr>\n",
       "      <th>0</th>\n",
       "      <td>15634602</td>\n",
       "      <td>Hargrave</td>\n",
       "      <td>619</td>\n",
       "      <td>France</td>\n",
       "      <td>Female</td>\n",
       "      <td>42</td>\n",
       "      <td>2</td>\n",
       "      <td>0.00</td>\n",
       "      <td>1</td>\n",
       "      <td>1</td>\n",
       "      <td>1</td>\n",
       "      <td>101348.88</td>\n",
       "      <td>1</td>\n",
       "      <td>1</td>\n",
       "    </tr>\n",
       "    <tr>\n",
       "      <th>1</th>\n",
       "      <td>15647311</td>\n",
       "      <td>Hill</td>\n",
       "      <td>608</td>\n",
       "      <td>Spain</td>\n",
       "      <td>Female</td>\n",
       "      <td>41</td>\n",
       "      <td>1</td>\n",
       "      <td>83807.86</td>\n",
       "      <td>1</td>\n",
       "      <td>0</td>\n",
       "      <td>1</td>\n",
       "      <td>112542.58</td>\n",
       "      <td>0</td>\n",
       "      <td>0</td>\n",
       "    </tr>\n",
       "    <tr>\n",
       "      <th>2</th>\n",
       "      <td>15619304</td>\n",
       "      <td>Onio</td>\n",
       "      <td>502</td>\n",
       "      <td>France</td>\n",
       "      <td>Female</td>\n",
       "      <td>42</td>\n",
       "      <td>8</td>\n",
       "      <td>159660.80</td>\n",
       "      <td>3</td>\n",
       "      <td>1</td>\n",
       "      <td>0</td>\n",
       "      <td>113931.57</td>\n",
       "      <td>1</td>\n",
       "      <td>1</td>\n",
       "    </tr>\n",
       "    <tr>\n",
       "      <th>3</th>\n",
       "      <td>15701354</td>\n",
       "      <td>Boni</td>\n",
       "      <td>699</td>\n",
       "      <td>France</td>\n",
       "      <td>Female</td>\n",
       "      <td>39</td>\n",
       "      <td>1</td>\n",
       "      <td>0.00</td>\n",
       "      <td>2</td>\n",
       "      <td>0</td>\n",
       "      <td>0</td>\n",
       "      <td>93826.63</td>\n",
       "      <td>0</td>\n",
       "      <td>0</td>\n",
       "    </tr>\n",
       "    <tr>\n",
       "      <th>4</th>\n",
       "      <td>15737888</td>\n",
       "      <td>Mitchell</td>\n",
       "      <td>850</td>\n",
       "      <td>Spain</td>\n",
       "      <td>Female</td>\n",
       "      <td>43</td>\n",
       "      <td>2</td>\n",
       "      <td>125510.82</td>\n",
       "      <td>1</td>\n",
       "      <td>1</td>\n",
       "      <td>1</td>\n",
       "      <td>79084.10</td>\n",
       "      <td>0</td>\n",
       "      <td>0</td>\n",
       "    </tr>\n",
       "  </tbody>\n",
       "</table>\n",
       "</div>"
      ],
      "text/plain": [
       "   customer_id   surname  credit_score geography  gender  age  tenure   balance  num_of_products  has_cr_card  is_active_member  estimated_salary  exited  prediction\n",
       "0     15634602  Hargrave           619    France  Female   42       2      0.00                1            1                 1         101348.88       1           1\n",
       "1     15647311      Hill           608     Spain  Female   41       1  83807.86                1            0                 1         112542.58       0           0\n",
       "2     15619304      Onio           502    France  Female   42       8 159660.80                3            1                 0         113931.57       1           1\n",
       "3     15701354      Boni           699    France  Female   39       1      0.00                2            0                 0          93826.63       0           0\n",
       "4     15737888  Mitchell           850     Spain  Female   43       2 125510.82                1            1                 1          79084.10       0           0"
      ]
     },
     "execution_count": 206,
     "metadata": {},
     "output_type": "execute_result"
    }
   ],
   "source": [
    "pred_df = df_raw.copy()\n",
    "pred_df['prediction'] = y_pred_final\n",
    "pred_df.head()"
   ]
  },
  {
   "cell_type": "code",
   "execution_count": 208,
   "id": "793af067",
   "metadata": {
    "ExecuteTime": {
     "end_time": "2022-06-11T20:54:31.856566Z",
     "start_time": "2022-06-11T20:54:31.853385Z"
    }
   },
   "outputs": [],
   "source": [
    "salary_mean = pred_df.estimated_salary.mean()"
   ]
  },
  {
   "cell_type": "code",
   "execution_count": 216,
   "id": "9ae73632",
   "metadata": {
    "ExecuteTime": {
     "end_time": "2022-06-11T20:58:17.415934Z",
     "start_time": "2022-06-11T20:58:17.408989Z"
    }
   },
   "outputs": [],
   "source": [
    "pred_df['retained_value'] = pred_df[(pred_df['exited'] == 1) & (pred_df['prediction'] == 1)]['estimated_salary'].apply(lambda x: 0.15*x if x <= salary_mean else 0.20*x)\n",
    "pred_df['retained_value'].fillna(0, inplace=True)"
   ]
  },
  {
   "cell_type": "code",
   "execution_count": 219,
   "id": "33d3d42e",
   "metadata": {
    "ExecuteTime": {
     "end_time": "2022-06-11T21:06:29.948694Z",
     "start_time": "2022-06-11T21:06:29.940223Z"
    }
   },
   "outputs": [],
   "source": [
    "lost_revenue = pred_df[pred_df['exited'] == 1]['estimated_salary'].apply(lambda x: 0.15*x if x <= salary_mean else 0.20*x)\n",
    "retained_value = pred_df[(pred_df['exited'] == 1) & (pred_df['prediction'] == 1)]['estimated_salary'].apply(lambda x: 0.15*x if x <= salary_mean else 0.20*x) "
   ]
  },
  {
   "cell_type": "code",
   "execution_count": 236,
   "id": "fa219120",
   "metadata": {
    "ExecuteTime": {
     "end_time": "2022-06-11T21:12:47.467220Z",
     "start_time": "2022-06-11T21:12:47.462399Z"
    }
   },
   "outputs": [
    {
     "name": "stdout",
     "output_type": "stream",
     "text": [
      "Using the model, we retained R$ 29974811.45 of R$ 38846324.63.\n",
      "About 77.2% loss prevention.\n"
     ]
    }
   ],
   "source": [
    "# print('Loss without any prediction would be: R$(lost_revenue.sum()))\n",
    "print('Using the model, we retained R$ %.2f of R$ %.2f.' % (retained_value.sum(), lost_revenue.sum()))\n",
    "print('About {:.3}% loss prevention.'.format((retained_value.sum() / lost_revenue.sum()*100)))"
   ]
  },
  {
   "cell_type": "markdown",
   "id": "e5faf33f",
   "metadata": {},
   "source": [
    "## 3.5 What will be the churn rate using the model?"
   ]
  },
  {
   "cell_type": "code",
   "execution_count": 237,
   "id": "4b9da618",
   "metadata": {
    "ExecuteTime": {
     "end_time": "2022-06-11T21:14:31.831731Z",
     "start_time": "2022-06-11T21:14:31.828339Z"
    }
   },
   "outputs": [
    {
     "name": "stdout",
     "output_type": "stream",
     "text": [
      "The churn rate will be 0.23%.\n"
     ]
    }
   ],
   "source": [
    "print('The churn rate will be {:.2}%.'.format(0.23))"
   ]
  }
 ],
 "metadata": {
  "kernelspec": {
   "display_name": "Python 3 (ipykernel)",
   "language": "python",
   "name": "python3"
  },
  "language_info": {
   "codemirror_mode": {
    "name": "ipython",
    "version": 3
   },
   "file_extension": ".py",
   "mimetype": "text/x-python",
   "name": "python",
   "nbconvert_exporter": "python",
   "pygments_lexer": "ipython3",
   "version": "3.10.0"
  },
  "toc": {
   "base_numbering": 1,
   "nav_menu": {},
   "number_sections": true,
   "sideBar": true,
   "skip_h1_title": false,
   "title_cell": "Table of Contents",
   "title_sidebar": "Contents",
   "toc_cell": false,
   "toc_position": {},
   "toc_section_display": true,
   "toc_window_display": false
  }
 },
 "nbformat": 4,
 "nbformat_minor": 5
}
